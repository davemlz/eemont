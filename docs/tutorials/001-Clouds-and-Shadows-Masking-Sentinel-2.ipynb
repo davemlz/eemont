{
 "cells": [
  {
   "cell_type": "markdown",
   "metadata": {
    "colab_type": "text",
    "id": "view-in-github"
   },
   "source": [
    "[![colab](https://colab.research.google.com/assets/colab-badge.svg)](https://colab.research.google.com/github/davemlz/eemont/blob/master/docs/tutorials/001-Clouds-and-Shadows-Masking-Sentinel-2.ipynb)\n",
    "[![Open in SageMaker Studio Lab](https://studiolab.sagemaker.aws/studiolab.svg)](https://studiolab.sagemaker.aws/import/github/davemlz/eemont/blob/master/docs/tutorials/001-Clouds-and-Shadows-Masking-Sentinel-2.ipynb)\n",
    "[![Open in Planetary Computer](https://img.shields.io/badge/Open-Planetary%20Computer-black?style=flat&logo=microsoft)](https://pccompute.westeurope.cloudapp.azure.com/compute/hub/user-redirect/git-pull?repo=https://github.com/davemlz/eemont&urlpath=lab/tree/eemont/docs/tutorials/001-Clouds-and-Shadows-Masking-Sentinel-2.ipynb&branch=master)"
   ]
  },
  {
   "cell_type": "markdown",
   "metadata": {
    "id": "jZEthLln92Ep"
   },
   "source": [
    "# Clouds/Shadows Masking on Sentinel-2 Surface Reflectance Product\n",
    "_Tutorial created by **David Montero Loaiza**_: [GitHub](https://github.com/davemlz) | [Twitter](https://twitter.com/dmlmont)\n",
    "\n",
    "- GitHub Repo: [https://github.com/davemlz/eemont](https://github.com/davemlz/eemont)\n",
    "- PyPI link: [https://pypi.org/project/eemont/](https://pypi.org/project/eemont/)\n",
    "- Conda-forge: [https://anaconda.org/conda-forge/eemont](https://anaconda.org/conda-forge/eemont)\n",
    "- Documentation: [https://eemont.readthedocs.io/](https://eemont.readthedocs.io/)\n",
    "- More tutorials: [https://github.com/davemlz/eemont/tree/master/docs/tutorials](https://github.com/davemlz/eemont/tree/master/docs/tutorials)"
   ]
  },
  {
   "cell_type": "markdown",
   "metadata": {
    "id": "CD7h0hbi92Er"
   },
   "source": [
    "## Let's start!"
   ]
  },
  {
   "cell_type": "markdown",
   "metadata": {
    "id": "E0rc6Cya92Es"
   },
   "source": [
    "If required, please uncomment:"
   ]
  },
  {
   "cell_type": "code",
   "execution_count": 1,
   "metadata": {
    "id": "NYzyvKtk92Es"
   },
   "outputs": [],
   "source": [
    "#!pip install eemont\n",
    "#!pip install geemap"
   ]
  },
  {
   "cell_type": "markdown",
   "metadata": {
    "id": "x3Rm3qt_92Et"
   },
   "source": [
    "Import the required packages."
   ]
  },
  {
   "cell_type": "code",
   "execution_count": 2,
   "metadata": {
    "id": "H0C9S_Hh92Et"
   },
   "outputs": [],
   "source": [
    "import ee, eemont, geemap"
   ]
  },
  {
   "cell_type": "markdown",
   "metadata": {
    "id": "k1sdX2p592Eu"
   },
   "source": [
    "Authenticate and Initialize Earth Engine and geemap."
   ]
  },
  {
   "cell_type": "code",
   "execution_count": 3,
   "metadata": {
    "id": "7QDXqVwy8Oef"
   },
   "outputs": [],
   "source": [
    "Map = geemap.Map()"
   ]
  },
  {
   "cell_type": "markdown",
   "metadata": {
    "id": "rhUlnVbq92Ey"
   },
   "source": [
    "Example point of interest to filter the image collection."
   ]
  },
  {
   "cell_type": "code",
   "execution_count": 4,
   "metadata": {
    "id": "ctBHy0dx92Ey"
   },
   "outputs": [],
   "source": [
    "point = ee.Geometry.Point([-75.92, 2.86])"
   ]
  },
  {
   "cell_type": "markdown",
   "metadata": {
    "id": "FYguKZh892Ey"
   },
   "source": [
    "Get and filter the Sentinel-2 Surface Reflectance image collection and filter it by region and time."
   ]
  },
  {
   "cell_type": "code",
   "execution_count": 5,
   "metadata": {
    "id": "sBmM9kZn92Ez"
   },
   "outputs": [],
   "source": [
    "S2 = (ee.ImageCollection('COPERNICUS/S2_SR')\n",
    "      .filterBounds(point)\n",
    "      .filterDate('2020-01-01','2021-01-01'))"
   ]
  },
  {
   "cell_type": "markdown",
   "metadata": {
    "id": "cQJMPJVS92Ez"
   },
   "source": [
    "## Clouds/Shadows Masking\n",
    "Multiple options are included in this feature, let's take a look at them:"
   ]
  },
  {
   "cell_type": "markdown",
   "metadata": {
    "id": "AVKJYR8h92Ez"
   },
   "source": [
    "### 1. Quality Assessment masking\n",
    "Here, the Quality Assessment band is used for masking."
   ]
  },
  {
   "cell_type": "code",
   "execution_count": 6,
   "metadata": {
    "id": "d4aNNSuq92E0"
   },
   "outputs": [],
   "source": [
    "S2a = S2.maskClouds(method = 'qa')"
   ]
  },
  {
   "cell_type": "markdown",
   "metadata": {
    "id": "rpSYJilf92E0"
   },
   "source": [
    "### 2. Quality Assessment masking (without masking cirrus clouds)\n",
    "By default, cirrus clouds are masked, but if required, the *maskCirrus* parameter can be set to *False*."
   ]
  },
  {
   "cell_type": "code",
   "execution_count": 7,
   "metadata": {
    "id": "skOWcbuG92E0"
   },
   "outputs": [],
   "source": [
    "S2b = S2.maskClouds(method = 'qa', maskCirrus = False)"
   ]
  },
  {
   "cell_type": "markdown",
   "metadata": {
    "id": "RZhZmyJ-92E1"
   },
   "source": [
    "### 3. Cloud Probability masking\n",
    "Cloud Probability masking is the default method to mask clouds and shadows in Sentinel-2 (method = 'cloud_prob'). By default, the Cloud Probability threshold is 60% (prob = 60)."
   ]
  },
  {
   "cell_type": "code",
   "execution_count": 8,
   "metadata": {
    "id": "RckbgfIl92E1"
   },
   "outputs": [],
   "source": [
    "S2c = S2.maskClouds()"
   ]
  },
  {
   "cell_type": "markdown",
   "metadata": {
    "id": "Dgt4Pcn092E1"
   },
   "source": [
    "### 4. Cloud Probability masking with a different threshold value\n",
    "The threshold value for Cloud Probability can be changed. Values in the range [0.0, 100.0] are accepted."
   ]
  },
  {
   "cell_type": "code",
   "execution_count": 9,
   "metadata": {
    "id": "Z8VUud_x92E2"
   },
   "outputs": [],
   "source": [
    "S2d = S2.maskClouds(prob = 75)"
   ]
  },
  {
   "cell_type": "markdown",
   "metadata": {
    "id": "jadK1cD192E2"
   },
   "source": [
    "### 5. Cloud Probability masking with a different buffer value\n",
    "By default, clouds and shadows are dilated by a 250 m buffer to avoid border effects. This value can be changed by modifying the *buffer* parameter."
   ]
  },
  {
   "cell_type": "code",
   "execution_count": 10,
   "metadata": {
    "id": "89OTEdoe92E2"
   },
   "outputs": [],
   "source": [
    "S2e = S2.maskClouds(buffer = 500)"
   ]
  },
  {
   "cell_type": "markdown",
   "metadata": {
    "id": "TTQvuymh92E2"
   },
   "source": [
    "### 6. Cloud Probability masking with a different NIR threshold\n",
    "By default, NIR values under 0.15 are considered potential cloud shadows. This value can be changed by modifying the *dark* parameter."
   ]
  },
  {
   "cell_type": "code",
   "execution_count": 11,
   "metadata": {
    "id": "lOyQn5dV92E3"
   },
   "outputs": [],
   "source": [
    "S2f = S2.maskClouds(dark = 0.1)"
   ]
  },
  {
   "cell_type": "markdown",
   "metadata": {
    "id": "KHTKqdIc92E3"
   },
   "source": [
    "### 7. Cloud Probability masking with a different shadow search range\n",
    "By default, cloud shadows are searched within a 1000 m distance from cloud edges in the shadow direction. This value can be changed by modifying the *cloudDist* parameter."
   ]
  },
  {
   "cell_type": "code",
   "execution_count": 12,
   "metadata": {
    "id": "tZ0x3yCC92E3"
   },
   "outputs": [],
   "source": [
    "S2g = S2.maskClouds(cloudDist = 2000)"
   ]
  },
  {
   "cell_type": "markdown",
   "metadata": {
    "id": "piMm3-P792E4"
   },
   "source": [
    "### 8. Cloud Probability masking using the Cloud Displacement Index (CDI)\n",
    "CDI is an index used to avoid masking bright surfaces as clouds. By default, CDI is not used, but if required, the CDI value can be changed by modifying the *cdi* parameter. CDI values go from -1 to 1. The most used value for cloud masking is -0.5."
   ]
  },
  {
   "cell_type": "code",
   "execution_count": 13,
   "metadata": {
    "id": "kSRq-H-A92E4"
   },
   "outputs": [],
   "source": [
    "S2h = S2.maskClouds(cdi = -0.5)"
   ]
  },
  {
   "cell_type": "markdown",
   "metadata": {
    "id": "kl0IT0Pa92E4"
   },
   "source": [
    "### 9. Cloud Probability masking (without masking shadows)\n",
    "By default, shadows are masked as well as clouds, but if required, the *maskShadows* parameter can be set to *False*. This option is available for 'qa' and 'cloud_prob' methods."
   ]
  },
  {
   "cell_type": "code",
   "execution_count": 14,
   "metadata": {
    "id": "xj2frEuD92E4"
   },
   "outputs": [],
   "source": [
    "S2i = S2.maskClouds(maskShadows = False)"
   ]
  },
  {
   "cell_type": "markdown",
   "metadata": {
    "id": "cj7GKHy592E5"
   },
   "source": [
    "### 10. Cloud Probability masking of a scaled image (pixel values in [0, 1])\n",
    "By default, clouds and shadows are masked on unscaled image collections, but if the collection is scaled, the *scaledImage* MUST be set to *True*."
   ]
  },
  {
   "cell_type": "code",
   "execution_count": 15,
   "metadata": {
    "id": "ryc4zlAW92E5"
   },
   "outputs": [],
   "source": [
    "S2j = S2.scale().maskClouds(scaledImage = True)"
   ]
  },
  {
   "cell_type": "markdown",
   "metadata": {
    "id": "sOi-jAd_92E5"
   },
   "source": [
    "## Visualization"
   ]
  },
  {
   "cell_type": "markdown",
   "metadata": {
    "id": "1JgG9LhO92E5"
   },
   "source": [
    "Set the visualization parameters."
   ]
  },
  {
   "cell_type": "code",
   "execution_count": 16,
   "metadata": {
    "id": "ja17rT6g92E6"
   },
   "outputs": [],
   "source": [
    "rgbUnscaled = {'min':0, 'max':3000, 'bands':['B4','B3','B2']}\n",
    "rgbScaled = {'min':0, 'max':0.3, 'bands':['B4','B3','B2']}"
   ]
  },
  {
   "cell_type": "markdown",
   "metadata": {
    "id": "dyccJWBu92E6"
   },
   "source": [
    "Use geemap to display results."
   ]
  },
  {
   "cell_type": "code",
   "execution_count": 17,
   "metadata": {
    "colab": {
     "base_uri": "https://localhost:8080/",
     "height": 1000
    },
    "id": "9ODWuQeb92E6",
    "outputId": "b585417e-ba56-480b-a6c7-2f5402a770f6"
   },
   "outputs": [
    {
     "data": {
      "application/vnd.jupyter.widget-view+json": {
       "model_id": "4d182cdbe7a04387985d9c7ad28dea98",
       "version_major": 2,
       "version_minor": 0
      },
      "text/plain": [
       "Map(center=[2.86, -75.92], controls=(WidgetControl(options=['position', 'transparent_bg'], widget=HBox(childre…"
      ]
     },
     "metadata": {},
     "output_type": "display_data"
    }
   ],
   "source": [
    "Map.centerObject(point,10)\n",
    "Map.addLayer(S2.first(),rgbUnscaled,'No Clouds/Shadows masking')\n",
    "Map.addLayer(S2a.first(),rgbUnscaled,'QA masking')\n",
    "Map.addLayer(S2b.first(),rgbUnscaled,'QA masking with no cirrus masking')\n",
    "Map.addLayer(S2c.first(),rgbUnscaled,'60% Cloud Probability masking')\n",
    "Map.addLayer(S2d.first(),rgbUnscaled,'75% Cloud Probability masking')\n",
    "Map.addLayer(S2e.first(),rgbUnscaled,'60% Cloud Probability masking with a 500 m dilation')\n",
    "Map.addLayer(S2f.first(),rgbUnscaled,'60% Cloud Probability masking with a 0.1 NIR threshold')\n",
    "Map.addLayer(S2g.first(),rgbUnscaled,'60% Cloud Probability masking with a 2000 m cloud shadow search range')\n",
    "Map.addLayer(S2h.first(),rgbUnscaled,'60% Cloud Probability masking with a CDI of -0.5')\n",
    "Map.addLayer(S2i.first(),rgbUnscaled,'60% Cloud Probability masking with no shadow masking')\n",
    "Map.addLayer(S2j.first(),rgbScaled,'60% Cloud Probability masking of a scaled image')\n",
    "Map"
   ]
  }
 ],
 "metadata": {
  "colab": {
   "include_colab_link": true,
   "name": "001-Clouds-and-Shadows-Masking-Sentinel-2.ipynb",
   "provenance": []
  },
  "kernelspec": {
   "display_name": "Python 3",
   "language": "python",
   "name": "python3"
  },
  "language_info": {
   "codemirror_mode": {
    "name": "ipython",
    "version": 3
   },
   "file_extension": ".py",
   "mimetype": "text/x-python",
   "name": "python",
   "nbconvert_exporter": "python",
   "pygments_lexer": "ipython3",
   "version": "3.9.4"
  }
 },
 "nbformat": 4,
 "nbformat_minor": 4
}
