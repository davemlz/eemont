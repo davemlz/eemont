{
 "cells": [
  {
   "cell_type": "markdown",
   "metadata": {
    "colab_type": "text",
    "id": "view-in-github"
   },
   "source": [
    "[![colab](https://colab.research.google.com/assets/colab-badge.svg)](https://colab.research.google.com/github/davemlz/eemont/blob/master/docs/tutorials/002-Sentinel-2-Image-Collection-Scaling.ipynb)\n",
    "[![Open in SageMaker Studio Lab](https://studiolab.sagemaker.aws/studiolab.svg)](https://studiolab.sagemaker.aws/import/github/davemlz/eemont/blob/master/docs/tutorials/002-Sentinel-2-Image-Collection-Scaling.ipynb)\n",
    "[![Open in Planetary Computer](https://img.shields.io/badge/Open-Planetary%20Computer-black?style=flat&logo=microsoft)](https://pccompute.westeurope.cloudapp.azure.com/compute/hub/user-redirect/git-pull?repo=https://github.com/davemlz/eemont&urlpath=lab/tree/eemont/docs/tutorials/002-Sentinel-2-Image-Collection-Scaling.ipynb&branch=master)"
   ]
  },
  {
   "cell_type": "markdown",
   "metadata": {
    "id": "jZEthLln92Ep"
   },
   "source": [
    "# Scaling a Sentinel-2 Image Collection\n",
    "_Tutorial created by **David Montero Loaiza**_: [GitHub](https://github.com/davemlz) | [Twitter](https://twitter.com/dmlmont)\n",
    "\n",
    "- GitHub Repo: [https://github.com/davemlz/eemont](https://github.com/davemlz/eemont)\n",
    "- PyPI link: [https://pypi.org/project/eemont/](https://pypi.org/project/eemont/)\n",
    "- Conda-forge: [https://anaconda.org/conda-forge/eemont](https://anaconda.org/conda-forge/eemont)\n",
    "- Documentation: [https://eemont.readthedocs.io/](https://eemont.readthedocs.io/)\n",
    "- More tutorials: [https://github.com/davemlz/eemont/tree/master/docs/tutorials](https://github.com/davemlz/eemont/tree/master/docs/tutorials)"
   ]
  },
  {
   "cell_type": "markdown",
   "metadata": {
    "id": "CD7h0hbi92Er"
   },
   "source": [
    "## Let's start!"
   ]
  },
  {
   "cell_type": "markdown",
   "metadata": {
    "id": "E0rc6Cya92Es"
   },
   "source": [
    "If required, please uncomment:"
   ]
  },
  {
   "cell_type": "code",
   "execution_count": 1,
   "metadata": {
    "id": "NYzyvKtk92Es"
   },
   "outputs": [],
   "source": [
    "#!pip install eemont\n",
    "#!pip install geemap"
   ]
  },
  {
   "cell_type": "markdown",
   "metadata": {
    "id": "x3Rm3qt_92Et"
   },
   "source": [
    "Import the required packages."
   ]
  },
  {
   "cell_type": "code",
   "execution_count": 2,
   "metadata": {
    "id": "H0C9S_Hh92Et"
   },
   "outputs": [],
   "source": [
    "import ee, eemont, geemap"
   ]
  },
  {
   "cell_type": "markdown",
   "metadata": {
    "id": "k1sdX2p592Eu"
   },
   "source": [
    "Authenticate and Initialize Earth Engine and geemap."
   ]
  },
  {
   "cell_type": "code",
   "execution_count": 3,
   "metadata": {
    "id": "7QDXqVwy8Oef"
   },
   "outputs": [],
   "source": [
    "Map = geemap.Map()"
   ]
  },
  {
   "cell_type": "markdown",
   "metadata": {
    "id": "rhUlnVbq92Ey"
   },
   "source": [
    "Example point of interest to filter the image collection."
   ]
  },
  {
   "cell_type": "code",
   "execution_count": 4,
   "metadata": {
    "id": "ctBHy0dx92Ey"
   },
   "outputs": [],
   "source": [
    "point = ee.Geometry.Point([-75.92, 2.86])"
   ]
  },
  {
   "cell_type": "markdown",
   "metadata": {
    "id": "FYguKZh892Ey"
   },
   "source": [
    "Get and filter the Sentinel-2 Surface Reflectance image collection and filter it by region and time."
   ]
  },
  {
   "cell_type": "code",
   "execution_count": 5,
   "metadata": {
    "id": "sBmM9kZn92Ez"
   },
   "outputs": [],
   "source": [
    "S2 = (ee.ImageCollection('COPERNICUS/S2_SR')\n",
    "      .filterBounds(point)\n",
    "      .filterDate('2020-01-01','2021-01-01'))"
   ]
  },
  {
   "cell_type": "markdown",
   "metadata": {
    "id": "cQJMPJVS92Ez"
   },
   "source": [
    "## Image Scaling\n",
    "As you might know, most images in Google Earth Engine are scaled in order to fit the int datatype. To get the original values, scalars must be multiplied. This scaling changes with bands, and for the supported platforms, all bands are scaled using the `scaleAndOffset()` method, that is an extended method provided by the `eemont` package."
   ]
  },
  {
   "cell_type": "code",
   "execution_count": 6,
   "metadata": {
    "id": "d4aNNSuq92E0"
   },
   "outputs": [],
   "source": [
    "S2a = S2.scaleAndOffset()"
   ]
  },
  {
   "cell_type": "markdown",
   "metadata": {
    "id": "y-icVo8S8AY0"
   },
   "source": [
    "The `scaleAndOffset()` method does not require any additional argument, as it identifies the platform and scales the whole image collection."
   ]
  },
  {
   "cell_type": "markdown",
   "metadata": {
    "id": "sOi-jAd_92E5"
   },
   "source": [
    "## Visualization"
   ]
  },
  {
   "cell_type": "markdown",
   "metadata": {
    "id": "1JgG9LhO92E5"
   },
   "source": [
    "Set the visualization parameters."
   ]
  },
  {
   "cell_type": "code",
   "execution_count": 7,
   "metadata": {
    "id": "ja17rT6g92E6"
   },
   "outputs": [],
   "source": [
    "rgbUnscaled = {'min':0, 'max':3000, 'bands':['B4','B3','B2']}\n",
    "rgbScaled = {'min':0, 'max':0.3, 'bands':['B4','B3','B2']}"
   ]
  },
  {
   "cell_type": "markdown",
   "metadata": {
    "id": "dyccJWBu92E6"
   },
   "source": [
    "Use geemap to display results."
   ]
  },
  {
   "cell_type": "code",
   "execution_count": 8,
   "metadata": {
    "colab": {
     "base_uri": "https://localhost:8080/",
     "height": 1000
    },
    "id": "9ODWuQeb92E6",
    "outputId": "b585417e-ba56-480b-a6c7-2f5402a770f6"
   },
   "outputs": [
    {
     "data": {
      "application/vnd.jupyter.widget-view+json": {
       "model_id": "51033781369a41c6b5fad14099b9a680",
       "version_major": 2,
       "version_minor": 0
      },
      "text/plain": [
       "Map(center=[2.86, -75.92], controls=(WidgetControl(options=['position', 'transparent_bg'], widget=HBox(childre…"
      ]
     },
     "metadata": {},
     "output_type": "display_data"
    }
   ],
   "source": [
    "Map.centerObject(point,10)\n",
    "Map.addLayer(S2.first(),rgbUnscaled,'Unscaled RGB')\n",
    "Map.addLayer(S2a.first(),rgbScaled,'Scaled RGB')\n",
    "Map"
   ]
  }
 ],
 "metadata": {
  "colab": {
   "include_colab_link": true,
   "name": "002-Sentinel-2-Image-Collection-Scaling.ipynb",
   "provenance": []
  },
  "kernelspec": {
   "display_name": "Python 3",
   "language": "python",
   "name": "python3"
  },
  "language_info": {
   "codemirror_mode": {
    "name": "ipython",
    "version": 3
   },
   "file_extension": ".py",
   "mimetype": "text/x-python",
   "name": "python",
   "nbconvert_exporter": "python",
   "pygments_lexer": "ipython3",
   "version": "3.9.4"
  }
 },
 "nbformat": 4,
 "nbformat_minor": 4
}
