{
 "cells": [
  {
   "cell_type": "markdown",
   "metadata": {},
   "source": [
    "[![colab](https://colab.research.google.com/assets/colab-badge.svg)](https://colab.research.google.com/github/davemlz/eemont/blob/master/docs/tutorials/007-Clouds-Masking-Sentinel-3.ipynb)\n",
    "[![Open in SageMaker Studio Lab](https://studiolab.sagemaker.aws/studiolab.svg)](https://studiolab.sagemaker.aws/import/github/davemlz/eemont/blob/master/docs/tutorials/007-Clouds-Masking-Sentinel-3.ipynb)\n",
    "[![Open in Planetary Computer](https://img.shields.io/badge/Open-Planetary%20Computer-black?style=flat&logo=microsoft)](https://pccompute.westeurope.cloudapp.azure.com/compute/hub/user-redirect/git-pull?repo=https://github.com/davemlz/eemont&urlpath=lab/tree/eemont/docs/tutorials/007-Clouds-Masking-Sentinel-3.ipynb&branch=master)"
   ]
  },
  {
   "cell_type": "markdown",
   "metadata": {
    "id": "jZEthLln92Ep"
   },
   "source": [
    "# Clouds Masking on Sentinel-3 Radiance (Bright Pixels Masking)"
   ]
  },
  {
   "cell_type": "markdown",
   "metadata": {
    "id": "dNa470OZ8Oec"
   },
   "source": [
    "_Tutorial created by **David Montero Loaiza**_: [GitHub](https://github.com/davemlz) | [Twitter](https://twitter.com/dmlmont)\n",
    "\n",
    "- GitHub Repo: [https://github.com/davemlz/eemont](https://github.com/davemlz/eemont)\n",
    "- PyPI link: [https://pypi.org/project/eemont/](https://pypi.org/project/eemont/)\n",
    "- Conda-forge: [https://anaconda.org/conda-forge/eemont](https://anaconda.org/conda-forge/eemont)\n",
    "- Documentation: [https://eemont.readthedocs.io/](https://eemont.readthedocs.io/)\n",
    "- More tutorials: [https://github.com/davemlz/eemont/tree/master/docs/tutorials](https://github.com/davemlz/eemont/tree/master/docs/tutorials)"
   ]
  },
  {
   "cell_type": "markdown",
   "metadata": {
    "id": "CD7h0hbi92Er"
   },
   "source": [
    "## Let's start!"
   ]
  },
  {
   "cell_type": "markdown",
   "metadata": {
    "id": "E0rc6Cya92Es"
   },
   "source": [
    "If required, please uncomment:"
   ]
  },
  {
   "cell_type": "code",
   "execution_count": 1,
   "metadata": {
    "id": "NYzyvKtk92Es"
   },
   "outputs": [],
   "source": [
    "#!pip install eemont\n",
    "#!pip install geemap"
   ]
  },
  {
   "cell_type": "markdown",
   "metadata": {
    "id": "x3Rm3qt_92Et"
   },
   "source": [
    "Import the required packages."
   ]
  },
  {
   "cell_type": "code",
   "execution_count": 2,
   "metadata": {
    "id": "H0C9S_Hh92Et"
   },
   "outputs": [],
   "source": [
    "import ee, eemont, geemap"
   ]
  },
  {
   "cell_type": "markdown",
   "metadata": {
    "id": "k1sdX2p592Eu"
   },
   "source": [
    "Authenticate and Initialize Earth Engine and geemap."
   ]
  },
  {
   "cell_type": "code",
   "execution_count": 3,
   "metadata": {
    "id": "7QDXqVwy8Oef"
   },
   "outputs": [],
   "source": [
    "Map = geemap.Map()"
   ]
  },
  {
   "cell_type": "markdown",
   "metadata": {
    "id": "FYguKZh892Ey"
   },
   "source": [
    "Point of interest."
   ]
  },
  {
   "cell_type": "code",
   "execution_count": 4,
   "metadata": {
    "id": "ctBHy0dx92Ey"
   },
   "outputs": [],
   "source": [
    "point = ee.Geometry.Point([-75.92, 2.86])"
   ]
  },
  {
   "cell_type": "markdown",
   "metadata": {
    "id": "FYguKZh892Ey"
   },
   "source": [
    "Get and filter the Sentinel-3 Radiance image collection and filter it by region and time."
   ]
  },
  {
   "cell_type": "code",
   "execution_count": 5,
   "metadata": {
    "id": "sBmM9kZn92Ez"
   },
   "outputs": [],
   "source": [
    "S3 = (ee.ImageCollection('COPERNICUS/S3/OLCI')\n",
    "      .filterBounds(point)\n",
    "      .filterDate('2020-01-01','2021-01-01'))"
   ]
  },
  {
   "cell_type": "markdown",
   "metadata": {
    "id": "cQJMPJVS92Ez"
   },
   "source": [
    "## Clouds Masking\n",
    "\n",
    "The clouds in Sentinel-3 are masked according to the Bright Pixels Bitmask in the `quality_flags` band using the `maskClouds()` method."
   ]
  },
  {
   "cell_type": "code",
   "execution_count": 6,
   "metadata": {},
   "outputs": [],
   "source": [
    "S3masked = (S3.maskClouds()\n",
    "            .scaleAndOffset() # NEW! Note that we also can scale this product!\n",
    "            .first())"
   ]
  },
  {
   "cell_type": "markdown",
   "metadata": {
    "id": "AVKJYR8h92Ez"
   },
   "source": [
    "## Visualization\n",
    "\n",
    "Let's define the RGB visualization."
   ]
  },
  {
   "cell_type": "code",
   "execution_count": 7,
   "metadata": {
    "id": "d4aNNSuq92E0"
   },
   "outputs": [],
   "source": [
    "rgbVis = {\n",
    "    'min':0,\n",
    "    'max':6,\n",
    "    'bands':['Oa08_radiance', 'Oa06_radiance', 'Oa04_radiance'],\n",
    "    'gamma':1.5\n",
    "}"
   ]
  },
  {
   "cell_type": "markdown",
   "metadata": {},
   "source": [
    "Use `geemap` to display results:"
   ]
  },
  {
   "cell_type": "code",
   "execution_count": 9,
   "metadata": {},
   "outputs": [
    {
     "data": {
      "application/vnd.jupyter.widget-view+json": {
       "model_id": "588584c6ab5449a687a53fbdc0619800",
       "version_major": 2,
       "version_minor": 0
      },
      "text/plain": [
       "Map(bottom=33021368.0, center=[2.86, -75.92], controls=(WidgetControl(options=['position', 'transparent_bg'], …"
      ]
     },
     "metadata": {},
     "output_type": "display_data"
    }
   ],
   "source": [
    "Map.centerObject(point,10)\n",
    "Map.addLayer(S3.scale().first(),rgbVis,'Sentinel-3 Original')\n",
    "Map.addLayer(S3masked,rgbVis,'Sentinel-3 With Cloud Mask')\n",
    "Map"
   ]
  }
 ],
 "metadata": {
  "kernelspec": {
   "display_name": "Python 3",
   "language": "python",
   "name": "python3"
  },
  "language_info": {
   "codemirror_mode": {
    "name": "ipython",
    "version": 3
   },
   "file_extension": ".py",
   "mimetype": "text/x-python",
   "name": "python",
   "nbconvert_exporter": "python",
   "pygments_lexer": "ipython3",
   "version": "3.9.4"
  }
 },
 "nbformat": 4,
 "nbformat_minor": 4
}
