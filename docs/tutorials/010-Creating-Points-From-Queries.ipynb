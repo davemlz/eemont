{
 "cells": [
  {
   "cell_type": "markdown",
   "metadata": {},
   "source": [
    "[![colab](https://colab.research.google.com/assets/colab-badge.svg)](https://colab.research.google.com/github/davemlz/eemont/blob/master/docs/tutorials/010-Creating-Points-From-Queries.ipynb)\n",
    "[![Open in SageMaker Studio Lab](https://studiolab.sagemaker.aws/studiolab.svg)](https://studiolab.sagemaker.aws/import/github/davemlz/eemont/blob/master/docs/tutorials/010-Creating-Points-From-Queries.ipynb)\n",
    "[![Open in Planetary Computer](https://img.shields.io/badge/Open-Planetary%20Computer-black?style=flat&logo=microsoft)](https://pccompute.westeurope.cloudapp.azure.com/compute/hub/user-redirect/git-pull?repo=https://github.com/davemlz/eemont&urlpath=lab/tree/eemont/docs/tutorials/010-Creating-Points-From-Queries.ipynb&branch=master)"
   ]
  },
  {
   "cell_type": "markdown",
   "metadata": {
    "id": "jZEthLln92Ep"
   },
   "source": [
    "# Creating Points From Queries"
   ]
  },
  {
   "cell_type": "markdown",
   "metadata": {
    "id": "dNa470OZ8Oec"
   },
   "source": [
    "_Tutorial created by **David Montero Loaiza**_: [GitHub](https://github.com/davemlz) | [Twitter](https://twitter.com/dmlmont)\n",
    "\n",
    "- GitHub Repo: [https://github.com/davemlz/eemont](https://github.com/davemlz/eemont)\n",
    "- PyPI link: [https://pypi.org/project/eemont/](https://pypi.org/project/eemont/)\n",
    "- Conda-forge: [https://anaconda.org/conda-forge/eemont](https://anaconda.org/conda-forge/eemont)\n",
    "- Documentation: [https://eemont.readthedocs.io/](https://eemont.readthedocs.io/)\n",
    "- More tutorials: [https://github.com/davemlz/eemont/tree/master/docs/tutorials](https://github.com/davemlz/eemont/tree/master/docs/tutorials)"
   ]
  },
  {
   "cell_type": "markdown",
   "metadata": {
    "id": "CD7h0hbi92Er"
   },
   "source": [
    "## Let's start!"
   ]
  },
  {
   "cell_type": "markdown",
   "metadata": {
    "id": "E0rc6Cya92Es"
   },
   "source": [
    "If required, please uncomment:"
   ]
  },
  {
   "cell_type": "code",
   "execution_count": 1,
   "metadata": {
    "id": "NYzyvKtk92Es"
   },
   "outputs": [],
   "source": [
    "#!pip install eemont\n",
    "#!pip install geemap"
   ]
  },
  {
   "cell_type": "markdown",
   "metadata": {
    "id": "x3Rm3qt_92Et"
   },
   "source": [
    "Import the required packages."
   ]
  },
  {
   "cell_type": "code",
   "execution_count": 2,
   "metadata": {
    "id": "H0C9S_Hh92Et"
   },
   "outputs": [],
   "source": [
    "import ee, eemont, geemap"
   ]
  },
  {
   "cell_type": "markdown",
   "metadata": {
    "id": "k1sdX2p592Eu"
   },
   "source": [
    "Authenticate and Initialize Earth Engine and geemap."
   ]
  },
  {
   "cell_type": "code",
   "execution_count": 3,
   "metadata": {
    "id": "7QDXqVwy8Oef"
   },
   "outputs": [],
   "source": [
    "Map = geemap.Map()"
   ]
  },
  {
   "cell_type": "markdown",
   "metadata": {},
   "source": [
    "## Creating a Single Point  (ee.Geometry)"
   ]
  },
  {
   "cell_type": "markdown",
   "metadata": {},
   "source": [
    "A query is a string representing a place that is geocoded in order to get its coordinates."
   ]
  },
  {
   "cell_type": "code",
   "execution_count": 4,
   "metadata": {},
   "outputs": [],
   "source": [
    "query = 'Santa Marta, Magdalena, Colombia'"
   ]
  },
  {
   "cell_type": "markdown",
   "metadata": {},
   "source": [
    "In [eemont](https://github.com/davemlz/eemont), a point can be constructed from a query using the [geopy](https://geopy.readthedocs.io/en/latest/#) package."
   ]
  },
  {
   "cell_type": "markdown",
   "metadata": {},
   "source": [
    "> NOTE: Neither eemont nor geopy are geocoding services."
   ]
  },
  {
   "cell_type": "markdown",
   "metadata": {},
   "source": [
    "An ee.Geometry.Point can be constructed using the ee.Geometry.PointFromQuery constructor (extended through eemont):"
   ]
  },
  {
   "cell_type": "code",
   "execution_count": 5,
   "metadata": {},
   "outputs": [],
   "source": [
    "pointFromQuery = ee.Geometry.PointFromQuery(query,user_agent = 'eemont-tutorial-010')"
   ]
  },
  {
   "cell_type": "markdown",
   "metadata": {},
   "source": [
    "The `user_agent` argument must be specified: This is a string describing the name of the app that is using a geocoding service (you can use here your GEE username)."
   ]
  },
  {
   "cell_type": "markdown",
   "metadata": {},
   "source": [
    "Let's visualize our point (color blue):"
   ]
  },
  {
   "cell_type": "code",
   "execution_count": 6,
   "metadata": {},
   "outputs": [
    {
     "data": {
      "application/vnd.jupyter.widget-view+json": {
       "model_id": "4c29609ed69c4de1b415e3f8b3867185",
       "version_major": 2,
       "version_minor": 0
      },
      "text/plain": [
       "Map(center=[11.243053399999999, -74.2046826], controls=(WidgetControl(options=['position', 'transparent_bg'], …"
      ]
     },
     "metadata": {},
     "output_type": "display_data"
    }
   ],
   "source": [
    "Map.addLayer(pointFromQuery,{'color':'blue'},'Nominatim')\n",
    "Map.centerObject(pointFromQuery,10)\n",
    "Map"
   ]
  },
  {
   "cell_type": "markdown",
   "metadata": {},
   "source": [
    "By default, the geocoding service used is `nominatim` ([Open Street Maps](https://nominatim.openstreetmap.org/ui/search.html)). But it can be modified using the `geocoder` parameter (let's use the arcgis geocoding service):"
   ]
  },
  {
   "cell_type": "code",
   "execution_count": 7,
   "metadata": {},
   "outputs": [],
   "source": [
    "pointFromQuery = ee.Geometry.PointFromQuery(query,geocoder = 'arcgis',user_agent = 'eemont-tutorial-010')"
   ]
  },
  {
   "cell_type": "markdown",
   "metadata": {},
   "source": [
    "Let's visualize our point (color red):"
   ]
  },
  {
   "cell_type": "code",
   "execution_count": 8,
   "metadata": {},
   "outputs": [
    {
     "data": {
      "application/vnd.jupyter.widget-view+json": {
       "model_id": "4c29609ed69c4de1b415e3f8b3867185",
       "version_major": 2,
       "version_minor": 0
      },
      "text/plain": [
       "Map(bottom=123132.0, center=[11.226560000000063, -74.19873999999999], controls=(WidgetControl(options=['positi…"
      ]
     },
     "metadata": {},
     "output_type": "display_data"
    }
   ],
   "source": [
    "Map.addLayer(pointFromQuery,{'color':'red'},'Arcgis')\n",
    "Map.centerObject(pointFromQuery,10)\n",
    "Map"
   ]
  },
  {
   "cell_type": "markdown",
   "metadata": {},
   "source": [
    "As you can see, different geocoding services may give different results."
   ]
  },
  {
   "cell_type": "markdown",
   "metadata": {},
   "source": [
    "## Creating a Single Point with Properties (ee.Feature)"
   ]
  },
  {
   "cell_type": "markdown",
   "metadata": {},
   "source": [
    "A feature can also be created using the ee.Feature.PointFromQuery constructor (extended through eemont):"
   ]
  },
  {
   "cell_type": "code",
   "execution_count": 9,
   "metadata": {},
   "outputs": [],
   "source": [
    "featureFromQuery = ee.Feature.PointFromQuery(query,user_agent = 'eemont-tutorial-010')"
   ]
  },
  {
   "cell_type": "markdown",
   "metadata": {},
   "source": [
    "Let's explore the feature:"
   ]
  },
  {
   "cell_type": "code",
   "execution_count": 10,
   "metadata": {},
   "outputs": [
    {
     "data": {
      "text/plain": [
       "{'type': 'Feature',\n",
       " 'geometry': {'type': 'Point', 'coordinates': [-74.2046826, 11.2430534]},\n",
       " 'properties': {'boundingbox': ['11.0830534',\n",
       "   '11.4030534',\n",
       "   '-74.3646826',\n",
       "   '-74.0446826'],\n",
       "  'class': 'place',\n",
       "  'display_name': 'Santa Marta, Magdalena, 470004, Colombia',\n",
       "  'icon': 'https://nominatim.openstreetmap.org/ui/mapicons//poi_place_city.p.20.png',\n",
       "  'importance': 0.92123821435197,\n",
       "  'lat': '11.2430534',\n",
       "  'licence': 'Data © OpenStreetMap contributors, ODbL 1.0. https://osm.org/copyright',\n",
       "  'lon': '-74.2046826',\n",
       "  'osm_id': 298024011,\n",
       "  'osm_type': 'node',\n",
       "  'place_id': 1101199,\n",
       "  'type': 'city'}}"
      ]
     },
     "execution_count": 10,
     "metadata": {},
     "output_type": "execute_result"
    }
   ],
   "source": [
    "featureFromQuery.getInfo()"
   ]
  },
  {
   "cell_type": "markdown",
   "metadata": {},
   "source": [
    "The raw properties of the place obtained from the geocoding service are converted into the feature properties. Let's check the properties from the arcgis geocoder:"
   ]
  },
  {
   "cell_type": "code",
   "execution_count": 11,
   "metadata": {},
   "outputs": [
    {
     "data": {
      "text/plain": [
       "{'type': 'Feature',\n",
       " 'geometry': {'type': 'Point',\n",
       "  'coordinates': [-74.19873999999999, 11.226560000000063]},\n",
       " 'properties': {'address': 'Santa Marta, Magdalena',\n",
       "  'attributes': {},\n",
       "  'extent': {'xmax': -73.89873999999999,\n",
       "   'xmin': -74.49873999999998,\n",
       "   'ymax': 11.526560000000064,\n",
       "   'ymin': 10.926560000000062},\n",
       "  'location': {'x': -74.19873999999999, 'y': 11.226560000000063},\n",
       "  'score': 100}}"
      ]
     },
     "execution_count": 11,
     "metadata": {},
     "output_type": "execute_result"
    }
   ],
   "source": [
    "featureFromQuery = ee.Feature.PointFromQuery(query,geocoder = 'arcgis',user_agent = 'eemont-tutorial-010')\n",
    "featureFromQuery.getInfo()"
   ]
  },
  {
   "cell_type": "markdown",
   "metadata": {},
   "source": [
    "Different properties are obtained using different geocoders."
   ]
  },
  {
   "cell_type": "markdown",
   "metadata": {},
   "source": [
    "## Creating a MultiPoint Geometry (ee.Geometry)"
   ]
  },
  {
   "cell_type": "markdown",
   "metadata": {},
   "source": [
    "When a query is geocoded, usually more than one location is retrieved. To get all locations, the ee.Geometry.MultiPointFromQuery constructor (extended through eemont) can be used:"
   ]
  },
  {
   "cell_type": "code",
   "execution_count": 12,
   "metadata": {},
   "outputs": [],
   "source": [
    "query = 'Amazonas'"
   ]
  },
  {
   "cell_type": "code",
   "execution_count": 13,
   "metadata": {},
   "outputs": [],
   "source": [
    "multiPointFromQuery = ee.Geometry.MultiPointFromQuery(query,user_agent = 'eemont-tutorial-010')"
   ]
  },
  {
   "cell_type": "markdown",
   "metadata": {},
   "source": [
    "Let's visualize our new points (color green):"
   ]
  },
  {
   "cell_type": "code",
   "execution_count": 14,
   "metadata": {},
   "outputs": [
    {
     "data": {
      "application/vnd.jupyter.widget-view+json": {
       "model_id": "4c29609ed69c4de1b415e3f8b3867185",
       "version_major": 2,
       "version_minor": 0
      },
      "text/plain": [
       "Map(bottom=123144.0, center=[-1.831412090843453, -68.6237952023083], controls=(WidgetControl(options=['positio…"
      ]
     },
     "metadata": {},
     "output_type": "display_data"
    }
   ],
   "source": [
    "Map.addLayer(multiPointFromQuery,{'color':'green'},'MultiPoint Nominatim')\n",
    "Map.centerObject(multiPointFromQuery,5)\n",
    "Map"
   ]
  },
  {
   "cell_type": "markdown",
   "metadata": {},
   "source": [
    "## Creating a MultiPoint with Properties (ee.FeatureCollection)"
   ]
  },
  {
   "cell_type": "markdown",
   "metadata": {},
   "source": [
    "A set of features can be created using the ee.FeatureCollection.MultiPointFromQuery constructor (extended through eemont):"
   ]
  },
  {
   "cell_type": "code",
   "execution_count": 15,
   "metadata": {},
   "outputs": [],
   "source": [
    "multiPointFromQueryFC = ee.FeatureCollection.MultiPointFromQuery(query,user_agent = 'eemont-tutorial-010')"
   ]
  },
  {
   "cell_type": "markdown",
   "metadata": {},
   "source": [
    "Let's check the properties:"
   ]
  },
  {
   "cell_type": "code",
   "execution_count": 16,
   "metadata": {},
   "outputs": [
    {
     "data": {
      "text/plain": [
       "{'type': 'FeatureCollection',\n",
       " 'columns': {'boundingbox': 'List<String>',\n",
       "  'class': 'String',\n",
       "  'display_name': 'String',\n",
       "  'importance': 'Float',\n",
       "  'lat': 'String',\n",
       "  'licence': 'String',\n",
       "  'lon': 'String',\n",
       "  'osm_id': 'Number',\n",
       "  'osm_type': 'String',\n",
       "  'place_id': 'Integer',\n",
       "  'system:index': 'String',\n",
       "  'type': 'String'},\n",
       " 'features': [{'type': 'Feature',\n",
       "   'geometry': {'type': 'Point', 'coordinates': [-63.5185396, -4.479925]},\n",
       "   'id': '0',\n",
       "   'properties': {'boundingbox': ['-9.8180459',\n",
       "     '2.23011',\n",
       "     '-73.7984196',\n",
       "     '-56.097'],\n",
       "    'class': 'boundary',\n",
       "    'display_name': 'Amazonas, Região Norte, Brasil',\n",
       "    'icon': 'https://nominatim.openstreetmap.org/ui/mapicons//poi_boundary_administrative.p.20.png',\n",
       "    'importance': 0.7108827273241386,\n",
       "    'lat': '-4.479925',\n",
       "    'licence': 'Data © OpenStreetMap contributors, ODbL 1.0. https://osm.org/copyright',\n",
       "    'lon': '-63.5185396',\n",
       "    'osm_id': 332476,\n",
       "    'osm_type': 'relation',\n",
       "    'place_id': 282617930,\n",
       "    'type': 'administrative'}},\n",
       "  {'type': 'Feature',\n",
       "   'geometry': {'type': 'Point', 'coordinates': [-78, -5]},\n",
       "   'id': '1',\n",
       "   'properties': {'boundingbox': ['-6.9867594',\n",
       "     '-2.9860745',\n",
       "     '-78.7121777',\n",
       "     '-77.1323027'],\n",
       "    'class': 'boundary',\n",
       "    'display_name': 'Amazonas, Perú',\n",
       "    'icon': 'https://nominatim.openstreetmap.org/ui/mapicons//poi_boundary_administrative.p.20.png',\n",
       "    'importance': 0.5895702362113853,\n",
       "    'lat': '-5',\n",
       "    'licence': 'Data © OpenStreetMap contributors, ODbL 1.0. https://osm.org/copyright',\n",
       "    'lon': '-78',\n",
       "    'osm_id': 1973462,\n",
       "    'osm_type': 'relation',\n",
       "    'place_id': 282618588,\n",
       "    'type': 'administrative'}},\n",
       "  {'type': 'Feature',\n",
       "   'geometry': {'type': 'Point',\n",
       "    'coordinates': [-65.78662101199382, 3.4220146]},\n",
       "   'id': '2',\n",
       "   'properties': {'boundingbox': ['0.647529',\n",
       "     '6.1964813',\n",
       "     '-67.8643306',\n",
       "     '-63.363197'],\n",
       "    'class': 'boundary',\n",
       "    'display_name': 'Amazonas, Venezuela',\n",
       "    'icon': 'https://nominatim.openstreetmap.org/ui/mapicons//poi_boundary_administrative.p.20.png',\n",
       "    'importance': 0.5885060158874998,\n",
       "    'lat': '3.4220146',\n",
       "    'licence': 'Data © OpenStreetMap contributors, ODbL 1.0. https://osm.org/copyright',\n",
       "    'lon': '-65.78662101199382',\n",
       "    'osm_id': 2269815,\n",
       "    'osm_type': 'relation',\n",
       "    'place_id': 282668106,\n",
       "    'type': 'administrative'}},\n",
       "  {'type': 'Feature',\n",
       "   'geometry': {'type': 'Point', 'coordinates': [-66, 3.5]},\n",
       "   'id': '3',\n",
       "   'properties': {'boundingbox': ['0.9', '6.1', '-68.6', '-63.4'],\n",
       "    'class': 'place',\n",
       "    'display_name': 'Amazonas, Venezuela',\n",
       "    'importance': 0.5885060158874998,\n",
       "    'lat': '3.5',\n",
       "    'licence': 'Data © OpenStreetMap contributors, ODbL 1.0. https://osm.org/copyright',\n",
       "    'lon': '-66',\n",
       "    'osm_id': 313466992,\n",
       "    'osm_type': 'node',\n",
       "    'place_id': 1182452,\n",
       "    'type': 'state'}},\n",
       "  {'type': 'Feature',\n",
       "   'geometry': {'type': 'Point', 'coordinates': [-71.9383333, -1.0197136]},\n",
       "   'id': '4',\n",
       "   'properties': {'boundingbox': ['-4.2316872',\n",
       "     '0.1117569',\n",
       "     '-74.3901656',\n",
       "     '-69.3952343'],\n",
       "    'class': 'boundary',\n",
       "    'display_name': 'Amazonas, Colombia',\n",
       "    'icon': 'https://nominatim.openstreetmap.org/ui/mapicons//poi_boundary_administrative.p.20.png',\n",
       "    'importance': 0.5882173390160759,\n",
       "    'lat': '-1.0197136',\n",
       "    'licence': 'Data © OpenStreetMap contributors, ODbL 1.0. https://osm.org/copyright',\n",
       "    'lon': '-71.9383333',\n",
       "    'osm_id': 1303962,\n",
       "    'osm_type': 'relation',\n",
       "    'place_id': 282525735,\n",
       "    'type': 'administrative'}},\n",
       "  {'type': 'Feature',\n",
       "   'geometry': {'type': 'Point',\n",
       "    'coordinates': [-78.79173712416429, -3.43124245]},\n",
       "   'id': '5',\n",
       "   'properties': {'boundingbox': ['-3.5494547',\n",
       "     '-3.3141943',\n",
       "     '-78.8804479',\n",
       "     '-78.7077377'],\n",
       "    'class': 'boundary',\n",
       "    'display_name': 'Amazonas (Rosario de Cuyes), Gualaquiza, Morona Santiago, Ecuador',\n",
       "    'icon': 'https://nominatim.openstreetmap.org/ui/mapicons//poi_boundary_administrative.p.20.png',\n",
       "    'importance': 0.44999999999999996,\n",
       "    'lat': '-3.43124245',\n",
       "    'licence': 'Data © OpenStreetMap contributors, ODbL 1.0. https://osm.org/copyright',\n",
       "    'lon': '-78.79173712416429',\n",
       "    'osm_id': 2661220,\n",
       "    'osm_type': 'relation',\n",
       "    'place_id': 282764830,\n",
       "    'type': 'administrative'}},\n",
       "  {'type': 'Feature',\n",
       "   'geometry': {'type': 'Point', 'coordinates': [-58.0778526, -2.8429261]},\n",
       "   'id': '6',\n",
       "   'properties': {'boundingbox': ['-4.4421898',\n",
       "     '0.7065296',\n",
       "     '-73.4501259',\n",
       "     '-49.2759133'],\n",
       "    'class': 'waterway',\n",
       "    'display_name': 'Rio Amazonas, Região Norte, 69640–000, Brasil',\n",
       "    'importance': 0.4,\n",
       "    'lat': '-2.8429261',\n",
       "    'licence': 'Data © OpenStreetMap contributors, ODbL 1.0. https://osm.org/copyright',\n",
       "    'lon': '-58.0778526',\n",
       "    'osm_id': 2295651,\n",
       "    'osm_type': 'relation',\n",
       "    'place_id': 282665096,\n",
       "    'type': 'river'}},\n",
       "  {'type': 'Feature',\n",
       "   'geometry': {'type': 'Point', 'coordinates': [-73.5283314, -4.4601154]},\n",
       "   'id': '7',\n",
       "   'properties': {'boundingbox': ['-4.4801154',\n",
       "     '-4.4401154',\n",
       "     '-73.5483314',\n",
       "     '-73.5083314'],\n",
       "    'class': 'place',\n",
       "    'display_name': 'Amazonas, Nauta, Loreto, Perú',\n",
       "    'icon': 'https://nominatim.openstreetmap.org/ui/mapicons//poi_place_village.p.20.png',\n",
       "    'importance': 0.385,\n",
       "    'lat': '-4.4601154',\n",
       "    'licence': 'Data © OpenStreetMap contributors, ODbL 1.0. https://osm.org/copyright',\n",
       "    'lon': '-73.5283314',\n",
       "    'osm_id': 5366208059,\n",
       "    'osm_type': 'node',\n",
       "    'place_id': 58751289,\n",
       "    'type': 'village'}},\n",
       "  {'type': 'Feature',\n",
       "   'geometry': {'type': 'Point', 'coordinates': [-77.6988449, -2.1629408]},\n",
       "   'id': '8',\n",
       "   'properties': {'boundingbox': ['-2.1829408',\n",
       "     '-2.1429408',\n",
       "     '-77.7188449',\n",
       "     '-77.6788449'],\n",
       "    'class': 'place',\n",
       "    'display_name': 'Amazonas, Macuma, Cantón Taisha, Morona Santiago, Ecuador',\n",
       "    'icon': 'https://nominatim.openstreetmap.org/ui/mapicons//poi_place_village.p.20.png',\n",
       "    'importance': 0.385,\n",
       "    'lat': '-2.1629408',\n",
       "    'licence': 'Data © OpenStreetMap contributors, ODbL 1.0. https://osm.org/copyright',\n",
       "    'lon': '-77.6988449',\n",
       "    'osm_id': 3967333427,\n",
       "    'osm_type': 'node',\n",
       "    'place_id': 46981332,\n",
       "    'type': 'village'}},\n",
       "  {'type': 'Feature',\n",
       "   'geometry': {'type': 'Point', 'coordinates': [-52.8005505, -1.6305629]},\n",
       "   'id': '9',\n",
       "   'properties': {'boundingbox': ['-1.6442518',\n",
       "     '-1.5801141',\n",
       "     '-52.9194198',\n",
       "     '-52.68734'],\n",
       "    'class': 'waterway',\n",
       "    'display_name': 'Rio Amazonas, Almeirim, Região Geográfica Imediata de Almeirim - Porto de Moz, Região Geográfica Intermediária de Altamira, Pará, Região Norte, Brasil',\n",
       "    'importance': 0.375,\n",
       "    'lat': '-1.6305629',\n",
       "    'licence': 'Data © OpenStreetMap contributors, ODbL 1.0. https://osm.org/copyright',\n",
       "    'lon': '-52.8005505',\n",
       "    'osm_id': 667790311,\n",
       "    'osm_type': 'way',\n",
       "    'place_id': 234988367,\n",
       "    'type': 'river'}}]}"
      ]
     },
     "execution_count": 16,
     "metadata": {},
     "output_type": "execute_result"
    }
   ],
   "source": [
    "multiPointFromQueryFC.getInfo()"
   ]
  }
 ],
 "metadata": {
  "kernelspec": {
   "display_name": "Python 3",
   "language": "python",
   "name": "python3"
  },
  "language_info": {
   "codemirror_mode": {
    "name": "ipython",
    "version": 3
   },
   "file_extension": ".py",
   "mimetype": "text/x-python",
   "name": "python",
   "nbconvert_exporter": "python",
   "pygments_lexer": "ipython3",
   "version": "3.9.4"
  }
 },
 "nbformat": 4,
 "nbformat_minor": 4
}
