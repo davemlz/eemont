{
 "cells": [
  {
   "cell_type": "markdown",
   "metadata": {},
   "source": [
    "[![colab](https://colab.research.google.com/assets/colab-badge.svg)](https://colab.research.google.com/github/davemlz/eemont/blob/master/docs/tutorials/015-Scaling-ANY-Raster-From-GEE-STAC.ipynb)\n",
    "[![Open in SageMaker Studio Lab](https://studiolab.sagemaker.aws/studiolab.svg)](https://studiolab.sagemaker.aws/import/github/davemlz/eemont/blob/master/docs/tutorials/015-Scaling-ANY-Raster-From-GEE-STAC.ipynb)\n",
    "[![Open in Planetary Computer](https://img.shields.io/badge/Open-Planetary%20Computer-black?style=flat&logo=microsoft)](https://pccompute.westeurope.cloudapp.azure.com/compute/hub/user-redirect/git-pull?repo=https://github.com/davemlz/eemont&urlpath=lab/tree/eemont/docs/tutorials/015-Scaling-ANY-Raster-From-GEE-STAC.ipynb&branch=master)"
   ]
  },
  {
   "cell_type": "markdown",
   "metadata": {
    "id": "jZEthLln92Ep"
   },
   "source": [
    "# Scaling and Offsetting ANY RASTER DATASET From the GEE STAC"
   ]
  },
  {
   "cell_type": "markdown",
   "metadata": {
    "id": "dNa470OZ8Oec"
   },
   "source": [
    "_Tutorial created by **David Montero Loaiza**_: [GitHub](https://github.com/davemlz) | [Twitter](https://twitter.com/dmlmont)\n",
    "\n",
    "- GitHub Repo: [https://github.com/davemlz/eemont](https://github.com/davemlz/eemont)\n",
    "- PyPI link: [https://pypi.org/project/eemont/](https://pypi.org/project/eemont/)\n",
    "- Conda-forge: [https://anaconda.org/conda-forge/eemont](https://anaconda.org/conda-forge/eemont)\n",
    "- Documentation: [https://eemont.readthedocs.io/](https://eemont.readthedocs.io/)\n",
    "- More tutorials: [https://github.com/davemlz/eemont/tree/master/docs/tutorials](https://github.com/davemlz/eemont/tree/master/docs/tutorials)"
   ]
  },
  {
   "cell_type": "markdown",
   "metadata": {
    "id": "CD7h0hbi92Er"
   },
   "source": [
    "## Let's start!"
   ]
  },
  {
   "cell_type": "markdown",
   "metadata": {
    "id": "E0rc6Cya92Es"
   },
   "source": [
    "If required, please uncomment:"
   ]
  },
  {
   "cell_type": "code",
   "execution_count": 1,
   "metadata": {
    "id": "NYzyvKtk92Es"
   },
   "outputs": [],
   "source": [
    "#!pip install eemont\n",
    "#!pip install geemap"
   ]
  },
  {
   "cell_type": "markdown",
   "metadata": {
    "id": "x3Rm3qt_92Et"
   },
   "source": [
    "Import the required packages."
   ]
  },
  {
   "cell_type": "code",
   "execution_count": 2,
   "metadata": {
    "id": "H0C9S_Hh92Et"
   },
   "outputs": [],
   "source": [
    "import ee, eemont, geemap\n",
    "import geemap.colormaps as cm"
   ]
  },
  {
   "cell_type": "markdown",
   "metadata": {
    "id": "k1sdX2p592Eu"
   },
   "source": [
    "Authenticate and Initialize Earth Engine and geemap."
   ]
  },
  {
   "cell_type": "code",
   "execution_count": 3,
   "metadata": {
    "id": "7QDXqVwy8Oef"
   },
   "outputs": [],
   "source": [
    "Map = geemap.Map()"
   ]
  },
  {
   "cell_type": "markdown",
   "metadata": {},
   "source": [
    "Let's define a point of interest:"
   ]
  },
  {
   "cell_type": "code",
   "execution_count": 4,
   "metadata": {},
   "outputs": [],
   "source": [
    "poi = ee.Geometry.PointFromQuery(\"Argel, Algeria\",user_agent = \"eemont-tutorial-015\")"
   ]
  },
  {
   "cell_type": "markdown",
   "metadata": {},
   "source": [
    "Let's try 5 different datasets:"
   ]
  },
  {
   "cell_type": "code",
   "execution_count": 5,
   "metadata": {},
   "outputs": [],
   "source": [
    "S2 = ee.ImageCollection(\"COPERNICUS/S2_SR\").filterBounds(poi)\n",
    "L8 = ee.ImageCollection(\"LANDSAT/LC08/C01/T1_SR\").filterBounds(poi)\n",
    "MOD11A2 = ee.ImageCollection(\"MODIS/006/MOD11A2\").filterBounds(poi)\n",
    "WAPOR_ET = ee.ImageCollection(\"FAO/WAPOR/2/L1_AETI_D\").filterBounds(poi)\n",
    "NOAA_OCEAN_SURF_TEMP = ee.ImageCollection(\"NOAA/CDR/OISST/V2_1\").filterBounds(poi)"
   ]
  },
  {
   "cell_type": "markdown",
   "metadata": {},
   "source": [
    "## Check the SCALE parameters"
   ]
  },
  {
   "cell_type": "markdown",
   "metadata": {},
   "source": [
    "In order to check the SCALE parameters of any raster dataset (ee.Image or ee.ImageCollection), use the `getScaleParams`:"
   ]
  },
  {
   "cell_type": "code",
   "execution_count": 6,
   "metadata": {},
   "outputs": [
    {
     "data": {
      "text/plain": [
       "{'AOT': 0.001,\n",
       " 'B1': 0.0001,\n",
       " 'B11': 0.0001,\n",
       " 'B12': 0.0001,\n",
       " 'B2': 0.0001,\n",
       " 'B3': 0.0001,\n",
       " 'B4': 0.0001,\n",
       " 'B5': 0.0001,\n",
       " 'B6': 0.0001,\n",
       " 'B7': 0.0001,\n",
       " 'B8': 0.0001,\n",
       " 'B8A': 0.0001,\n",
       " 'B9': 0.0001,\n",
       " 'MSK_CLDPRB': 1.0,\n",
       " 'MSK_SNWPRB': 1.0,\n",
       " 'QA10': 1.0,\n",
       " 'QA20': 1.0,\n",
       " 'QA60': 1.0,\n",
       " 'SCL': 1.0,\n",
       " 'TCI_B': 1.0,\n",
       " 'TCI_G': 1.0,\n",
       " 'TCI_R': 1.0,\n",
       " 'WVP': 0.001}"
      ]
     },
     "execution_count": 6,
     "metadata": {},
     "output_type": "execute_result"
    }
   ],
   "source": [
    "S2.getScaleParams()"
   ]
  },
  {
   "cell_type": "markdown",
   "metadata": {},
   "source": [
    "The `getScaleParams` will retrieve a dictionary where each key is each of the bands of the datasets and the value is the scale factor for that band."
   ]
  },
  {
   "cell_type": "markdown",
   "metadata": {},
   "source": [
    "The `getScaleParams` method also works for ee.Image classes:"
   ]
  },
  {
   "cell_type": "code",
   "execution_count": 7,
   "metadata": {},
   "outputs": [
    {
     "data": {
      "text/plain": [
       "{'AOT': 0.001,\n",
       " 'B1': 0.0001,\n",
       " 'B11': 0.0001,\n",
       " 'B12': 0.0001,\n",
       " 'B2': 0.0001,\n",
       " 'B3': 0.0001,\n",
       " 'B4': 0.0001,\n",
       " 'B5': 0.0001,\n",
       " 'B6': 0.0001,\n",
       " 'B7': 0.0001,\n",
       " 'B8': 0.0001,\n",
       " 'B8A': 0.0001,\n",
       " 'B9': 0.0001,\n",
       " 'MSK_CLDPRB': 1.0,\n",
       " 'MSK_SNWPRB': 1.0,\n",
       " 'QA10': 1.0,\n",
       " 'QA20': 1.0,\n",
       " 'QA60': 1.0,\n",
       " 'SCL': 1.0,\n",
       " 'TCI_B': 1.0,\n",
       " 'TCI_G': 1.0,\n",
       " 'TCI_R': 1.0,\n",
       " 'WVP': 0.001}"
      ]
     },
     "execution_count": 7,
     "metadata": {},
     "output_type": "execute_result"
    }
   ],
   "source": [
    "S2.first().getScaleParams()"
   ]
  },
  {
   "cell_type": "markdown",
   "metadata": {},
   "source": [
    "If a band doesn't have a scale factor, this will be retrieved as 1."
   ]
  },
  {
   "cell_type": "markdown",
   "metadata": {},
   "source": [
    "Now, let's check the scale parameters for the rest of the datasets:"
   ]
  },
  {
   "cell_type": "code",
   "execution_count": 8,
   "metadata": {},
   "outputs": [
    {
     "data": {
      "text/plain": [
       "{'B1': 0.0001,\n",
       " 'B10': 0.1,\n",
       " 'B11': 0.1,\n",
       " 'B2': 0.0001,\n",
       " 'B3': 0.0001,\n",
       " 'B4': 0.0001,\n",
       " 'B5': 0.0001,\n",
       " 'B6': 0.0001,\n",
       " 'B7': 0.0001,\n",
       " 'pixel_qa': 1.0,\n",
       " 'radsat_qa': 1.0,\n",
       " 'sr_aerosol': 1.0}"
      ]
     },
     "execution_count": 8,
     "metadata": {},
     "output_type": "execute_result"
    }
   ],
   "source": [
    "L8.getScaleParams()"
   ]
  },
  {
   "cell_type": "code",
   "execution_count": 9,
   "metadata": {},
   "outputs": [
    {
     "data": {
      "text/plain": [
       "{'Clear_sky_days': 1.0,\n",
       " 'Clear_sky_nights': 1.0,\n",
       " 'Day_view_angl': 1.0,\n",
       " 'Day_view_time': 0.1,\n",
       " 'Emis_31': 0.002,\n",
       " 'Emis_32': 0.002,\n",
       " 'LST_Day_1km': 0.02,\n",
       " 'LST_Night_1km': 0.02,\n",
       " 'Night_view_angl': 1.0,\n",
       " 'Night_view_time': 0.1,\n",
       " 'QC_Day': 1.0,\n",
       " 'QC_Night': 1.0}"
      ]
     },
     "execution_count": 9,
     "metadata": {},
     "output_type": "execute_result"
    }
   ],
   "source": [
    "MOD11A2.getScaleParams()"
   ]
  },
  {
   "cell_type": "code",
   "execution_count": 10,
   "metadata": {},
   "outputs": [
    {
     "data": {
      "text/plain": [
       "{'L1_AETI_D': 0.1}"
      ]
     },
     "execution_count": 10,
     "metadata": {},
     "output_type": "execute_result"
    }
   ],
   "source": [
    "WAPOR_ET.getScaleParams()"
   ]
  },
  {
   "cell_type": "code",
   "execution_count": 11,
   "metadata": {},
   "outputs": [
    {
     "data": {
      "text/plain": [
       "{'anom': 0.01, 'err': 0.01, 'ice': 0.01, 'sst': 0.01}"
      ]
     },
     "execution_count": 11,
     "metadata": {},
     "output_type": "execute_result"
    }
   ],
   "source": [
    "NOAA_OCEAN_SURF_TEMP.getScaleParams()"
   ]
  },
  {
   "cell_type": "markdown",
   "metadata": {},
   "source": [
    "## Check the OFFSET parameters"
   ]
  },
  {
   "cell_type": "markdown",
   "metadata": {},
   "source": [
    "In order to check the OFFSET parameters of any raster dataset (ee.Image or ee.ImageCollection), use the `getOffsetParams`:"
   ]
  },
  {
   "cell_type": "code",
   "execution_count": 12,
   "metadata": {},
   "outputs": [
    {
     "data": {
      "text/plain": [
       "{'AOT': 0.0,\n",
       " 'B1': 0.0,\n",
       " 'B11': 0.0,\n",
       " 'B12': 0.0,\n",
       " 'B2': 0.0,\n",
       " 'B3': 0.0,\n",
       " 'B4': 0.0,\n",
       " 'B5': 0.0,\n",
       " 'B6': 0.0,\n",
       " 'B7': 0.0,\n",
       " 'B8': 0.0,\n",
       " 'B8A': 0.0,\n",
       " 'B9': 0.0,\n",
       " 'MSK_CLDPRB': 0.0,\n",
       " 'MSK_SNWPRB': 0.0,\n",
       " 'QA10': 0.0,\n",
       " 'QA20': 0.0,\n",
       " 'QA60': 0.0,\n",
       " 'SCL': 0.0,\n",
       " 'TCI_B': 0.0,\n",
       " 'TCI_G': 0.0,\n",
       " 'TCI_R': 0.0,\n",
       " 'WVP': 0.0}"
      ]
     },
     "execution_count": 12,
     "metadata": {},
     "output_type": "execute_result"
    }
   ],
   "source": [
    "S2.getOffsetParams()"
   ]
  },
  {
   "cell_type": "markdown",
   "metadata": {},
   "source": [
    "The `getOffsetParams` will retrieve a dictionary where each key is each of the bands of the datasets and the value is the offset factor for that band."
   ]
  },
  {
   "cell_type": "markdown",
   "metadata": {},
   "source": [
    "The `getOffsetParams` method also works for ee.Image classes:"
   ]
  },
  {
   "cell_type": "code",
   "execution_count": 13,
   "metadata": {},
   "outputs": [
    {
     "data": {
      "text/plain": [
       "{'AOT': 0.0,\n",
       " 'B1': 0.0,\n",
       " 'B11': 0.0,\n",
       " 'B12': 0.0,\n",
       " 'B2': 0.0,\n",
       " 'B3': 0.0,\n",
       " 'B4': 0.0,\n",
       " 'B5': 0.0,\n",
       " 'B6': 0.0,\n",
       " 'B7': 0.0,\n",
       " 'B8': 0.0,\n",
       " 'B8A': 0.0,\n",
       " 'B9': 0.0,\n",
       " 'MSK_CLDPRB': 0.0,\n",
       " 'MSK_SNWPRB': 0.0,\n",
       " 'QA10': 0.0,\n",
       " 'QA20': 0.0,\n",
       " 'QA60': 0.0,\n",
       " 'SCL': 0.0,\n",
       " 'TCI_B': 0.0,\n",
       " 'TCI_G': 0.0,\n",
       " 'TCI_R': 0.0,\n",
       " 'WVP': 0.0}"
      ]
     },
     "execution_count": 13,
     "metadata": {},
     "output_type": "execute_result"
    }
   ],
   "source": [
    "S2.first().getOffsetParams()"
   ]
  },
  {
   "cell_type": "markdown",
   "metadata": {},
   "source": [
    "If a band doesn't have an offset factor, this will be retrieved as 0."
   ]
  },
  {
   "cell_type": "markdown",
   "metadata": {},
   "source": [
    "Now, let's check the offset parameters for the rest of the datasets:"
   ]
  },
  {
   "cell_type": "code",
   "execution_count": 14,
   "metadata": {},
   "outputs": [
    {
     "data": {
      "text/plain": [
       "{'B1': 0.0,\n",
       " 'B10': 0.0,\n",
       " 'B11': 0.0,\n",
       " 'B2': 0.0,\n",
       " 'B3': 0.0,\n",
       " 'B4': 0.0,\n",
       " 'B5': 0.0,\n",
       " 'B6': 0.0,\n",
       " 'B7': 0.0,\n",
       " 'pixel_qa': 0.0,\n",
       " 'radsat_qa': 0.0,\n",
       " 'sr_aerosol': 0.0}"
      ]
     },
     "execution_count": 14,
     "metadata": {},
     "output_type": "execute_result"
    }
   ],
   "source": [
    "L8.getOffsetParams()"
   ]
  },
  {
   "cell_type": "code",
   "execution_count": 15,
   "metadata": {},
   "outputs": [
    {
     "data": {
      "text/plain": [
       "{'Clear_sky_days': 0.0,\n",
       " 'Clear_sky_nights': 0.0,\n",
       " 'Day_view_angl': -65.0,\n",
       " 'Day_view_time': 0.0,\n",
       " 'Emis_31': 0.49,\n",
       " 'Emis_32': 0.49,\n",
       " 'LST_Day_1km': 0.0,\n",
       " 'LST_Night_1km': 0.0,\n",
       " 'Night_view_angl': -65.0,\n",
       " 'Night_view_time': 0.0,\n",
       " 'QC_Day': 0.0,\n",
       " 'QC_Night': 0.0}"
      ]
     },
     "execution_count": 15,
     "metadata": {},
     "output_type": "execute_result"
    }
   ],
   "source": [
    "MOD11A2.getOffsetParams()"
   ]
  },
  {
   "cell_type": "markdown",
   "metadata": {},
   "source": [
    "Most datasets have no offset factors, however, in some cases (e.g. MOD11A2), these can be found."
   ]
  },
  {
   "cell_type": "code",
   "execution_count": 16,
   "metadata": {},
   "outputs": [
    {
     "data": {
      "text/plain": [
       "{'L1_AETI_D': 0.0}"
      ]
     },
     "execution_count": 16,
     "metadata": {},
     "output_type": "execute_result"
    }
   ],
   "source": [
    "WAPOR_ET.getOffsetParams()"
   ]
  },
  {
   "cell_type": "code",
   "execution_count": 17,
   "metadata": {},
   "outputs": [
    {
     "data": {
      "text/plain": [
       "{'anom': 0.0, 'err': 0.0, 'ice': 0.0, 'sst': 0.0}"
      ]
     },
     "execution_count": 17,
     "metadata": {},
     "output_type": "execute_result"
    }
   ],
   "source": [
    "NOAA_OCEAN_SURF_TEMP.getOffsetParams()"
   ]
  },
  {
   "cell_type": "markdown",
   "metadata": {},
   "source": [
    "## Automatic Scaling and Offsetting"
   ]
  },
  {
   "cell_type": "markdown",
   "metadata": {},
   "source": [
    "The automatic scaling and offsetting can be achieved by running the `scaleAndOffset` method for ee.Image and ee.ImageCollection classes (This method replaces the `scale` method):"
   ]
  },
  {
   "cell_type": "code",
   "execution_count": 18,
   "metadata": {},
   "outputs": [],
   "source": [
    "S2 = S2.scaleAndOffset()\n",
    "L8 = L8.scaleAndOffset()\n",
    "MOD11A2 = MOD11A2.scaleAndOffset()\n",
    "WAPOR_ET = WAPOR_ET.scaleAndOffset()\n",
    "NOAA_OCEAN_SURF_TEMP = NOAA_OCEAN_SURF_TEMP.scaleAndOffset()"
   ]
  },
  {
   "cell_type": "markdown",
   "metadata": {},
   "source": [
    "Visualization parameters:"
   ]
  },
  {
   "cell_type": "code",
   "execution_count": 19,
   "metadata": {},
   "outputs": [],
   "source": [
    "reflectance_RGB_vis = {\n",
    "    \"min\": 0,\n",
    "    \"max\": 0.3,\n",
    "    \"bands\": [\"B4\",\"B3\",\"B2\"]\n",
    "}\n",
    "\n",
    "Kelvin_LST_vis = {\n",
    "    \"min\": 280,\n",
    "    \"max\": 320,\n",
    "    \"bands\": \"LST_Day_1km\",\n",
    "    \"palette\": cm.palettes.inferno\n",
    "}\n",
    "\n",
    "mm_ET_vis = {\n",
    "    \"min\": 0,\n",
    "    \"max\": 5,\n",
    "    \"bands\": \"L1_AETI_D\",\n",
    "    \"palette\": cm.palettes.Blues\n",
    "}\n",
    "\n",
    "Celsius_OST_vis = {\n",
    "    \"min\": -1.8,\n",
    "    \"max\": 30,\n",
    "    \"bands\": \"sst\",\n",
    "    \"palette\": cm.palettes.inferno\n",
    "}"
   ]
  },
  {
   "cell_type": "markdown",
   "metadata": {},
   "source": [
    "Let's visualize everything with `geemap`:"
   ]
  },
  {
   "cell_type": "code",
   "execution_count": 20,
   "metadata": {},
   "outputs": [
    {
     "data": {
      "application/vnd.jupyter.widget-view+json": {
       "model_id": "9ce4c989638a4123a059af06df3e6505",
       "version_major": 2,
       "version_minor": 0
      },
      "text/plain": [
       "Map(center=[36.7753606, 3.0601882], controls=(WidgetControl(options=['position', 'transparent_bg'], widget=HBo…"
      ]
     },
     "metadata": {},
     "output_type": "display_data"
    }
   ],
   "source": [
    "Map = geemap.Map()\n",
    "Map.addLayer(S2.first(),reflectance_RGB_vis,\"S2 RGB (SR)\")\n",
    "Map.addLayer(L8.first(),reflectance_RGB_vis,\"L8 RGB (SR)\")\n",
    "Map.addLayer(MOD11A2.first(),Kelvin_LST_vis,\"MOD11A2 LST Day (Kelvin)\")\n",
    "Map.addLayer(WAPOR_ET.first(),mm_ET_vis,\"WAPOR ET (mm)\")\n",
    "Map.addLayer(NOAA_OCEAN_SURF_TEMP.first(),Celsius_OST_vis,\"NOAA OST (Celsius)\")\n",
    "Map.centerObject(poi,6)\n",
    "Map"
   ]
  }
 ],
 "metadata": {
  "kernelspec": {
   "display_name": "Python 3",
   "language": "python",
   "name": "python3"
  },
  "language_info": {
   "codemirror_mode": {
    "name": "ipython",
    "version": 3
   },
   "file_extension": ".py",
   "mimetype": "text/x-python",
   "name": "python",
   "nbconvert_exporter": "python",
   "pygments_lexer": "ipython3",
   "version": "3.9.4"
  }
 },
 "nbformat": 4,
 "nbformat_minor": 4
}
