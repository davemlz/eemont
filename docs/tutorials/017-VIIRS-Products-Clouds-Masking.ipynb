{
 "cells": [
  {
   "cell_type": "markdown",
   "metadata": {},
   "source": [
    "[![colab](https://colab.research.google.com/assets/colab-badge.svg)](https://colab.research.google.com/github/davemlz/eemont/blob/master/docs/tutorials/017-VIIRS-Products-Clouds-Masking.ipynb)\n",
    "[![Open in SageMaker Studio Lab](https://studiolab.sagemaker.aws/studiolab.svg)](https://studiolab.sagemaker.aws/import/github/davemlz/eemont/blob/master/docs/tutorials/017-VIIRS-Products-Clouds-Masking.ipynb)\n",
    "[![Open in Planetary Computer](https://img.shields.io/badge/Open-Planetary%20Computer-black?style=flat&logo=microsoft)](https://pccompute.westeurope.cloudapp.azure.com/compute/hub/user-redirect/git-pull?repo=https://github.com/davemlz/eemont&urlpath=lab/tree/eemont/docs/tutorials/017-VIIRS-Products-Clouds-Masking.ipynb&branch=master)"
   ]
  },
  {
   "cell_type": "markdown",
   "metadata": {
    "id": "jZEthLln92Ep"
   },
   "source": [
    "# Masking Clouds and Shadows in VIIRS Products"
   ]
  },
  {
   "cell_type": "markdown",
   "metadata": {
    "id": "dNa470OZ8Oec"
   },
   "source": [
    "_Tutorial created by **David Montero Loaiza**_: [GitHub](https://github.com/davemlz) | [Twitter](https://twitter.com/dmlmont)\n",
    "\n",
    "- GitHub Repo: [https://github.com/davemlz/eemont](https://github.com/davemlz/eemont)\n",
    "- PyPI link: [https://pypi.org/project/eemont/](https://pypi.org/project/eemont/)\n",
    "- Conda-forge: [https://anaconda.org/conda-forge/eemont](https://anaconda.org/conda-forge/eemont)\n",
    "- Documentation: [https://eemont.readthedocs.io/](https://eemont.readthedocs.io/)\n",
    "- More tutorials: [https://github.com/davemlz/eemont/tree/master/docs/tutorials](https://github.com/davemlz/eemont/tree/master/docs/tutorials)"
   ]
  },
  {
   "cell_type": "markdown",
   "metadata": {
    "id": "CD7h0hbi92Er"
   },
   "source": [
    "## Let's start!"
   ]
  },
  {
   "cell_type": "markdown",
   "metadata": {
    "id": "E0rc6Cya92Es"
   },
   "source": [
    "If required, please uncomment:"
   ]
  },
  {
   "cell_type": "code",
   "execution_count": 1,
   "metadata": {
    "id": "NYzyvKtk92Es"
   },
   "outputs": [],
   "source": [
    "#!pip install eemont\n",
    "#!pip install geemap"
   ]
  },
  {
   "cell_type": "markdown",
   "metadata": {
    "id": "x3Rm3qt_92Et"
   },
   "source": [
    "Import the required packages."
   ]
  },
  {
   "cell_type": "code",
   "execution_count": 2,
   "metadata": {
    "id": "H0C9S_Hh92Et"
   },
   "outputs": [],
   "source": [
    "import ee, eemont, geemap\n",
    "import geemap.colormaps as cm"
   ]
  },
  {
   "cell_type": "markdown",
   "metadata": {
    "id": "k1sdX2p592Eu"
   },
   "source": [
    "Authenticate and Initialize Earth Engine and geemap."
   ]
  },
  {
   "cell_type": "code",
   "execution_count": 3,
   "metadata": {
    "id": "7QDXqVwy8Oef"
   },
   "outputs": [],
   "source": [
    "Map = geemap.Map()"
   ]
  },
  {
   "cell_type": "markdown",
   "metadata": {},
   "source": [
    "Let's define a point of interest:"
   ]
  },
  {
   "cell_type": "code",
   "execution_count": 4,
   "metadata": {},
   "outputs": [],
   "source": [
    "poi = ee.Geometry.PointFromQuery(\"Belice\",user_agent = \"eemont-tutorial-017\")"
   ]
  },
  {
   "cell_type": "markdown",
   "metadata": {},
   "source": [
    "Now, the VNP09GA and the VNP13A1 VIIRS products are supported for clouds and shadows masking."
   ]
  },
  {
   "cell_type": "markdown",
   "metadata": {},
   "source": [
    "Let's take the VNP09GA product first:"
   ]
  },
  {
   "cell_type": "code",
   "execution_count": 5,
   "metadata": {},
   "outputs": [],
   "source": [
    "VNP09GA = (ee.ImageCollection(\"NOAA/VIIRS/001/VNP09GA\")          \n",
    "          .filterDate(\"2020-01-01\",\"2021-01-01\")\n",
    "          .maskClouds()\n",
    "          .scaleAndOffset()\n",
    "          .median())"
   ]
  },
  {
   "cell_type": "markdown",
   "metadata": {},
   "source": [
    "And then the VNP13A1 product:"
   ]
  },
  {
   "cell_type": "code",
   "execution_count": 6,
   "metadata": {},
   "outputs": [],
   "source": [
    "VNP13A1 = (ee.ImageCollection(\"NOAA/VIIRS/001/VNP13A1\")          \n",
    "          .filterDate(\"2020-01-01\",\"2021-01-01\")\n",
    "          .maskClouds()\n",
    "          .scaleAndOffset()\n",
    "          .median())"
   ]
  },
  {
   "cell_type": "markdown",
   "metadata": {},
   "source": [
    "Visualization parameters:"
   ]
  },
  {
   "cell_type": "code",
   "execution_count": 7,
   "metadata": {},
   "outputs": [],
   "source": [
    "RGB = {\n",
    "    \"min\": 0,\n",
    "    \"max\": 1,\n",
    "    \"bands\": ['M5', 'M4', 'M3']\n",
    "}\n",
    "\n",
    "NDVI = {\n",
    "    \"min\": 0,\n",
    "    \"max\": 1,\n",
    "    \"bands\": \"NDVI\",\n",
    "    \"palette\": cm.palettes.ndvi\n",
    "}"
   ]
  },
  {
   "cell_type": "markdown",
   "metadata": {},
   "source": [
    "Visualize everything with `geemap`:"
   ]
  },
  {
   "cell_type": "code",
   "execution_count": 8,
   "metadata": {},
   "outputs": [
    {
     "data": {
      "application/vnd.jupyter.widget-view+json": {
       "model_id": "70edff90c9304ad7942a5269ec1d43b0",
       "version_major": 2,
       "version_minor": 0
      },
      "text/plain": [
       "Map(center=[16.825979299999997, -88.7600927], controls=(WidgetControl(options=['position', 'transparent_bg'], …"
      ]
     },
     "metadata": {},
     "output_type": "display_data"
    }
   ],
   "source": [
    "Map.addLayer(VNP09GA,RGB,\"VNP09GA\")\n",
    "Map.addLayer(VNP13A1,NDVI,\"VNP13A1\")\n",
    "Map.centerObject(poi,7)\n",
    "Map"
   ]
  }
 ],
 "metadata": {
  "kernelspec": {
   "display_name": "Python 3",
   "language": "python",
   "name": "python3"
  },
  "language_info": {
   "codemirror_mode": {
    "name": "ipython",
    "version": 3
   },
   "file_extension": ".py",
   "mimetype": "text/x-python",
   "name": "python",
   "nbconvert_exporter": "python",
   "pygments_lexer": "ipython3",
   "version": "3.9.4"
  }
 },
 "nbformat": 4,
 "nbformat_minor": 4
}
