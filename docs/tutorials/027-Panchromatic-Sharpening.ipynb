{
 "cells": [
  {
   "cell_type": "markdown",
   "id": "f40d6788",
   "metadata": {},
   "source": [
    "[![colab](https://colab.research.google.com/assets/colab-badge.svg)](https://colab.research.google.com/github/davemlz/eemont/blob/master/docs/tutorials/027-Panchromatic-Sharpening.ipynb)\n",
    "[![Open in SageMaker Studio Lab](https://studiolab.sagemaker.aws/studiolab.svg)](https://studiolab.sagemaker.aws/import/github/davemlz/eemont/blob/master/docs/tutorials/027-Panchromatic-Sharpening.ipynb)\n",
    "[![Open in Planetary Computer](https://img.shields.io/badge/Open-Planetary%20Computer-black?style=flat&logo=microsoft)](https://pccompute.westeurope.cloudapp.azure.com/compute/hub/user-redirect/git-pull?repo=https://github.com/davemlz/eemont&urlpath=lab/tree/eemont/docs/tutorials/027-Panchromatic-Sharpening.ipynb&branch=master)"
   ]
  },
  {
   "cell_type": "markdown",
   "id": "818ebd1a",
   "metadata": {},
   "source": [
    "# Panchromatic Sharpening"
   ]
  },
  {
   "cell_type": "markdown",
   "id": "46914afd",
   "metadata": {},
   "source": [
    "_Tutorial created by **Aaron Zuspan**_: [GitHub](https://github.com/aazuspan) | [Twitter](https://twitter.com/aazuspan)\n",
    "\n",
    "- GitHub Repo: [https://github.com/davemlz/eemont](https://github.com/davemlz/eemont)\n",
    "- PyPI link: [https://pypi.org/project/eemont/](https://pypi.org/project/eemont/)\n",
    "- Conda-forge: [https://anaconda.org/conda-forge/eemont](https://anaconda.org/conda-forge/eemont)\n",
    "- Documentation: [https://eemont.readthedocs.io/](https://eemont.readthedocs.io/)\n",
    "- More tutorials: [https://github.com/davemlz/eemont/tree/master/docs/tutorials](https://github.com/davemlz/eemont/tree/master/docs/tutorials)"
   ]
  },
  {
   "cell_type": "markdown",
   "id": "8ca0072b",
   "metadata": {
    "id": "CD7h0hbi92Er"
   },
   "source": [
    "## Let's start!"
   ]
  },
  {
   "cell_type": "markdown",
   "id": "24a4515a",
   "metadata": {
    "id": "E0rc6Cya92Es"
   },
   "source": [
    "If required, please uncomment:"
   ]
  },
  {
   "cell_type": "code",
   "execution_count": 1,
   "id": "23bfc645",
   "metadata": {
    "id": "NYzyvKtk92Es"
   },
   "outputs": [],
   "source": [
    "# !pip install eemont\n",
    "# !pip install geemap"
   ]
  },
  {
   "cell_type": "markdown",
   "id": "41194593",
   "metadata": {},
   "source": [
    "Import the required packages."
   ]
  },
  {
   "cell_type": "code",
   "execution_count": 2,
   "id": "598be9a6",
   "metadata": {
    "id": "H0C9S_Hh92Et"
   },
   "outputs": [],
   "source": [
    "import ee, eemont, geemap"
   ]
  },
  {
   "cell_type": "markdown",
   "id": "bafef33d",
   "metadata": {
    "id": "k1sdX2p592Eu"
   },
   "source": [
    "Authenticate and Initialize Earth Engine and geemap."
   ]
  },
  {
   "cell_type": "code",
   "execution_count": 3,
   "id": "849e2764",
   "metadata": {
    "id": "7QDXqVwy8Oef"
   },
   "outputs": [],
   "source": [
    "Map = geemap.Map()"
   ]
  },
  {
   "cell_type": "markdown",
   "id": "e4c2f986",
   "metadata": {},
   "source": [
    "Some image platforms capture high resolution panchromatic data that can be used to increase the resolution of multispectral bands. Using eemont, supported `ee.Image` and `ee.ImageCollection` platforms can be sharpened using the `panSharpen()` method.\n",
    "\n",
    "__NOTE__: Supported platforms are TOA and raw reflectance products from Landsat 7 and Landsat 8. Unfortunately, surface reflectance products do not contain panchromatic bands and cannot be sharpened."
   ]
  },
  {
   "cell_type": "markdown",
   "id": "ba6ed836",
   "metadata": {},
   "source": [
    "## Sharpening a Landsat Image"
   ]
  },
  {
   "cell_type": "markdown",
   "id": "9660d4aa",
   "metadata": {},
   "source": [
    "Let's sharpen a single Landsat 8 image. First, we'll look at the original image at 30m resolution."
   ]
  },
  {
   "cell_type": "code",
   "execution_count": 4,
   "id": "b901e463",
   "metadata": {},
   "outputs": [
    {
     "data": {
      "application/vnd.jupyter.widget-view+json": {
       "model_id": "5b504aa475db490ab4f9024c8d7d8eda",
       "version_major": 2,
       "version_minor": 0
      },
      "text/plain": [
       "Map(center=[47.2686875, -122.4100625], controls=(WidgetControl(options=['position', 'transparent_bg'], widget=…"
      ]
     },
     "metadata": {},
     "output_type": "display_data"
    }
   ],
   "source": [
    "img = ee.Image(\"LANDSAT/LC08/C01/T1_TOA/LC08_047027_20160819\")\n",
    "Map.addLayer(img, dict(min=0, max=0.35, bands=[\"B4\", \"B3\", \"B2\"]), \"Landsat 8 - Original\")\n",
    "\n",
    "pt = ee.Geometry.Point([-122.4100625, 47.2686875])\n",
    "Map.centerObject(pt, zoom=15)\n",
    "Map"
   ]
  },
  {
   "cell_type": "markdown",
   "id": "77abb285",
   "metadata": {},
   "source": [
    "Now we'll use the `panSharpen()` method to increase the resolution of all sharpenable bands, creating a 15m resolution image. By toggling the sharpened image on and off, you can see how detail is added by pan-sharpening. "
   ]
  },
  {
   "cell_type": "code",
   "execution_count": 5,
   "id": "34e9028a",
   "metadata": {},
   "outputs": [
    {
     "data": {
      "application/vnd.jupyter.widget-view+json": {
       "model_id": "5b504aa475db490ab4f9024c8d7d8eda",
       "version_major": 2,
       "version_minor": 0
      },
      "text/plain": [
       "Map(center=[47.2686875, -122.4100625], controls=(WidgetControl(options=['position', 'transparent_bg'], widget=…"
      ]
     },
     "metadata": {},
     "output_type": "display_data"
    }
   ],
   "source": [
    "sharp = img.panSharpen()\n",
    "Map.addLayer(sharp, dict(min=0, max=0.35, bands=[\"B4\", \"B3\", \"B2\"]), \"Landsat 8 - Sharp\")\n",
    "Map"
   ]
  },
  {
   "cell_type": "markdown",
   "id": "43686385",
   "metadata": {},
   "source": [
    "__NOTE__: eemont automatically filters out bands that don't support sharpening such as thermal, bitmasks, and the panchromatic band itself. The `panSharpen` method leaves only the sharpenable bands in the visible, NIR, and SWIR spectrums."
   ]
  },
  {
   "cell_type": "markdown",
   "id": "99b67862",
   "metadata": {},
   "source": [
    "## Sharpening Methods"
   ]
  },
  {
   "cell_type": "markdown",
   "id": "e753c646",
   "metadata": {},
   "source": [
    "There are many different algorithms that can be used to pan-sharpen imagery. `SFIM` (Smoothing Filter-based Intensity Modulation) is the default algorithm in eemont because it produces high quality output images, runs efficiently in GEE, and is tolerant of different band combinations, but users can experiment with other methods—`HPFA` (high-pass filter addition), `SM` (simple mean), and `PCS` (principal component substitution)—by setting the `method` argument."
   ]
  },
  {
   "cell_type": "markdown",
   "id": "a742e2bf",
   "metadata": {},
   "source": [
    "### HPFA\n",
    "HPFA is similarly efficient to SFIM but generally produces less realistic sharpening. Try comparing the previous sharpened images (created with SFIM) to images sharpened with HFPA below."
   ]
  },
  {
   "cell_type": "code",
   "execution_count": 6,
   "id": "317b94f5",
   "metadata": {},
   "outputs": [
    {
     "data": {
      "application/vnd.jupyter.widget-view+json": {
       "model_id": "5b504aa475db490ab4f9024c8d7d8eda",
       "version_major": 2,
       "version_minor": 0
      },
      "text/plain": [
       "Map(center=[47.2686875, -122.4100625], controls=(WidgetControl(options=['position', 'transparent_bg'], widget=…"
      ]
     },
     "metadata": {},
     "output_type": "display_data"
    }
   ],
   "source": [
    "sharp = img.panSharpen(method=\"HPFA\")\n",
    "Map.addLayer(sharp, dict(min=0, max=0.35, bands=[\"B4\", \"B3\", \"B2\"]), \"Landsat 8 - Sharp HPFA\")\n",
    "Map"
   ]
  },
  {
   "cell_type": "markdown",
   "id": "c950e5da",
   "metadata": {},
   "source": [
    "### SM\n",
    "SM is very fast, but it generally produces more spectral distortion than SFIM or HPFA due to its simplicity."
   ]
  },
  {
   "cell_type": "code",
   "execution_count": 7,
   "id": "83ff4cbe",
   "metadata": {},
   "outputs": [
    {
     "data": {
      "application/vnd.jupyter.widget-view+json": {
       "model_id": "5b504aa475db490ab4f9024c8d7d8eda",
       "version_major": 2,
       "version_minor": 0
      },
      "text/plain": [
       "Map(center=[47.2686875, -122.4100625], controls=(WidgetControl(options=['position', 'transparent_bg'], widget=…"
      ]
     },
     "metadata": {},
     "output_type": "display_data"
    }
   ],
   "source": [
    "sharp = img.panSharpen(method=\"SM\")\n",
    "Map.addLayer(sharp, dict(min=0, max=0.35, bands=[\"B4\", \"B3\", \"B2\"]), \"Landsat 8 - Sharp SM\")\n",
    "Map"
   ]
  },
  {
   "cell_type": "markdown",
   "id": "37266b15",
   "metadata": {},
   "source": [
    "### PCS\n",
    "PCS (sometimes referred to as PCA) is slower than other methods and may produce poor results depending on the image and band combinations. PCS requires calculating image statistics using the `ee.Image.reduceRegion` method, so additional keyword arguments can be passed through `panSharpen`. In this case, we'll pass a `maxPixels` argument to ensure statistics can be computed throughout the entire image, but we could also pass arguments like `geometry`, `scale`, `bestEffort`, etc."
   ]
  },
  {
   "cell_type": "code",
   "execution_count": 8,
   "id": "acd03425",
   "metadata": {},
   "outputs": [
    {
     "data": {
      "application/vnd.jupyter.widget-view+json": {
       "model_id": "5b504aa475db490ab4f9024c8d7d8eda",
       "version_major": 2,
       "version_minor": 0
      },
      "text/plain": [
       "Map(center=[47.2686875, -122.4100625], controls=(WidgetControl(options=['position', 'transparent_bg'], widget=…"
      ]
     },
     "metadata": {},
     "output_type": "display_data"
    }
   ],
   "source": [
    "sharp = img.panSharpen(method=\"PCS\", maxPixels=1e13)\n",
    "Map.addLayer(sharp, dict(min=0, max=0.35, bands=[\"B4\", \"B3\", \"B2\"]), \"Landsat 8 - Sharp PCS\")\n",
    "Map"
   ]
  },
  {
   "cell_type": "markdown",
   "id": "9d21ba0a",
   "metadata": {},
   "source": [
    "## Sharpening Image Collections"
   ]
  },
  {
   "cell_type": "markdown",
   "id": "b02be01e",
   "metadata": {},
   "source": [
    "Sharpening Image Collections is the same as sharpening Images. For example, let's sharpen a subset of the Landsat 8 collection."
   ]
  },
  {
   "cell_type": "markdown",
   "id": "61b1a751",
   "metadata": {},
   "source": [
    "Create a fresh map."
   ]
  },
  {
   "cell_type": "code",
   "execution_count": 9,
   "id": "0c7724df",
   "metadata": {},
   "outputs": [],
   "source": [
    "Map = geemap.Map()"
   ]
  },
  {
   "cell_type": "markdown",
   "id": "3d01d8ea",
   "metadata": {},
   "source": [
    "Add the first image of the unsharpened collection."
   ]
  },
  {
   "cell_type": "code",
   "execution_count": 10,
   "id": "b52dd00a",
   "metadata": {},
   "outputs": [
    {
     "data": {
      "application/vnd.jupyter.widget-view+json": {
       "model_id": "47c6534c2ca54fd58646a2f98912ad5a",
       "version_major": 2,
       "version_minor": 0
      },
      "text/plain": [
       "Map(center=[47.2686875, -122.4100625], controls=(WidgetControl(options=['position', 'transparent_bg'], widget=…"
      ]
     },
     "metadata": {},
     "output_type": "display_data"
    }
   ],
   "source": [
    "img_collection = ee.ImageCollection(\"LANDSAT/LC08/C01/T1_TOA\").filterBounds(pt).filterDate(\"2016\", \"2017\")\n",
    "Map.addLayer(img_collection.first(), dict(min=0, max=0.35, bands=[\"B4\", \"B3\", \"B2\"]), \"Landsat 8 Collection - Original\")\n",
    "\n",
    "pt = ee.Geometry.Point([-122.4100625, 47.2686875])\n",
    "Map.centerObject(pt, zoom=15)\n",
    "Map"
   ]
  },
  {
   "cell_type": "markdown",
   "id": "9fe61006",
   "metadata": {},
   "source": [
    "Now we'll sharpen the whole collection and visualize the first sharpened image."
   ]
  },
  {
   "cell_type": "code",
   "execution_count": 11,
   "id": "76e9edfc",
   "metadata": {},
   "outputs": [
    {
     "data": {
      "application/vnd.jupyter.widget-view+json": {
       "model_id": "47c6534c2ca54fd58646a2f98912ad5a",
       "version_major": 2,
       "version_minor": 0
      },
      "text/plain": [
       "Map(center=[47.2686875, -122.4100625], controls=(WidgetControl(options=['position', 'transparent_bg'], widget=…"
      ]
     },
     "metadata": {},
     "output_type": "display_data"
    }
   ],
   "source": [
    "sharp_collection = img_collection.panSharpen()\n",
    "Map.addLayer(sharp_collection.first(), dict(min=0, max=0.35, bands=[\"B4\", \"B3\", \"B2\"]), \"Landsat 8 Collection - Sharp\")\n",
    "Map"
   ]
  },
  {
   "cell_type": "markdown",
   "id": "d70021f0",
   "metadata": {},
   "source": [
    "## Quality Assessments\n",
    "Image quality assessments (QA) measure the amount of spectral distortion caused by pan-sharpening and can help to select the best sharpening method. There are a wide variety of QA metrics for different applications. In eemont, QA metrics are calculated within the `panSharpen` method by passing a list of names to the `qa` argument. Results are added as properties to the sharpened image.\n",
    "\n",
    "Below, we'll re-sharpen the original image and calculate a variety of QA metrics at the same time. QA metrics calculate image statistics, so additional arguments may be needed that will be passed to `ee.Image.reduceRegion`. In the example below, we'll specify `maxPixels`. \n",
    "\n",
    "__NOTE__: By default, QA metrics are calculated throughout the entire image. To speed up calculation or avoid memory issues you can specify a `geometry` parameter to calculate image statistics within."
   ]
  },
  {
   "cell_type": "code",
   "execution_count": 12,
   "id": "c1841a38",
   "metadata": {},
   "outputs": [],
   "source": [
    "metrics = [\"RASE\", \"UIQI\"]\n",
    "\n",
    "img = ee.Image(\"LANDSAT/LC08/C01/T1_TOA/LC08_047027_20160819\")\n",
    "sharp = img.panSharpen(qa=metrics, maxPixels=1e13)"
   ]
  },
  {
   "cell_type": "markdown",
   "id": "24e23970",
   "metadata": {},
   "source": [
    "Calculated QA metrics can be retrieved from the sharpened image like any property. The property names always follow the format \"eemont:{QA name}\". Below, we see the `RASE` (Relative Average Spectral Error) value for the image sharpened with the default `SFIM` method. The ideal value for RASE is 0."
   ]
  },
  {
   "cell_type": "code",
   "execution_count": 13,
   "id": "224c9358",
   "metadata": {},
   "outputs": [
    {
     "data": {
      "text/plain": [
       "15.153220110202467"
      ]
     },
     "execution_count": 13,
     "metadata": {},
     "output_type": "execute_result"
    }
   ],
   "source": [
    "sharp.get(\"eemont:RASE\").getInfo()"
   ]
  },
  {
   "cell_type": "markdown",
   "id": "3a9327b9",
   "metadata": {},
   "source": [
    "Let's see how `RASE` compares when using `SM` sharpening."
   ]
  },
  {
   "cell_type": "code",
   "execution_count": 14,
   "id": "5c6f1256",
   "metadata": {},
   "outputs": [
    {
     "data": {
      "text/plain": [
       "49.04100968167302"
      ]
     },
     "execution_count": 14,
     "metadata": {},
     "output_type": "execute_result"
    }
   ],
   "source": [
    "sharp_sm = img.panSharpen(method=\"SM\", qa=metrics, maxPixels=1e13)\n",
    "sharp_sm.get(\"eemont:RASE\").getInfo()"
   ]
  },
  {
   "cell_type": "markdown",
   "id": "10d11edf",
   "metadata": {},
   "source": [
    "The higher `RASE` value in the `SM` image suggests more spectral distortion, so `SFIM` performed better."
   ]
  },
  {
   "cell_type": "markdown",
   "id": "e54c2a34",
   "metadata": {},
   "source": [
    "### Image-wise and Band-wise QA"
   ]
  },
  {
   "cell_type": "markdown",
   "id": "79ec7df6",
   "metadata": {},
   "source": [
    "`RASE` is an image-wise QA metric because it returns one value calculated for all bands together. Other QA metrics are band-wise and return one number for each band. Below, we'll see that the Universal Image Quality Index (`UIQI`) returns a quality value for each band. The ideal value for `UIQI` is 1."
   ]
  },
  {
   "cell_type": "code",
   "execution_count": 15,
   "id": "dc195366",
   "metadata": {},
   "outputs": [
    {
     "data": {
      "text/plain": [
       "{'B2': 0.9257909067747834,\n",
       " 'B3': 0.946138969196525,\n",
       " 'B4': 0.9603165087419183,\n",
       " 'B5': 0.9835284121260173,\n",
       " 'B6': 0.978635120940636,\n",
       " 'B7': 0.9760713865055599}"
      ]
     },
     "execution_count": 15,
     "metadata": {},
     "output_type": "execute_result"
    }
   ],
   "source": [
    "sharp.get(\"eemont:UIQI\").getInfo()"
   ]
  },
  {
   "cell_type": "markdown",
   "id": "831f8c94",
   "metadata": {},
   "source": [
    "Let's see how `UIQI` compares when using `SM` sharpening."
   ]
  },
  {
   "cell_type": "code",
   "execution_count": 16,
   "id": "5d13633e",
   "metadata": {},
   "outputs": [
    {
     "data": {
      "text/plain": [
       "{'B2': 0.9241026160115009,\n",
       " 'B3': 0.9634693861440802,\n",
       " 'B4': 0.9608864222114036,\n",
       " 'B5': 0.7370347291993338,\n",
       " 'B6': 0.8380615966696616,\n",
       " 'B7': 0.8808608544580628}"
      ]
     },
     "execution_count": 16,
     "metadata": {},
     "output_type": "execute_result"
    }
   ],
   "source": [
    "sharp_sm.get(\"eemont:UIQI\").getInfo()"
   ]
  },
  {
   "cell_type": "markdown",
   "id": "651010a9",
   "metadata": {},
   "source": [
    "Notice how `SM` performs similarly to `SFIM` in the visible spectrum (B2, B3, and B4), but performs much worse in the infrared spectrum (B5, B6, and B7)"
   ]
  },
  {
   "cell_type": "markdown",
   "id": "dd9870bf",
   "metadata": {},
   "source": [
    "### Metrics"
   ]
  },
  {
   "cell_type": "markdown",
   "id": "842a022f",
   "metadata": {},
   "source": [
    "The list below describes all QA metrics available through eemont."
   ]
  },
  {
   "cell_type": "markdown",
   "id": "11660710",
   "metadata": {},
   "source": [
    "| Name  | Full Name                                        | Ideal Value | Axis  |\n",
    "|:-------|:--------------------------------------------------|-------------|-------|\n",
    "| MSE   | Mean Square Error                                | 0           | Band  |\n",
    "| RMSE  | Root-Mean Square Error                           | 0           | Band  |\n",
    "| RASE  | Relative Average Spectral Error                  | 0           | Image |\n",
    "| ERGAS | Dimensionless Global Relative Error of Synthesis | 0           | Image |\n",
    "| DIV   | Difference in Variance                           | 0           | Band  |\n",
    "| bias  | Bias                                             | 0           | Band  |\n",
    "| CC    | Correlation Coefficient                          | 1           | Band  |\n",
    "| CML   | Change in Mean Luminance                         | 1           | Band  |\n",
    "| CMC   | Change in Mean Contrast                          | 1           | Band  |\n",
    "| UIQI  | Universal Image Quality Index                    | 1           | Band  |"
   ]
  }
 ],
 "metadata": {
  "kernelspec": {
   "display_name": "Python 3",
   "language": "python",
   "name": "python3"
  },
  "language_info": {
   "codemirror_mode": {
    "name": "ipython",
    "version": 3
   },
   "file_extension": ".py",
   "mimetype": "text/x-python",
   "name": "python",
   "nbconvert_exporter": "python",
   "pygments_lexer": "ipython3",
   "version": "3.9.4"
  }
 },
 "nbformat": 4,
 "nbformat_minor": 5
}
