{
 "cells": [
  {
   "cell_type": "markdown",
   "id": "789cc77f-48d1-4147-9de2-b01281848122",
   "metadata": {},
   "source": [
    "[![colab](https://colab.research.google.com/assets/colab-badge.svg)](https://colab.research.google.com/github/davemlz/eemont/blob/master/docs/tutorials/031-App-Manager.ipynb)\n",
    "[![Open in SageMaker Studio Lab](https://studiolab.sagemaker.aws/studiolab.svg)](https://studiolab.sagemaker.aws/import/github/davemlz/eemont/blob/master/docs/tutorials/031-App-Manager.ipynb)\n",
    "[![Open in Planetary Computer](https://img.shields.io/badge/Open-Planetary%20Computer-black?style=flat&logo=microsoft)](https://pccompute.westeurope.cloudapp.azure.com/compute/hub/user-redirect/git-pull?repo=https://github.com/davemlz/eemont&urlpath=lab/tree/eemont/docs/tutorials/031-App-Manager.ipynb&branch=master)"
   ]
  },
  {
   "cell_type": "markdown",
   "id": "962f49b0-c041-49c9-9d1f-5075859312b9",
   "metadata": {
    "id": "jZEthLln92Ep"
   },
   "source": [
    "# Inspect, Open and Download Earth Engine Apps"
   ]
  },
  {
   "cell_type": "markdown",
   "id": "c4bcbe8c-c06e-46a1-9999-4f9603d29c09",
   "metadata": {
    "id": "dNa470OZ8Oec"
   },
   "source": [
    "_Tutorial created by **David Montero Loaiza**_: [GitHub](https://github.com/davemlz) | [Twitter](https://twitter.com/dmlmont)\n",
    "\n",
    "- GitHub Repo: [https://github.com/davemlz/eemont](https://github.com/davemlz/eemont)\n",
    "- PyPI link: [https://pypi.org/project/eemont/](https://pypi.org/project/eemont/)\n",
    "- Conda-forge: [https://anaconda.org/conda-forge/eemont](https://anaconda.org/conda-forge/eemont)\n",
    "- Documentation: [https://eemont.readthedocs.io/](https://eemont.readthedocs.io/)\n",
    "- More tutorials: [https://github.com/davemlz/eemont/tree/master/docs/tutorials](https://github.com/davemlz/eemont/tree/master/docs/tutorials)"
   ]
  },
  {
   "cell_type": "markdown",
   "id": "53ebc385-903d-4d89-9ff1-ec84ee0034a0",
   "metadata": {
    "id": "CD7h0hbi92Er"
   },
   "source": [
    "## Let's start!"
   ]
  },
  {
   "cell_type": "markdown",
   "id": "5185cd5d-a392-45be-bb0e-abc1ad1eac6e",
   "metadata": {
    "id": "E0rc6Cya92Es"
   },
   "source": [
    "If required, please uncomment:"
   ]
  },
  {
   "cell_type": "code",
   "execution_count": 1,
   "id": "db957a97-1325-4160-8c05-395acbcac05d",
   "metadata": {
    "id": "NYzyvKtk92Es"
   },
   "outputs": [],
   "source": [
    "#!pip install eemont\n",
    "#!pip install geemap"
   ]
  },
  {
   "cell_type": "markdown",
   "id": "6626551e-3468-4d61-831e-aa9a55b6af47",
   "metadata": {
    "id": "x3Rm3qt_92Et"
   },
   "source": [
    "Import the required packages."
   ]
  },
  {
   "cell_type": "code",
   "execution_count": 2,
   "id": "2a2cc6e3-2cca-42c0-8425-ee58a2127aac",
   "metadata": {
    "id": "H0C9S_Hh92Et"
   },
   "outputs": [],
   "source": [
    "import ee, eemont"
   ]
  },
  {
   "cell_type": "markdown",
   "id": "cbcb9ef8-99ec-4148-bc72-f06dc95361d3",
   "metadata": {
    "id": "k1sdX2p592Eu"
   },
   "source": [
    "Authenticate and Initialize Earth Engine."
   ]
  },
  {
   "cell_type": "code",
   "execution_count": 3,
   "id": "65d44d62-876d-4234-8113-f39b7a569ff7",
   "metadata": {
    "id": "7QDXqVwy8Oef"
   },
   "outputs": [],
   "source": [
    "ee.Initialize()"
   ]
  },
  {
   "cell_type": "markdown",
   "id": "48ac77b4-b37d-4ac9-9d4c-4fb959a971f6",
   "metadata": {},
   "source": [
    "Let's define an Earth Engine App of interest: The Spectral Encounter (Sentinel-2)!"
   ]
  },
  {
   "cell_type": "code",
   "execution_count": 5,
   "id": "a0c4fc00-5b8a-4544-9960-d8d5c5232971",
   "metadata": {},
   "outputs": [],
   "source": [
    "spectralEncounterURL = \"https://valeriepasquarella.users.earthengine.app/view/spectral-encounter-s2\""
   ]
  },
  {
   "cell_type": "markdown",
   "id": "cff4535d-3136-4aff-bd16-07c39dd47880",
   "metadata": {},
   "source": [
    "## Inspect the App!"
   ]
  },
  {
   "cell_type": "markdown",
   "id": "e0780679-8f0f-47d3-985e-7e4d32e72c7e",
   "metadata": {},
   "source": [
    "`eemont` now has a new class: `ee.App`! Use it to manage an app!"
   ]
  },
  {
   "cell_type": "code",
   "execution_count": 6,
   "id": "e901b115-47d5-4ddf-8383-dbeeea7a04c7",
   "metadata": {},
   "outputs": [],
   "source": [
    "spectralEncounter = ee.App(spectralEncounterURL)"
   ]
  },
  {
   "cell_type": "markdown",
   "id": "81428dc8-d1ac-4cb4-b258-2eb136578c7d",
   "metadata": {},
   "source": [
    "Who created Spectral Encounter?"
   ]
  },
  {
   "cell_type": "code",
   "execution_count": 7,
   "id": "de976bc8-338f-40ba-81cb-3048ab894228",
   "metadata": {},
   "outputs": [
    {
     "data": {
      "text/plain": [
       "'valeriepasquarella'"
      ]
     },
     "execution_count": 7,
     "metadata": {},
     "output_type": "execute_result"
    }
   ],
   "source": [
    "spectralEncounter.creator"
   ]
  },
  {
   "cell_type": "markdown",
   "metadata": {},
   "source": [
    "That's right! Valerie Pasquarella created this awesome app! Go and thank [her](https://twitter.com/valpasq)! You can also access the creator name by using the `username` attribute:"
   ]
  },
  {
   "cell_type": "code",
   "execution_count": 8,
   "metadata": {},
   "outputs": [
    {
     "data": {
      "text/plain": [
       "'valeriepasquarella'"
      ]
     },
     "execution_count": 8,
     "metadata": {},
     "output_type": "execute_result"
    }
   ],
   "source": [
    "spectralEncounter.username"
   ]
  },
  {
   "cell_type": "markdown",
   "metadata": {},
   "source": [
    "What about the name of the app?"
   ]
  },
  {
   "cell_type": "code",
   "execution_count": 9,
   "metadata": {},
   "outputs": [
    {
     "data": {
      "text/plain": [
       "'spectral-encounter-s2'"
      ]
     },
     "execution_count": 9,
     "metadata": {},
     "output_type": "execute_result"
    }
   ],
   "source": [
    "spectralEncounter.name"
   ]
  },
  {
   "cell_type": "markdown",
   "metadata": {},
   "source": [
    "There you go!"
   ]
  },
  {
   "cell_type": "markdown",
   "metadata": {},
   "source": [
    "## Interact with the App\n",
    "\n",
    "What if you want to open the App in the browser? Well... I got you! Use the `open()` method!"
   ]
  },
  {
   "cell_type": "code",
   "execution_count": null,
   "metadata": {},
   "outputs": [],
   "source": [
    "spectralEncounter.open()"
   ]
  },
  {
   "cell_type": "markdown",
   "metadata": {},
   "source": [
    "Aaaaand... What if you want to download the JavaScript code of the App? Use the `download()` method!"
   ]
  },
  {
   "cell_type": "code",
   "execution_count": null,
   "metadata": {},
   "outputs": [],
   "source": [
    "spectralEncounter.download()"
   ]
  },
  {
   "cell_type": "markdown",
   "metadata": {},
   "source": [
    "Amazing! Right?"
   ]
  }
 ],
 "metadata": {
  "interpreter": {
   "hash": "4b94cbea260d8894569eed8b7f502451a64ef2daeee369ca0a2f4c87bd0c183d"
  },
  "kernelspec": {
   "display_name": "Python 3.10.0 64-bit ('icos': conda)",
   "language": "python",
   "name": "python3"
  },
  "language_info": {
   "codemirror_mode": {
    "name": "ipython",
    "version": 3
   },
   "file_extension": ".py",
   "mimetype": "text/x-python",
   "name": "python",
   "nbconvert_exporter": "python",
   "pygments_lexer": "ipython3",
   "version": "3.9.4"
  },
  "orig_nbformat": 4
 },
 "nbformat": 4,
 "nbformat_minor": 2
}
