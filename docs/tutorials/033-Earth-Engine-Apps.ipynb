{
 "cells": [
  {
   "cell_type": "markdown",
   "id": "789cc77f-48d1-4147-9de2-b01281848122",
   "metadata": {},
   "source": [
    "[![colab](https://colab.research.google.com/assets/colab-badge.svg)](https://colab.research.google.com/github/davemlz/eemont/blob/master/docs/tutorials/033-Earth-Engine-Apps.ipynb)\n",
    "[![Open in SageMaker Studio Lab](https://studiolab.sagemaker.aws/studiolab.svg)](https://studiolab.sagemaker.aws/import/github/davemlz/eemont/blob/master/docs/tutorials/033-Earth-Engine-Apps.ipynb)\n",
    "[![Open in Planetary Computer](https://img.shields.io/badge/Open-Planetary%20Computer-black?style=flat&logo=microsoft)](https://pccompute.westeurope.cloudapp.azure.com/compute/hub/user-redirect/git-pull?repo=https://github.com/davemlz/eemont&urlpath=lab/tree/eemont/docs/tutorials/033-Earth-Engine-Apps.ipynb&branch=master)"
   ]
  },
  {
   "cell_type": "markdown",
   "id": "962f49b0-c041-49c9-9d1f-5075859312b9",
   "metadata": {
    "id": "jZEthLln92Ep"
   },
   "source": [
    "# All Earth Engine Apps (using ee-appshot)"
   ]
  },
  {
   "cell_type": "markdown",
   "id": "c4bcbe8c-c06e-46a1-9999-4f9603d29c09",
   "metadata": {
    "id": "dNa470OZ8Oec"
   },
   "source": [
    "_Tutorial created by **David Montero Loaiza**_: [GitHub](https://github.com/davemlz) | [Twitter](https://twitter.com/dmlmont)\n",
    "\n",
    "- GitHub Repo: [https://github.com/davemlz/eemont](https://github.com/davemlz/eemont)\n",
    "- PyPI link: [https://pypi.org/project/eemont/](https://pypi.org/project/eemont/)\n",
    "- Conda-forge: [https://anaconda.org/conda-forge/eemont](https://anaconda.org/conda-forge/eemont)\n",
    "- Documentation: [https://eemont.readthedocs.io/](https://eemont.readthedocs.io/)\n",
    "- More tutorials: [https://github.com/davemlz/eemont/tree/master/docs/tutorials](https://github.com/davemlz/eemont/tree/master/docs/tutorials)"
   ]
  },
  {
   "cell_type": "markdown",
   "id": "53ebc385-903d-4d89-9ff1-ec84ee0034a0",
   "metadata": {
    "id": "CD7h0hbi92Er"
   },
   "source": [
    "## Let's start!"
   ]
  },
  {
   "cell_type": "markdown",
   "id": "5185cd5d-a392-45be-bb0e-abc1ad1eac6e",
   "metadata": {
    "id": "E0rc6Cya92Es"
   },
   "source": [
    "If required, please uncomment:"
   ]
  },
  {
   "cell_type": "code",
   "execution_count": 1,
   "id": "db957a97-1325-4160-8c05-395acbcac05d",
   "metadata": {
    "id": "NYzyvKtk92Es"
   },
   "outputs": [],
   "source": [
    "#!pip install eemont\n",
    "#!pip install geemap"
   ]
  },
  {
   "cell_type": "markdown",
   "id": "6626551e-3468-4d61-831e-aa9a55b6af47",
   "metadata": {
    "id": "x3Rm3qt_92Et"
   },
   "source": [
    "Import the required packages."
   ]
  },
  {
   "cell_type": "code",
   "execution_count": 2,
   "id": "2a2cc6e3-2cca-42c0-8425-ee58a2127aac",
   "metadata": {
    "id": "H0C9S_Hh92Et"
   },
   "outputs": [],
   "source": [
    "import ee, eemont"
   ]
  },
  {
   "cell_type": "markdown",
   "id": "cbcb9ef8-99ec-4148-bc72-f06dc95361d3",
   "metadata": {
    "id": "k1sdX2p592Eu"
   },
   "source": [
    "Authenticate and Initialize Earth Engine."
   ]
  },
  {
   "cell_type": "code",
   "execution_count": 3,
   "id": "65d44d62-876d-4234-8113-f39b7a569ff7",
   "metadata": {
    "id": "7QDXqVwy8Oef"
   },
   "outputs": [],
   "source": [
    "ee.Initialize()"
   ]
  },
  {
   "cell_type": "markdown",
   "id": "48ac77b4-b37d-4ac9-9d4c-4fb959a971f6",
   "metadata": {},
   "source": [
    "[ee-appshot](https://github.com/samapriya/ee-appshot) is an amazing resource created by [Samapriya Roy](https://twitter.com/samapriyaroy) that constantly check all Earth Engine apps and curates them, making them accessible through a JSON file. Well, here we used that amazing resource with a simple method: `ee.listApps()`!"
   ]
  },
  {
   "cell_type": "code",
   "execution_count": 4,
   "id": "a0c4fc00-5b8a-4544-9960-d8d5c5232971",
   "metadata": {},
   "outputs": [],
   "source": [
    "apps = ee.listApps()"
   ]
  },
  {
   "cell_type": "markdown",
   "metadata": {},
   "source": [
    "What is inside `apps`?"
   ]
  },
  {
   "cell_type": "code",
   "execution_count": 5,
   "metadata": {},
   "outputs": [
    {
     "data": {
      "text/plain": [
       "Google Earth Engine User Apps (items: ['104754190924', '19070241023', '19070241039', '19981211lmy', '1998arpit', '1halliejohnson', '20120206', '205527006', '2200902213', '311605001111', '350343914', '410093033', '6240212101', 'APP_DATA_I', 'Adedoyinsamuel25', 'Alberta_Sentinel_analysis_v20', 'AmeryLST', 'Amravati', 'AristidesMairena', 'AsifulAlam', 'Basic_Scripts', 'BesterRoz', 'CartasSol', 'CharlieBettigole', 'ChenyangWei', 'DavidTheobald8', 'Dicroud', 'Elnashar', 'Erith7', 'EverettBlakley', 'GEE_Alex', 'GEOINFORMERS', 'Gcarl134', 'GinaMazza', 'Investigacion_Pasturas', 'Iqbalemce', 'Jyoti', 'KSA-GEE-2020-21', 'KaterinaStamou', 'LakshyaChaudhary', 'LearningIIT', 'LucasKruitwagen', 'MScThesis', 'M_KONE', 'MarsXu', 'Mdgarzon', 'Mecit', 'MohsenSaber', 'NDVI_Masking_ex', 'NDVIchange', 'OHarrisson', 'OIL_PALM', 'OlhaDanylo', 'PIJ-17-05', 'PemaThinley', 'RMDMK', 'Rosmalisa_Dwiyaniek_ITS', 'Scarlettlee33', 'Shree1175', 'SyLonek', 'UGANDA', 'WWFDE', 'Water_Delineation', 'ZhenZhang', 'Zouheir_Ghribi', 'aaraney', 'aasareansah', 'abkdom', 'abmigc', 'abocin', 'addielloyd', 'adiarray', 'adiivascu14', 'adityawahyumayandika', 'adrrod44', 'ael2014', 'afotesfaye', 'ag', 'agilfahrezi', 'agronservice', 'ahokelsey', 'ahudson2', 'aidosmakhanov', 'aishwarya386', 'akarbasi', 'akbarnugroho', 'akinnunenuva', 'alaminu53', 'alannarebelo', 'albertvillalobosgasca', 'alejandromarambio', 'alemlakes', 'alexamm4', 'alexanderariza', 'alexanderquevedo', 'alexchunet', 'alkindigifty', 'almoma153', 'amalia22cristina', 'amreshcherry', 'andersonmuchawona', 'andradejmn', 'andreatassi23', 'andreim', 'andreydara', 'angulolinda', 'anighosh', 'aninditabindas', 'anindyapratisamara', 'anisomadas', 'anjardimarasakti', 'annaban5', 'annalisertaylor', 'anthonypjkent', 'antonbiatov', 'arcgistim', 'arcilor72', 'areebaseher04', 'arinnasution55', 'arisfikri633', 'ariverab', 'arjenhaag', 'ark1kh', 'arlestaboada', 'armandorodriguezmontellano', 'armkhudinyan', 'arpitashalini4', 'arshunt234', 'arunmuralicm', 'aryadanihlesmana', 'aryo', 'ashishgeo10', 'asivitskissce', 'asrenninger', 'astokes2', 'athiyakautsary', 'atstahl', 'aufaristama', 'aureliopereira1234', 'avvaler', 'awindle110', 'aykanbayram', 'azad977', 'aziza', 'azkidna', 'balakumaran247', 'baldassarre', 'bassantsara', 'bastinjf_climate', 'beckscottm', 'bedina92', 'benardonyango16', 'benitezrcamilo', 'benjaminpage8', 'bidushi97pandey', 'bildadchege2', 'biogeoscienceslaboxford', 'biplov', 'blepsch', 'blinking02', 'bnarayanarao', 'boombhupathi999', 'brdwoodward', 'brendonraw', 'breno_malheiros', 'brianneesby', 'bruzorek', 'bryceberrett', 'bsweet22', 'bullocke', 'burinc', 'bw_chen1223', 'bwilder95', 'bzgeo', 'cagutierrezra', 'cailinomalley15', 'canal', 'caralyngorman', 'carloshumbertoovsa', 'carlosnavarrochamical', 'cartografia2016ud', 'cartoscience', 'caseyengstrom', 'ccarl017', 'celiohelder', 'ceratocaryum', 'cesarnon', 'cgmatfeam', 'chaitawat_chat', 'chandana', 'charisgretler', 'chengyan2017', 'chengyun1431', 'chiayilin94', 'christinnea', 'christopherchoi98', 'chrisvandiemen', 'class9', 'claudiaherbert', 'claumao', 'climatehorizons', 'cmscheip', 'cnilsen', 'collectearth', 'coopshen', 'corneliussenf', 'coscher510', 'cowherd', 'cpwaldman', 'craigds', 'craigmahlasi', 'crivard', 'csaybar', 'csheth', 'cyr9699', 'czhang11', 'dag', 'dandy', 'danielhirst1998', 'daniellookorox', 'daprieto24', 'dareyt', 'datacemgundogan', 'datadrivenlab', 'datasetbanjir', 'davidlagomasino', 'davidparastatidis', 'davidtheobald8', 'dbpentest', 'debcysjec', 'dededirgahayu11', 'deepakna', 'defendersofwildlifeGIS', 'deka', 'delaralfonso', 'delicktang', 'derickongeri', 'devendrakumariirs', 'dghosh616', 'dhallruchika20', 'dhruvmehrotra3', 'dichay69', 'diegopons06', 'diegosilva', 'diegovalencia', 'digdgeografo', 'diimanut', 'dilmillano', 'dinama', 'dingweic129', 'dinukemunasinghe', 'djvek1067164', 'dnschavarria', 'dongformis', 'dongora', 'dpacheco', 'drhamedtavakolifar', 'drhburningham', 'dtn1753160001', 'dugalh', 'durvaljd', 'duynguyen', 'dyhammon', 'dylanhatlas', 'e41171697', 'eaglecopernicussar', 'earthengineedu', 'ecatcom1', 'ecosistemaslenticos', 'edersantibanhez', 'edgarmanrique30', 'edtrochim', 'eduardo2188', 'eduardomorenogil', 'edwinosei1995', 'eeProject', 'eeyale', 'efha94', 'eirejuan', 'ejvalero', 'eladente', 'emaprlab', 'emilioaguilarcubilla', 'engcnalmeida', 'engsoaresfilho', 'eopokukwarteng', 'ericjensen41_default', 'erikfao', 'ermaure', 'erollero', 'esavelye43', 'esrodrigo', 'estimacionesmagyp', 'etiennekras', 'eutrophicationwatch', 'eva_nates', 'fahrulmuhamad20', 'fajri91', 'fakhrurrozi', 'famambengue05', 'faocongo', 'farda', 'fathan1193', 'fatwa', 'fatwaramdani', 'fbaart', 'februarytar', 'felipe2cardoso', 'felipegee', 'felipellobo', 'fernandairokawa', 'fernandotentor', 'fh456h56j76jk87k34', 'fhuamani', 'fikriabdulhalim2204', 'firdanursaidah', 'firsake', 'fitoprincipe', 'fjmesas', 'florisrc', 'francofrolla', 'franklinlmc', 'frederickirchhoff', 'fsn1995', 'ftentor', 'fudongjie', 'gabo2809', 'gaertnerp', 'gaguilar', 'gaitanjuanjose', 'gakarak', 'galimbertiluca', 'gayanefaye', 'gdispiri', 'gee-course', 'geerestec', 'gemasaktiadzan', 'gena', 'geocastellanosg', 'geocis', 'geog4046', 'geogismx', 'geomapeamentoipam', 'geraldcorzo', 'geraldoarquimedes', 'gerardosoto', 'gervasiopineiro', 'gfd', 'gfiske', 'gharbiyamina6', 'ghifariroyan', 'giacomofalchetta', 'gis', 'gismlai', 'gissplwbadmip', 'gistin', 'giswqs', 'glarrea', 'glennwithtwons', 'gponce', 'gregorygiuliani', 'guisousalobo', 'gustavoirgang', 'gustavoonagel', 'gwevanderzalm', 'haaaker4', 'hadicu06', 'hammadgilani', 'hareldunn', 'harrygibson', 'hasith', 'havinbest', 'heichinoda', 'herciloodorico', 'herethere', 'hifengxu', 'hikerd', 'hilashamoon', 'hkrnhn', 'hkvgee', 'honoriosanchezjacin', 'huyquangp10', 'hydrosolutions', 'hylmind', 'hzauliutingting', 'ianhousman', 'iastopalidis', 'ibisa', 'idoublegy', 'ieco', 'iglushko', 'imadghanma', 'ingmarnitze', 'intalulc', 'irlan128', 'ispguv', 'isti', 'itzmeparth17', 'ivannalissaputra24', 'iwankubus', 'j9herrer', 'jaafarhadi', 'jackreid', 'jackrobison', 'jakarta-sentinel', 'jamesbrinkhoff', 'jamesmfitton', 'jamonvdh', 'jasminemuir', 'jasonyumail1984', 'jatullis', 'jayamapleton', 'jbijlgeo', 'jcvandervoort', 'jdeines', 'jeff', 'jeffjeff20072', 'jeffreyryangroff', 'jeherschberger', 'jesusyw', 'jfzweegman', 'jhjoelph', 'jhnienhuis', 'jhonatanrsantos', 'jhowarth', 'jirawatdaraneesrisuk', 'jjisasti', 'jmalleswararao', 'jmleaglacio', 'jnhird', 'jnmusinsky', 'joaherrerama', 'joaootavionf007', 'joberthgambati', 'jodaurmu', 'johnkucharski', 'johnstongonzalez', 'jonasjunnior', 'jonathangej', 'jorcabes', 'joseauza', 'josecaceres', 'joselucassafanelli', 'josemanueldelgadoblasco', 'joshlivni', 'jpiatek', 'jpoetzscher', 'jpyogarajah', 'jscorreia66', 'jsdogbey', 'jshin', 'jsilvan', 'jsilverio', 'jstnbraaten', 'jsumbalan', 'jtbsurrey', 'juan0herrera', 'juandb', 'juantorres-batllo', 'juliodavid961', 'kabasalaheddine', 'kabiruddinbd', 'kadepasca100', 'kaihu', 'kaiyuan1202', 'kalairamea', 'kalinggatitonnurihsan', 'kamas72_ML_Zim_Cities', 'kamielverhelst', 'karolinazieba', 'katbastidasm', 'kentaogawa', 'kevinwbarnes', 'khaledalshamaa', 'khanalnishant', 'khanifar', 'kikogasgonia', 'kindgard', 'kitmyfaceplease2', 'kjlander7', 'kkraoj', 'kmccallum', 'kongdd', 'kristofvantricht', 'krotalo25', 'kuquanghuylcb', 'labiadhmoez', 'leofabiop120', 'lethiquynhhoa', 'lexisgis', 'lezanacd', 'lfrmformacion', 'lgoldberg8000', 'liezlvermeuln', 'liruonan02', 'listerkristineanne', 'lixuecaosysu', 'lizcanosandoval', 'lks', 'lmathew', 'lobanov', 'loganmitchell', 'lopezjuana', 'lpintos', 'lschreiber', 'lsovellfernandez', 'luciovilla', 'luizcf14', 'luzhen0527', 'lyyuwanly1', 'madridyesi2000', 'mahbubges55', 'maikolzaraza07', 'malikaakash867', 'maltraz457', 'manaufaldi21', 'manishshah120', 'manmeet20singh15', 'mapbiomas', 'marcopazminoh', 'marcosmendezlordsburg', 'marcrusswurm', 'marcyinfeng', 'mariangeluna3325', 'marionghndh', 'martaberliana42', 'marufce2k7', 'masitamanessa', 'matteojriva', 'matteoliviergfpoisy', 'matthepler', 'maulanadpr29', 'mbgfpeg', 'mbuenaventura', 'mcwimberly', 'mdewitt', 'mdh', 'mdm', 'mehtabsyed', 'meldasalhab', 'mengbjfu', 'meritdataset', 'mfjtaylor', 'mgaute14', 'mhmttdj18', 'mihzemva', 'milad', 'milesvandenburg', 'minervas_jojo_code', 'mitchest', 'mithilasudesh', 'mjw1280', 'mkm1671', 'mkoontz', 'mmodou', 'moabbasmostafa', 'mohammadardha', 'mohfaisal181099', 'mohshafi16', 'momaabna', 'monicamons12', 'morceli09', 'mortezakhazaei1370', 'moukomlasitthisak', 'mrdaryl_90', 'mrezasaberi2015', 'msanthosh1855', 'muhammadasa18', 'muhammadzainalsalim', 'muhlispalagan2107', 'multifcer', 'murillop', 'nabinyadav34', 'nai_rum', 'nandoceanos', 'nandopando', 'nateme16', 'nclinton', 'ndmorndiaye', 'nestorcaalsuc', 'nguyenkhoiphql', 'nicolasalejandromari', 'nicoridley09', 'nicosv95', 'nigo1973', 'nilsvandervliet', 'nitamihaidaniel', 'niteshpatidar88', 'nitterritorio', 'niujsdige', 'njaumaggielu', 'njberkowitz95', 'nkeikon', 'nkwjones', 'nlab', 'nlang', 'nowfel_mahmud', 'nrtwur', 'ntrnhan95', 'nunocesardesa', 'nwobicj', 'nzahasan', 'observatorionieves', 'ogordienko112', 'olegzhelezn', 'oliverblues', 'oliverwesley96', 'olivierqueyrut', 'ollielballinger', 'openforisinitiative', 'orbtwz', 'ormserdar', 'owinoamolo', 'oztasbaris12', 'palashbasak', 'parevalo-bu', 'parevalo_bu', 'paulapaz1101', 'pb463', 'pbaldass', 'pcrishi61', 'pengshuhong1231', 'penuelabi', 'phamngochairs', 'phedelt', 'philblankenau', 'philipaudebert', 'philtown81', 'phr2707', 'piotrjaniec2', 'pjgelabert', 'plewis', 'pmisson', 'pornchai', 'prakhar', 'pramayudar', 'pranavspandya', 'priogladpy', 'puentesdiaz_test', 'putriadinda2501', 'rachelhu', 'rajatshinde2303', 'rajbhagatt', 'ramakunto335482', 'rambabu', 'rasendriyaramanda', 'rashikaaCropPrediction', 'rauldeatcu99', 'rayoly', 'rbernet', 'rcamargo', 'rdandrimont', 'rdcreniouputri', 'rebeccanavarrokhoury', 'remotesensingjournal', 'renankami', 'resourcewatchlandcover', 'rezqydyah', 'rfernand387', 'rfinerma', 'ricardogeo', 'ridgei', 'riecchah', 'rifkynauvalhsp', 'rinkalpatel', 'rishabhjain4891', 'rizkiatthoriq99', 'rizkinandika', 'rjboothroyd1', 'rnanclares', 'rnvuefsppgm', 'robertMmyers', 'rodrigogallis', 'rogersckw9', 'rogierwesterhoff', 'romansah', 'romansahwumu', 'rondrori', 'rongguangni', 'rosajohar', 'rossbernet', 'rriggs', 'rrmeza89', 'rudiger', 'rudplatt', 'rusetskyserg', 'rutgerhofste', 'ryanlcrumley', 'ryanpatrickrock', 's5p_co_nederland', 'sabenz', 'sabrinaholanda', 'sachasiani', 'sachinbobbili', 'sadeckgeo', 'salmanddd14', 'samapriya', 'samirsellars', 'samsammurphy', 'sanarvaez', 'sanchezpauspro', 'sandeepgadhwal1', 'sandersson0013', 'santhosh_m', 'santiagobanchero', 'santiagoduarte09', 'saraiva', 'sarthakkgupta', 'satropcool', 'saurabh', 'savannalabnmsu', 'sayantandeygis', 'sbrooke14', 'schwehr', 'scoffiel', 'sdwijati', 'seiasia', 'seibertli602', 'sent2download', 'serchjimenez1990', 'sergeygs', 'sergioingeo', 'servirbz', 'sgascoin', 'sgkearthengine', 'shared', 'shawfi', 'shijuanchen32', 'shilosh', 'shokishimada', 'shovon_3205', 'shree1175', 'shubhanu', 'shugh', 'sid4991', 'sigcica', 'sigyury', 'singh22pragati', 'skytruth-data', 'slyfox6969', 'smithdavid529', 'smokepolicytool', 'sntopp', 'soilwatch', 'soleimanisaeed', 'solvedgeo', 'sommer', 'spancheri', 'spareeth', 'spiruel', 'sravanthijillela9', 'sreeram720', 'srinuvasbathula09', 'srtm', 'ssebop', 'starmizi', 'stcarp', 'stormwaterheatmap', 'sudippradhan', 'sufyabbasi', 'sukmaramdp', 'suvichand', 'suyuanfong', 'svangordon', 'sweetypriya', 'syailendrag', 'syukrealworld', 'taakkEEs', 'tanzimtaher90', 'tauanaramthum', 'tavorageo4good', 'teledeteccio', 'tell2kumaresh', 'tgomez', 'thailynnmunroe', 'thaiqm09gl', 'thanhgeevn', 'thao226355', 'theronmb', 'thetreemap', 'thiraday', 'tingtinghe2011', 'tirthankarchakraborty', 'tm0085', 'tomw_ee', 'toni-m-delhoyo', 'treeline', 'tszheichoi', 'tutorial_test', 'tvandevoorde', 'tvklinh', 'tylere', 'tzwgeeetest', 'ucanwhatsappme', 'uestc180306', 'ujavalgandhi', 'unfassbarstephan', 'uploads', 'urbansustlab', 'usda-nass', 'users.earthengine.app', 'vaishnaviadhav31', 'valentinasagris', 'valeriepasquarella', 'vanesa14mar', 'varunkt91', 'veget_indexes', 'vieiramesquita', 'vincentlonjou', 'vitorsveg', 'vladwingate2', 'vportillososa', 'waeldimassi', 'wallacesilva', 'wawerujohn', 'weather', 'wesleydbell', 'wiesehahn', 'wrd-iwmi', 'wrd_iwmi', 'wufvckshuo', 'wuhan199611', 'xf1045396604', 'xiaozhen6666666', 'xinzhiWu', 'xjtang', 'xskong', 'xsseeed', 'xuhuithu', 'xunhezhang', 'xyhuwm', 'yaleschoolofmedicine', 'yang', 'yangdi1031', 'yangjie', 'yanmedah', 'yceo', 'ylfeng', 'youceffekir', 'yufujimoto', 'yuleslig01', 'yxflovexh', 'zacharysha1018', 'zandersamuel', 'zh', 'zhangh876', 'zhaojiyao15', 'zipingyang0916', 'zoltansylvester', 'zrahimi', 'zwang'])"
      ]
     },
     "execution_count": 5,
     "metadata": {},
     "output_type": "execute_result"
    }
   ],
   "source": [
    "apps"
   ]
  },
  {
   "cell_type": "markdown",
   "id": "e0780679-8f0f-47d3-985e-7e4d32e72c7e",
   "metadata": {},
   "source": [
    "I know, that looks weird. But it is amazing! `apps` is a dictionary with the usernames of the people that have created Earth Engine Apps! let's visualize an user: The amazing [Justin Braaten](https://twitter.com/jstnbraaten)!"
   ]
  },
  {
   "cell_type": "code",
   "execution_count": 6,
   "id": "e901b115-47d5-4ddf-8383-dbeeea7a04c7",
   "metadata": {},
   "outputs": [
    {
     "data": {
      "text/plain": [
       "Google Earth Engine User Apps (items: ['conus-cover-vis', 'kincade-fire-explorer', 'pdsi-explorer', 'pdsi-explorer-global', 'tongass-nf-logging', 'tropomi-explorer', 'wilder-ranch-state-park-fire-treatment', 'dos-bocas-refinery', 'eo-timeseries-explorer', 'landsat-timeseries-explorer', 'mobile-ndvi', 'nlcd-2016-impervious-surface-cover', 'uttarakhand-flood'])"
      ]
     },
     "execution_count": 6,
     "metadata": {},
     "output_type": "execute_result"
    }
   ],
   "source": [
    "apps.jstnbraaten"
   ]
  },
  {
   "cell_type": "markdown",
   "id": "81428dc8-d1ac-4cb4-b258-2eb136578c7d",
   "metadata": {},
   "source": [
    "Do you see that? Those items are all the Earth Engine Apps created by Justin! Let's see the Landsat Time Series Explorer!"
   ]
  },
  {
   "cell_type": "code",
   "execution_count": 7,
   "id": "de976bc8-338f-40ba-81cb-3048ab894228",
   "metadata": {},
   "outputs": [
    {
     "data": {
      "text/plain": [
       "Google Earth Engine App (name: landsat-timeseries-explorer, creator: jstnbraaten)"
      ]
     },
     "execution_count": 7,
     "metadata": {},
     "output_type": "execute_result"
    }
   ],
   "source": [
    "apps.jstnbraaten.landsat_timeseries_explorer"
   ]
  },
  {
   "cell_type": "markdown",
   "metadata": {},
   "source": [
    "Remember the tutorial of the App Manager? hint: the new class `ee.App`? Well, that's the class of this app and you can iteract with it! Let's open the app in the browser!"
   ]
  },
  {
   "cell_type": "code",
   "execution_count": null,
   "metadata": {},
   "outputs": [],
   "source": [
    "apps.jstnbraaten.landsat_timeseries_explorer.open()"
   ]
  },
  {
   "cell_type": "markdown",
   "metadata": {},
   "source": [
    "And finally, let's download the app!"
   ]
  },
  {
   "cell_type": "code",
   "execution_count": null,
   "metadata": {},
   "outputs": [],
   "source": [
    "apps.jstnbraaten.landsat_timeseries_explorer.download()"
   ]
  }
 ],
 "metadata": {
  "interpreter": {
   "hash": "327d5e621b974e147ccdb6304d32641b717e1682a943007f603cee52dd910c1d"
  },
  "kernelspec": {
   "display_name": "Python 3.9.4 64-bit ('eemont': conda)",
   "language": "python",
   "name": "python3"
  },
  "language_info": {
   "codemirror_mode": {
    "name": "ipython",
    "version": 3
   },
   "file_extension": ".py",
   "mimetype": "text/x-python",
   "name": "python",
   "nbconvert_exporter": "python",
   "pygments_lexer": "ipython3",
   "version": "3.9.4"
  },
  "orig_nbformat": 4
 },
 "nbformat": 4,
 "nbformat_minor": 2
}
