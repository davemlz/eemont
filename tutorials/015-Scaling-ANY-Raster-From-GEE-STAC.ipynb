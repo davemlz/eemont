{
 "cells": [
  {
   "cell_type": "markdown",
   "metadata": {},
   "source": [
    "<a href=\"https://colab.research.google.com/github/davemlz/eemont/blob/master/tutorials/015-Scaling-ANY-Raster-From-GEE-STAC.ipynb\" target=\"_parent\"><img src=\"https://colab.research.google.com/assets/colab-badge.svg\" alt=\"Open In Colab\"/></a>"
   ]
  },
  {
   "cell_type": "markdown",
   "metadata": {
    "id": "jZEthLln92Ep"
   },
   "source": [
    "# Scaling and Offseting ANY RASTER DATASET From the GEE STAC"
   ]
  },
  {
   "cell_type": "markdown",
   "metadata": {
    "id": "dNa470OZ8Oec"
   },
   "source": [
    "- GitHub Repo: [https://github.com/davemlz/eemont](https://github.com/davemlz/eemont)\n",
    "- PyPI link: [https://pypi.org/project/eemont/](https://pypi.org/project/eemont/)\n",
    "- Conda-forge: [https://anaconda.org/conda-forge/eemont](https://anaconda.org/conda-forge/eemont)\n",
    "- Documentation: [https://eemont.readthedocs.io/](https://eemont.readthedocs.io/)\n",
    "- More tutorials: [https://github.com/davemlz/eemont/tree/master/tutorials](https://github.com/davemlz/eemont/tree/master/tutorials)"
   ]
  },
  {
   "cell_type": "markdown",
   "metadata": {
    "id": "CD7h0hbi92Er"
   },
   "source": [
    "## Let's start!"
   ]
  },
  {
   "cell_type": "markdown",
   "metadata": {
    "id": "E0rc6Cya92Es"
   },
   "source": [
    "If required, please uncomment:"
   ]
  },
  {
   "cell_type": "code",
   "execution_count": null,
   "metadata": {
    "id": "NYzyvKtk92Es"
   },
   "outputs": [],
   "source": [
    "#!pip install eemont\n",
    "#!pip install geemap"
   ]
  },
  {
   "cell_type": "markdown",
   "metadata": {
    "id": "x3Rm3qt_92Et"
   },
   "source": [
    "Import the required packges."
   ]
  },
  {
   "cell_type": "code",
   "execution_count": null,
   "metadata": {
    "id": "H0C9S_Hh92Et"
   },
   "outputs": [],
   "source": [
    "import ee, eemont, geemap\n",
    "import geemap.colormaps as cm"
   ]
  },
  {
   "cell_type": "markdown",
   "metadata": {
    "id": "k1sdX2p592Eu"
   },
   "source": [
    "Authenticate and Initialize Earth Engine and geemap."
   ]
  },
  {
   "cell_type": "code",
   "execution_count": null,
   "metadata": {
    "id": "7QDXqVwy8Oef"
   },
   "outputs": [],
   "source": [
    "Map = geemap.Map()"
   ]
  },
  {
   "cell_type": "markdown",
   "metadata": {},
   "source": [
    "Let's define a point of interest:"
   ]
  },
  {
   "cell_type": "code",
   "execution_count": null,
   "metadata": {},
   "outputs": [],
   "source": [
    "poi = ee.Geometry.PointFromQuery(\"Argel, Algeria\",user_agent = \"eemont-tutorial-015\")"
   ]
  },
  {
   "cell_type": "markdown",
   "metadata": {},
   "source": [
    "Let's try 5 different datasets:"
   ]
  },
  {
   "cell_type": "code",
   "execution_count": null,
   "metadata": {},
   "outputs": [],
   "source": [
    "S2 = ee.ImageCollection(\"COPERNICUS/S2_SR\").filterBounds(poi)\n",
    "L8 = ee.ImageCollection(\"LANDSAT/LC08/C01/T1_SR\").filterBounds(poi)\n",
    "MOD11A2 = ee.ImageCollection(\"MODIS/006/MOD11A2\").filterBounds(poi)\n",
    "WAPOR_ET = ee.ImageCollection(\"FAO/WAPOR/2/L1_AETI_D\").filterBounds(poi)\n",
    "NOAA_OCEAN_SURF_TEMP = ee.ImageCollection(\"NOAA/CDR/OISST/V2_1\").filterBounds(poi)"
   ]
  },
  {
   "cell_type": "markdown",
   "metadata": {},
   "source": [
    "## Check the SCALE parameters"
   ]
  },
  {
   "cell_type": "markdown",
   "metadata": {},
   "source": [
    "In order to check the SCALE parameters of any raster dataset (ee.Image or ee.ImageCollection), use the `getScaleParams`:"
   ]
  },
  {
   "cell_type": "code",
   "execution_count": null,
   "metadata": {},
   "outputs": [],
   "source": [
    "S2.getScaleParams()"
   ]
  },
  {
   "cell_type": "markdown",
   "metadata": {},
   "source": [
    "The `getScaleParams` will retrieve a dictionay where each key is each of the bands of the datasets and the value is the scale factor for that band."
   ]
  },
  {
   "cell_type": "markdown",
   "metadata": {},
   "source": [
    "The `getScaleParams` method also works for ee.Image classes:"
   ]
  },
  {
   "cell_type": "code",
   "execution_count": null,
   "metadata": {},
   "outputs": [],
   "source": [
    "S2.first().getScaleParams()"
   ]
  },
  {
   "cell_type": "markdown",
   "metadata": {},
   "source": [
    "If a band doesn't have a scale factor, this will be retrieved as 1."
   ]
  },
  {
   "cell_type": "markdown",
   "metadata": {},
   "source": [
    "Now, let's check the scale parameters for the rest of the datasets:"
   ]
  },
  {
   "cell_type": "code",
   "execution_count": null,
   "metadata": {},
   "outputs": [],
   "source": [
    "L8.getScaleParams()"
   ]
  },
  {
   "cell_type": "code",
   "execution_count": null,
   "metadata": {},
   "outputs": [],
   "source": [
    "MOD11A2.getScaleParams()"
   ]
  },
  {
   "cell_type": "code",
   "execution_count": null,
   "metadata": {},
   "outputs": [],
   "source": [
    "WAPOR_ET.getScaleParams()"
   ]
  },
  {
   "cell_type": "code",
   "execution_count": null,
   "metadata": {},
   "outputs": [],
   "source": [
    "NOAA_OCEAN_SURF_TEMP.getScaleParams()"
   ]
  },
  {
   "cell_type": "markdown",
   "metadata": {},
   "source": [
    "## Check the OFFSET parameters"
   ]
  },
  {
   "cell_type": "markdown",
   "metadata": {},
   "source": [
    "In order to check the OFFSET parameters of any raster dataset (ee.Image or ee.ImageCollection), use the `getOffsetParams`:"
   ]
  },
  {
   "cell_type": "code",
   "execution_count": null,
   "metadata": {},
   "outputs": [],
   "source": [
    "S2.getOffsetParams()"
   ]
  },
  {
   "cell_type": "markdown",
   "metadata": {},
   "source": [
    "The `getOffsetParams` will retrieve a dictionay where each key is each of the bands of the datasets and the value is the offset factor for that band."
   ]
  },
  {
   "cell_type": "markdown",
   "metadata": {},
   "source": [
    "The `getOffsetParams` method also works for ee.Image classes:"
   ]
  },
  {
   "cell_type": "code",
   "execution_count": null,
   "metadata": {},
   "outputs": [],
   "source": [
    "S2.first().getOffsetParams()"
   ]
  },
  {
   "cell_type": "markdown",
   "metadata": {},
   "source": [
    "If a band doesn't have an offset factor, this will be retrieved as 0."
   ]
  },
  {
   "cell_type": "markdown",
   "metadata": {},
   "source": [
    "Now, let's check the offset parameters for the rest of the datasets:"
   ]
  },
  {
   "cell_type": "code",
   "execution_count": null,
   "metadata": {},
   "outputs": [],
   "source": [
    "L8.getOffsetParams()"
   ]
  },
  {
   "cell_type": "code",
   "execution_count": null,
   "metadata": {},
   "outputs": [],
   "source": [
    "MOD11A2.getOffsetParams()"
   ]
  },
  {
   "cell_type": "markdown",
   "metadata": {},
   "source": [
    "Most datasets have no offset factors, however, in some cases (e.g. MOD11A2), these can be found."
   ]
  },
  {
   "cell_type": "code",
   "execution_count": null,
   "metadata": {},
   "outputs": [],
   "source": [
    "WAPOR_ET.getOffsetParams()"
   ]
  },
  {
   "cell_type": "code",
   "execution_count": null,
   "metadata": {},
   "outputs": [],
   "source": [
    "NOAA_OCEAN_SURF_TEMP.getOffsetParams()"
   ]
  },
  {
   "cell_type": "markdown",
   "metadata": {},
   "source": [
    "## Automatic Scaling and Offsetting"
   ]
  },
  {
   "cell_type": "markdown",
   "metadata": {},
   "source": [
    "The automatic scaling and offsetting can be achieved by running the `scaleAndOffset` method for ee.Image and ee.ImageCollection classes (This method will eventually replace the `scale` method):"
   ]
  },
  {
   "cell_type": "code",
   "execution_count": null,
   "metadata": {},
   "outputs": [],
   "source": [
    "S2 = S2.scaleAndOffset()\n",
    "L8 = L8.scaleAndOffset()\n",
    "MOD11A2 = MOD11A2.scaleAndOffset()\n",
    "WAPOR_ET = WAPOR_ET.scaleAndOffset()\n",
    "NOAA_OCEAN_SURF_TEMP = NOAA_OCEAN_SURF_TEMP.scaleAndOffset()"
   ]
  },
  {
   "cell_type": "markdown",
   "metadata": {},
   "source": [
    "Visualization parameters:"
   ]
  },
  {
   "cell_type": "code",
   "execution_count": null,
   "metadata": {},
   "outputs": [],
   "source": [
    "reflectance_RGB_vis = {\n",
    "    \"min\": 0,\n",
    "    \"max\": 0.3,\n",
    "    \"bands\": [\"B4\",\"B3\",\"B2\"]\n",
    "}\n",
    "\n",
    "Kelvin_LST_vis = {\n",
    "    \"min\": 280,\n",
    "    \"max\": 320,\n",
    "    \"bands\": \"LST_Day_1km\",\n",
    "    \"palette\": cm.palettes.inferno\n",
    "}\n",
    "\n",
    "mm_ET_vis = {\n",
    "    \"min\": 0,\n",
    "    \"max\": 5,\n",
    "    \"bands\": \"L1_AETI_D\",\n",
    "    \"palette\": cm.palettes.Blues\n",
    "}\n",
    "\n",
    "Celsius_OST_vis = {\n",
    "    \"min\": -1.8,\n",
    "    \"max\": 30,\n",
    "    \"bands\": \"sst\",\n",
    "    \"palette\": cm.palettes.inferno\n",
    "}"
   ]
  },
  {
   "cell_type": "markdown",
   "metadata": {},
   "source": [
    "Let's visualize everything with `geemap`:"
   ]
  },
  {
   "cell_type": "code",
   "execution_count": null,
   "metadata": {},
   "outputs": [],
   "source": [
    "Map = geemap.Map()\n",
    "Map.addLayer(S2.first(),reflectance_RGB_vis,\"S2 RGB (SR)\")\n",
    "Map.addLayer(L8.first(),reflectance_RGB_vis,\"L8 RGB (SR)\")\n",
    "Map.addLayer(MOD11A2.first(),Kelvin_LST_vis,\"MOD11A2 LST Day (Kelvin)\")\n",
    "Map.addLayer(WAPOR_ET.first(),mm_ET_vis,\"WAPOR ET (mm)\")\n",
    "Map.addLayer(NOAA_OCEAN_SURF_TEMP.first(),Celsius_OST_vis,\"NOAA OST (Celsius)\")\n",
    "Map.centerObject(poi,6)\n",
    "Map"
   ]
  }
 ],
 "metadata": {
  "kernelspec": {
   "display_name": "Python 3",
   "language": "python",
   "name": "python3"
  },
  "language_info": {
   "codemirror_mode": {
    "name": "ipython",
    "version": 3
   },
   "file_extension": ".py",
   "mimetype": "text/x-python",
   "name": "python",
   "nbconvert_exporter": "python",
   "pygments_lexer": "ipython3",
   "version": "3.7.6"
  }
 },
 "nbformat": 4,
 "nbformat_minor": 4
}
