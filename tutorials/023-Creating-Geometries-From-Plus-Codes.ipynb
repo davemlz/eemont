{
 "cells": [
  {
   "cell_type": "markdown",
   "metadata": {},
   "source": [
    "<a href=\"https://colab.research.google.com/github/davemlz/eemont/blob/master/tutorials/023-Creating-Geometry-From-Plus-Codes.ipynb\" target=\"_parent\"><img src=\"https://colab.research.google.com/assets/colab-badge.svg\" alt=\"Open In Colab\"/></a>"
   ]
  },
  {
   "cell_type": "markdown",
   "metadata": {
    "id": "jZEthLln92Ep"
   },
   "source": [
    "# Creating Geometries From Plus Codes (and Vice Versa)\n",
    "_Tutorial created by_ [Aaron Zuspan](https://github.com/aazuspan)"
   ]
  },
  {
   "cell_type": "markdown",
   "metadata": {
    "id": "dNa470OZ8Oec"
   },
   "source": [
    "- GitHub Repo: [https://github.com/davemlz/eemont](https://github.com/davemlz/eemont)\n",
    "- PyPI link: [https://pypi.org/project/eemont/](https://pypi.org/project/eemont/)\n",
    "- Documentation: [https://eemont.readthedocs.io/en/0.1.8/index.html](https://eemont.readthedocs.io/en/0.1.8/index.html)\n",
    "- More tutorials: [https://github.com/davemlz/eemont/tree/master/tutorials](https://github.com/davemlz/eemont/tree/master/tutorials)"
   ]
  },
  {
   "cell_type": "markdown",
   "metadata": {
    "id": "CD7h0hbi92Er"
   },
   "source": [
    "## Let's start!"
   ]
  },
  {
   "cell_type": "markdown",
   "metadata": {
    "id": "E0rc6Cya92Es"
   },
   "source": [
    "If required, please uncomment:"
   ]
  },
  {
   "cell_type": "code",
   "execution_count": null,
   "metadata": {
    "id": "NYzyvKtk92Es"
   },
   "outputs": [],
   "source": [
    "#!pip install eemont\n",
    "#!pip install geemap\n",
    "#!pip install openlocationcode"
   ]
  },
  {
   "cell_type": "markdown",
   "metadata": {},
   "source": [
    "Import the required packges."
   ]
  },
  {
   "cell_type": "code",
   "execution_count": null,
   "metadata": {
    "id": "H0C9S_Hh92Et"
   },
   "outputs": [],
   "source": [
    "import ee, eemont, geemap"
   ]
  },
  {
   "cell_type": "markdown",
   "metadata": {
    "id": "k1sdX2p592Eu"
   },
   "source": [
    "Authenticate and Initialize Earth Engine and geemap."
   ]
  },
  {
   "cell_type": "code",
   "execution_count": null,
   "metadata": {
    "id": "7QDXqVwy8Oef"
   },
   "outputs": [],
   "source": [
    "Map = geemap.Map()"
   ]
  },
  {
   "cell_type": "markdown",
   "metadata": {},
   "source": [
    "## Creating a Single Point  (ee.Geometry)"
   ]
  },
  {
   "cell_type": "markdown",
   "metadata": {},
   "source": [
    "A [Plus Code](https://maps.google.com/pluscodes/) represents the coordinates of a small area. Creating a point from a Plus Code will return the centroid geometry of that area. "
   ]
  },
  {
   "cell_type": "markdown",
   "metadata": {},
   "source": [
    "### From a Full Plus Code"
   ]
  },
  {
   "cell_type": "markdown",
   "metadata": {},
   "source": [
    "Plus Codes can be full or short. Full Plus Codes contain all of the information needed to retrieve a location:"
   ]
  },
  {
   "cell_type": "code",
   "execution_count": null,
   "metadata": {},
   "outputs": [],
   "source": [
    "fullCode = '85FPQXGV+XH'"
   ]
  },
  {
   "cell_type": "markdown",
   "metadata": {},
   "source": [
    "An ee.Geometry.Point can be constructed from a full Plus Code using the ee.Geometry.PointFromPlusCode constructor (extended through eemont):"
   ]
  },
  {
   "cell_type": "code",
   "execution_count": null,
   "metadata": {},
   "outputs": [],
   "source": [
    "pointFromFullPlusCode = ee.Geometry.PointFromPlusCode(fullCode)"
   ]
  },
  {
   "cell_type": "markdown",
   "metadata": {},
   "source": [
    "Let's visualize out point (color blue):"
   ]
  },
  {
   "cell_type": "code",
   "execution_count": null,
   "metadata": {},
   "outputs": [],
   "source": [
    "Map.addLayer(pointFromFullPlusCode,{'color':'blue'},'Full')\n",
    "Map.centerObject(pointFromFullPlusCode,10)\n",
    "Map"
   ]
  },
  {
   "cell_type": "markdown",
   "metadata": {},
   "source": [
    "### From a Short Plus Code"
   ]
  },
  {
   "cell_type": "markdown",
   "metadata": {},
   "source": [
    "Full Plus Codes can be turned into short Codes by removing characters from the beginning of the Code and adding a nearby reference location to the end of the Code."
   ]
  },
  {
   "cell_type": "code",
   "execution_count": null,
   "metadata": {},
   "outputs": [],
   "source": [
    "shortCode = 'QXGV+XH Denver, CO, USA'"
   ]
  },
  {
   "cell_type": "markdown",
   "metadata": {},
   "source": [
    "Short Plus Codes can be more readable than full Codes, but they must be geocoded internally before use. In [eemont](https://github.com/davemlz/eemont), reference locations are geocoded using the [geopy](https://geopy.readthedocs.io/en/latest/#) package."
   ]
  },
  {
   "cell_type": "markdown",
   "metadata": {},
   "source": [
    "> NOTE: Neither eemont nor geopy are geocoding services."
   ]
  },
  {
   "cell_type": "markdown",
   "metadata": {},
   "source": [
    "An ee.Geometry.Point can also be constructed from a short Plus Code using the ee.Geometry.PointFromPlusCode constructor (extended through eemont):"
   ]
  },
  {
   "cell_type": "code",
   "execution_count": null,
   "metadata": {},
   "outputs": [],
   "source": [
    "pointFromShortPlusCode = ee.Geometry.PointFromPlusCode(shortCode, user_agent = 'eemont-tutorial-023')"
   ]
  },
  {
   "cell_type": "markdown",
   "metadata": {},
   "source": [
    "Unlike with a full Plus Code, the `user_agent` argument must be specified: This is a string describing the name of the app that is using a geocoding service (you can use here your GEE username)."
   ]
  },
  {
   "cell_type": "markdown",
   "metadata": {},
   "source": [
    "Let's visualize our point (color yellow). Notice that it represents the same location as the full Plus Code above."
   ]
  },
  {
   "cell_type": "code",
   "execution_count": null,
   "metadata": {},
   "outputs": [],
   "source": [
    "Map.addLayer(pointFromShortPlusCode,{'color':'yellow'},'Short')\n",
    "Map.centerObject(pointFromShortPlusCode,10)\n",
    "Map"
   ]
  },
  {
   "cell_type": "markdown",
   "metadata": {},
   "source": [
    "By default, the geocoding service used is `nominatim` ([Open Street Maps](https://nominatim.openstreetmap.org/ui/search.html)). But it can be modified using the `geocoder` parameter (let's use the arcgis geocoding service):"
   ]
  },
  {
   "cell_type": "code",
   "execution_count": null,
   "metadata": {},
   "outputs": [],
   "source": [
    "pointFromShortPlusCode = ee.Geometry.PointFromPlusCode(shortCode, geocoder = 'arcgis', user_agent = 'eemont-tutorial-023')"
   ]
  },
  {
   "cell_type": "markdown",
   "metadata": {},
   "source": [
    "## Creating Other Geometries (ee.Geometry)"
   ]
  },
  {
   "cell_type": "markdown",
   "metadata": {},
   "source": [
    "More complex geometries can be created from lists of full or short Plus Codes, just as they can be created from lists of latitude and longitude coordinates. The following Plus Code geometry constructors are implemented by eemont:\n",
    "- ee.Geometry.PointFromPlusCode\n",
    "- ee.Geometry.MultiPointFromPlusCodes\n",
    "- ee.Geometry.PolygonFromPlusCodes\n",
    "- ee.Geometry.MultiPolygonFromPlusCodes\n",
    "- ee.Geometry.LineStringFromPlusCodes\n",
    "- ee.Geometry.MultiLineStringFromPlusCodes\n",
    "- ee.Geometry.LinearRingFromPlusCodes\n",
    "- ee.Geometry.RectangleFromPlusCodes\n",
    "\n",
    "Let's start with a list of Plus Codes and see how we can use them to create different geometries:"
   ]
  },
  {
   "cell_type": "code",
   "execution_count": null,
   "metadata": {},
   "outputs": [],
   "source": [
    "codes = ['85FQ2222+22', '85FR2222+22', '85GR2222+22']"
   ]
  },
  {
   "cell_type": "markdown",
   "metadata": {},
   "source": [
    "The Plus Codes above represent 3 points. We can turn those 3 points into a MultiPoint:"
   ]
  },
  {
   "cell_type": "code",
   "execution_count": null,
   "metadata": {},
   "outputs": [],
   "source": [
    "multiPointFromPlusCodes = ee.Geometry.MultiPointFromPlusCodes(codes)\n",
    "Map.addLayer(multiPointFromPlusCodes, {\"color\": \"red\"}, \"MultiPoint\")\n",
    "Map.centerObject(multiPointFromPlusCodes, 8)\n",
    "Map"
   ]
  },
  {
   "cell_type": "markdown",
   "metadata": {},
   "source": [
    "Or a LineString:"
   ]
  },
  {
   "cell_type": "code",
   "execution_count": null,
   "metadata": {},
   "outputs": [],
   "source": [
    "lineStringFromPlusCodes = ee.Geometry.LineStringFromPlusCodes(codes)\n",
    "Map.addLayer(lineStringFromPlusCodes, {\"color\": \"red\"}, \"LineString\")\n",
    "Map.centerObject(lineStringFromPlusCodes, 8)\n",
    "Map"
   ]
  },
  {
   "cell_type": "markdown",
   "metadata": {},
   "source": [
    "Or a Polygon:"
   ]
  },
  {
   "cell_type": "code",
   "execution_count": null,
   "metadata": {},
   "outputs": [],
   "source": [
    "polygonFromPlusCodes = ee.Geometry.PolygonFromPlusCodes(codes)\n",
    "Map.addLayer(polygonFromPlusCodes, {\"color\": \"red\"}, \"Polygon\")\n",
    "Map.centerObject(polygonFromPlusCodes, 8)\n",
    "Map"
   ]
  },
  {
   "cell_type": "markdown",
   "metadata": {},
   "source": [
    "A nested list of lists of Plus Codes can be used to create more complex geometries."
   ]
  },
  {
   "cell_type": "code",
   "execution_count": null,
   "metadata": {},
   "outputs": [],
   "source": [
    "nestedCodes = [\n",
    "    ['85FQ2222+22', '85FR2222+22', '85GR2222+22'], \n",
    "    ['85FP8PC2+G2', '85FPJF23+G4', '85FPMW2R+RP'],\n",
    "    ['85FPRJ5W+82', '85GP3M67+CP', '85GQ2R7C+38'],\n",
    "]"
   ]
  },
  {
   "cell_type": "markdown",
   "metadata": {},
   "source": [
    "For example, we can use nested Plus Codes to create a MultiLineString:"
   ]
  },
  {
   "cell_type": "code",
   "execution_count": null,
   "metadata": {},
   "outputs": [],
   "source": [
    "multiLineStringFromPlusCodes = ee.Geometry.MultiLineStringFromPlusCodes(nestedCodes)\n",
    "Map.addLayer(multiLineStringFromPlusCodes, {\"color\": \"red\"}, \"MultiLineString\")\n",
    "Map.centerObject(multiLineStringFromPlusCodes, 8)\n",
    "Map"
   ]
  },
  {
   "cell_type": "markdown",
   "metadata": {},
   "source": [
    "Or a MultiPolygon:"
   ]
  },
  {
   "cell_type": "code",
   "execution_count": null,
   "metadata": {},
   "outputs": [],
   "source": [
    "multiPolygonFromPlusCodes = ee.Geometry.MultiPolygonFromPlusCodes(nestedCodes)\n",
    "Map.addLayer(multiPolygonFromPlusCodes, {\"color\": \"red\"}, \"MultiPolygon\")\n",
    "Map.centerObject(multiPolygonFromPlusCodes, 8)\n",
    "Map"
   ]
  },
  {
   "cell_type": "markdown",
   "metadata": {},
   "source": [
    "## Retrieving Plus Codes From Geometries or Features"
   ]
  },
  {
   "cell_type": "markdown",
   "metadata": {},
   "source": [
    "The coordinates of any ee.Geometry or ee.Feature can be retrieved as Plus Codes, regardless of whether it was created with Plus Codes or not. For example, let's [create a point from a query](https://colab.research.google.com/github/davemlz/eemont/blob/master/tutorials/010-Creating-Points-From-Queries.ipynb) and extract it's Plus Code equivalent:"
   ]
  },
  {
   "cell_type": "code",
   "execution_count": null,
   "metadata": {},
   "outputs": [],
   "source": [
    "queryPoint = ee.Geometry.PointFromQuery('London, England', user_agent='eemont-tutorial-023')\n",
    "queryPlusCode = queryPoint.plusCodes()\n",
    "\n",
    "queryPlusCode"
   ]
  },
  {
   "cell_type": "markdown",
   "metadata": {},
   "source": [
    "Let's create a Point from that Plus Code to ensure that it worked correctly:"
   ]
  },
  {
   "cell_type": "code",
   "execution_count": null,
   "metadata": {},
   "outputs": [],
   "source": [
    "pointFromQueryPlusCode = ee.Geometry.PointFromPlusCode(queryPlusCode)\n",
    "Map.addLayer(pointFromQueryPlusCode, {\"color\": \"green\"}, \"Query Point\")\n",
    "Map.centerObject(pointFromQueryPlusCode, 8)\n",
    "Map"
   ]
  }
 ],
 "metadata": {
  "kernelspec": {
   "display_name": "Python 3",
   "language": "python",
   "name": "python3"
  },
  "language_info": {
   "codemirror_mode": {
    "name": "ipython",
    "version": 3
   },
   "file_extension": ".py",
   "mimetype": "text/x-python",
   "name": "python",
   "nbconvert_exporter": "python",
   "pygments_lexer": "ipython3",
   "version": "3.7.6"
  }
 },
 "nbformat": 4,
 "nbformat_minor": 4
}
