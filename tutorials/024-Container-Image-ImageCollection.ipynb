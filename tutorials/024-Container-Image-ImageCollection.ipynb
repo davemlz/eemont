{
 "cells": [
  {
   "cell_type": "markdown",
   "id": "7fb2b19e-417a-4e1f-b00f-893b5de80d14",
   "metadata": {},
   "source": [
    "<a href=\"https://colab.research.google.com/github/davemlz/eemont/blob/master/tutorials/024-Container-Image-ImageCollection.ipynb\" target=\"_parent\"><img src=\"https://colab.research.google.com/assets/colab-badge.svg\" alt=\"Open In Colab\"/></a>"
   ]
  },
  {
   "cell_type": "markdown",
   "id": "9f533466-6973-4e5c-b737-f060c3524f7e",
   "metadata": {
    "id": "jZEthLln92Ep"
   },
   "source": [
    "# Container Emulation Methods for ee.Image and ee.ImageCollection"
   ]
  },
  {
   "cell_type": "markdown",
   "id": "93127689-63c2-43e6-bfb4-c1c6800c0cf1",
   "metadata": {
    "id": "dNa470OZ8Oec"
   },
   "source": [
    "- GitHub Repo: [https://github.com/davemlz/eemont](https://github.com/davemlz/eemont)\n",
    "- PyPI link: [https://pypi.org/project/eemont/](https://pypi.org/project/eemont/)\n",
    "- Conda-forge: [https://anaconda.org/conda-forge/eemont](https://anaconda.org/conda-forge/eemont)\n",
    "- Documentation: [https://eemont.readthedocs.io/](https://eemont.readthedocs.io/)\n",
    "- More tutorials: [https://github.com/davemlz/eemont/tree/master/tutorials](https://github.com/davemlz/eemont/tree/master/tutorials)"
   ]
  },
  {
   "cell_type": "markdown",
   "id": "7de8c124-97ba-42c3-903d-5b95b225a4b2",
   "metadata": {
    "id": "CD7h0hbi92Er"
   },
   "source": [
    "## Let's start!"
   ]
  },
  {
   "cell_type": "markdown",
   "id": "e7ad09ab-191d-452f-9563-e43de8707bf1",
   "metadata": {
    "id": "E0rc6Cya92Es"
   },
   "source": [
    "If required, please uncomment:"
   ]
  },
  {
   "cell_type": "code",
   "execution_count": null,
   "id": "603116ba-0caf-4c67-8159-005a7466980f",
   "metadata": {
    "id": "NYzyvKtk92Es"
   },
   "outputs": [],
   "source": [
    "#!pip install eemont\n",
    "#!pip install geemap"
   ]
  },
  {
   "cell_type": "markdown",
   "id": "082511a2-613b-4d14-b80a-ce8952aa7148",
   "metadata": {
    "id": "x3Rm3qt_92Et"
   },
   "source": [
    "Import the required packges."
   ]
  },
  {
   "cell_type": "code",
   "execution_count": null,
   "id": "6d8cbbd3-3d8d-464c-a275-20dd6ed053d8",
   "metadata": {
    "id": "H0C9S_Hh92Et"
   },
   "outputs": [],
   "source": [
    "import ee, eemont, geemap\n",
    "import geemap.colormaps as cm"
   ]
  },
  {
   "cell_type": "markdown",
   "id": "ed1d607b-9adc-4a02-aed1-294cead3b691",
   "metadata": {
    "id": "k1sdX2p592Eu"
   },
   "source": [
    "Authenticate and Initialize Earth Engine and geemap."
   ]
  },
  {
   "cell_type": "code",
   "execution_count": null,
   "id": "112e0500-288d-4b4b-824d-96112aebb66b",
   "metadata": {
    "id": "7QDXqVwy8Oef"
   },
   "outputs": [],
   "source": [
    "Map = geemap.Map()"
   ]
  },
  {
   "cell_type": "markdown",
   "id": "cc8e6b58-a31a-4ab1-b61b-dabbe4aa3761",
   "metadata": {},
   "source": [
    "Let's define a point of interest:"
   ]
  },
  {
   "cell_type": "code",
   "execution_count": null,
   "id": "93974da2-4135-4051-92e1-0e8a9b0760b8",
   "metadata": {},
   "outputs": [],
   "source": [
    "poi = ee.Geometry.PointFromQuery(\"Oporto, Portugal\",user_agent = \"eemont-tutorial-024\")"
   ]
  },
  {
   "cell_type": "markdown",
   "id": "0cbbb5c0-3ce9-4ea1-adef-987155b43a5c",
   "metadata": {},
   "source": [
    "Let's work with Sentinel-2 SR:"
   ]
  },
  {
   "cell_type": "code",
   "execution_count": null,
   "id": "344e4441-71d6-44de-b659-b36c77fb213c",
   "metadata": {},
   "outputs": [],
   "source": [
    "S2 = (ee.ImageCollection(\"COPERNICUS/S2_SR\")\n",
    "      .filterBounds(poi)\n",
    "      .filterDate(\"2020-01-01\",\"2020-07-01\")\n",
    "      .preprocess()\n",
    "      .spectralIndices())"
   ]
  },
  {
   "cell_type": "markdown",
   "id": "0f675c86-e621-4fc2-8c1f-5b7370a1222f",
   "metadata": {},
   "source": [
    "## Container Emulation Methods"
   ]
  },
  {
   "cell_type": "markdown",
   "id": "ad3b59cd-d7d3-4a77-80d4-5dbec309baa0",
   "metadata": {},
   "source": [
    "### ee.ImageCollection"
   ]
  },
  {
   "cell_type": "markdown",
   "id": "70953b32-69e5-42e2-b6ba-3e59c1e84b35",
   "metadata": {},
   "source": [
    "If you want to know how many images has the image collection, you can use `len()`:"
   ]
  },
  {
   "cell_type": "code",
   "execution_count": null,
   "id": "f7c4e36c-2283-4194-a642-f0b8e2946add",
   "metadata": {},
   "outputs": [],
   "source": [
    "len(S2)"
   ]
  },
  {
   "cell_type": "markdown",
   "id": "1c1c3ce4-e107-480d-8925-4bdbfdccb2fa",
   "metadata": {},
   "source": [
    "If you want to select specific bands from the collection, you can use `collection[band]` or `collection[[band1,band2,...,bandn]]`:"
   ]
  },
  {
   "cell_type": "code",
   "execution_count": null,
   "id": "5c834cd5-f413-411f-849e-ca4a7f0c97e4",
   "metadata": {},
   "outputs": [],
   "source": [
    "RGB = S2[[\"B2\",\"B3\",\"B4\"]]"
   ]
  },
  {
   "cell_type": "markdown",
   "id": "9240957d-a710-4b56-80c5-4f02ed9292a4",
   "metadata": {},
   "source": [
    "You can also do this by using band indices:"
   ]
  },
  {
   "cell_type": "code",
   "execution_count": null,
   "id": "b1f13bdc-02f0-4405-be1f-5ea291947f90",
   "metadata": {},
   "outputs": [],
   "source": [
    "RGB = S2[[1,2,3]]"
   ]
  },
  {
   "cell_type": "markdown",
   "id": "92143467-46a0-4b4c-abd1-a56b637bb45b",
   "metadata": {},
   "source": [
    "Or regex:"
   ]
  },
  {
   "cell_type": "code",
   "execution_count": null,
   "id": "93aeed7b-2b71-4cea-8fc2-4d10ae680f1b",
   "metadata": {},
   "outputs": [],
   "source": [
    "RGB = S2[\"B[2-4]\"]"
   ]
  },
  {
   "cell_type": "markdown",
   "id": "f59e85ef-c244-43a0-8b3f-25da3e1612da",
   "metadata": {},
   "source": [
    "Or even better: slices!"
   ]
  },
  {
   "cell_type": "code",
   "execution_count": null,
   "id": "5f3c2047-58c8-4baa-8ee5-5ef83cfc4d14",
   "metadata": {},
   "outputs": [],
   "source": [
    "RGB = S2[1:4]"
   ]
  },
  {
   "cell_type": "markdown",
   "id": "9d348ca8-1d18-4856-91ac-f502bfa6b1a6",
   "metadata": {},
   "source": [
    "Create a composite by using container emulation methods!"
   ]
  },
  {
   "cell_type": "code",
   "execution_count": null,
   "id": "b5f67b25-b977-4bcc-9b76-f4d5daaa04bd",
   "metadata": {},
   "outputs": [],
   "source": [
    "Map = geemap.Map()\n",
    "Map.addLayer(S2[[3,2,1]].median(),{\"min\":0,\"max\":0.3},\"RGB\")\n",
    "Map.centerObject(poi)\n",
    "Map"
   ]
  },
  {
   "cell_type": "markdown",
   "id": "34b9261d-478f-4a07-af14-975f14c56958",
   "metadata": {},
   "source": [
    "If you want to select images from a collection, convert the collection to a list and use container emulation methods!\n",
    "\n",
    "We are going to select the first, the third, and the fifth images from the collection.\n",
    "\n",
    "First, let's convert the collection to a list:"
   ]
  },
  {
   "cell_type": "code",
   "execution_count": null,
   "id": "949c010e-a275-4492-a04a-e5d78897daa1",
   "metadata": {},
   "outputs": [],
   "source": [
    "S2list = S2.toList(S2.size())"
   ]
  },
  {
   "cell_type": "markdown",
   "id": "449afa94-f753-409e-ab02-67b9c37e0856",
   "metadata": {},
   "source": [
    "Then, we can select the images!"
   ]
  },
  {
   "cell_type": "code",
   "execution_count": null,
   "id": "e1397e38-8cd5-4d65-ba98-eb3ba4107e61",
   "metadata": {},
   "outputs": [],
   "source": [
    "S2selected = S2list[[0,2,4]]"
   ]
  },
  {
   "cell_type": "markdown",
   "id": "86a99777-9e6d-47ae-9586-64bd0b18c90c",
   "metadata": {},
   "source": [
    "Now we have three images in the `S2selected` list:"
   ]
  },
  {
   "cell_type": "code",
   "execution_count": null,
   "id": "4ec49f42-7a7f-4319-acc8-6fe0d018684b",
   "metadata": {},
   "outputs": [],
   "source": [
    "len(S2selected)"
   ]
  },
  {
   "cell_type": "markdown",
   "id": "7610d285-559b-4b4c-aeb9-f4663ec46220",
   "metadata": {},
   "source": [
    "Now, let's select all images from the 21st until the end.\n",
    "\n",
    "Psst! We can use slices!"
   ]
  },
  {
   "cell_type": "code",
   "execution_count": null,
   "id": "2e5383f8-9060-4d6f-a967-c18e8104441e",
   "metadata": {},
   "outputs": [],
   "source": [
    "S2selected = S2list[20:]"
   ]
  },
  {
   "cell_type": "markdown",
   "id": "22088027-02ce-4af7-9a2f-8f2b04b2e874",
   "metadata": {},
   "source": [
    "Let's see how many images do we have!"
   ]
  },
  {
   "cell_type": "code",
   "execution_count": null,
   "id": "778c2a0b-a717-4cd1-aab2-b1bbd8ad67de",
   "metadata": {},
   "outputs": [],
   "source": [
    "len(S2selected)"
   ]
  },
  {
   "cell_type": "markdown",
   "id": "e3e1d6f9-b0d1-49b9-ae97-174eb3f4b12a",
   "metadata": {},
   "source": [
    "If we don't want the last images to be selected, we can use negative indices! Here an example:"
   ]
  },
  {
   "cell_type": "code",
   "execution_count": null,
   "id": "8fe43157-da23-4c47-991a-874fe4bb9e34",
   "metadata": {},
   "outputs": [],
   "source": [
    "S2selected = S2list[20:-5]"
   ]
  },
  {
   "cell_type": "markdown",
   "id": "0c7ec232-d71e-4644-bd09-d8f1cb61bb17",
   "metadata": {},
   "source": [
    "Now, let's see how many images do we have in the list now!"
   ]
  },
  {
   "cell_type": "code",
   "execution_count": null,
   "id": "0e78f73e-3a05-4fc3-ad01-096b1b297a86",
   "metadata": {},
   "outputs": [],
   "source": [
    "len(S2selected)"
   ]
  },
  {
   "cell_type": "markdown",
   "id": "576b99f1-3524-420f-a0ae-a723b1be12c0",
   "metadata": {},
   "source": [
    "But they're ee.Image objects inside an ee.List object. We can leave it that way, or we can convert them into an ee.ImageCollection object!"
   ]
  },
  {
   "cell_type": "code",
   "execution_count": null,
   "id": "59920a02-1d9d-47f6-a2b2-cb64b325530b",
   "metadata": {},
   "outputs": [],
   "source": [
    "S2selected = ee.ImageCollection(S2selected)"
   ]
  },
  {
   "cell_type": "markdown",
   "id": "10f06220-ecbb-4264-a37a-fe583535c78f",
   "metadata": {},
   "source": [
    "### ee.Image"
   ]
  },
  {
   "cell_type": "markdown",
   "id": "425c0626-df7d-4429-8ac7-c4e56e7f8b57",
   "metadata": {},
   "source": [
    "We can also select bands for an ee.Image object!"
   ]
  },
  {
   "cell_type": "code",
   "execution_count": null,
   "id": "37f9985e-1f99-4123-87b9-d0b02cbedd75",
   "metadata": {},
   "outputs": [],
   "source": [
    "S2img = S2.first()"
   ]
  },
  {
   "cell_type": "markdown",
   "id": "fff573ab-bc49-462c-b9c1-fd894d024111",
   "metadata": {},
   "source": [
    "Let's select the NDVI:"
   ]
  },
  {
   "cell_type": "code",
   "execution_count": null,
   "id": "96afa8f6-68b6-433c-af37-336662e49dcc",
   "metadata": {},
   "outputs": [],
   "source": [
    "NDVI = S2img['NDVI']"
   ]
  },
  {
   "cell_type": "markdown",
   "id": "2c3afa9e-81af-4218-8dd3-df9ec2a40e3c",
   "metadata": {},
   "source": [
    "Or let's select the RGB bands using slices!"
   ]
  },
  {
   "cell_type": "code",
   "execution_count": null,
   "id": "1f8471d1-86e6-46ec-bca2-87db42c55d72",
   "metadata": {},
   "outputs": [],
   "source": [
    "RGBimg = S2img[1:4]"
   ]
  },
  {
   "cell_type": "markdown",
   "id": "9614fb9c-dc31-4061-ae74-90d6c3e97bf7",
   "metadata": {},
   "source": [
    "The same rules for ee.ImageCollection apply for the ee.Image object class!\n",
    "\n",
    "Let's visualize the NDVI for Oporto!"
   ]
  },
  {
   "cell_type": "code",
   "execution_count": null,
   "id": "46b8e251-8528-49b5-b6d1-747300879592",
   "metadata": {},
   "outputs": [],
   "source": [
    "Map = geemap.Map()\n",
    "Map.addLayer(S2img[\"NDVI\"],{\"min\":0,\"max\":1,\"palette\":cm.palettes.ndvi},\"NDVI\")\n",
    "Map.centerObject(poi)\n",
    "Map"
   ]
  }
 ],
 "metadata": {
  "kernelspec": {
   "display_name": "Python 3",
   "language": "python",
   "name": "python3"
  },
  "language_info": {
   "codemirror_mode": {
    "name": "ipython",
    "version": 3
   },
   "file_extension": ".py",
   "mimetype": "text/x-python",
   "name": "python",
   "nbconvert_exporter": "python",
   "pygments_lexer": "ipython3",
   "version": "3.9.4"
  }
 },
 "nbformat": 4,
 "nbformat_minor": 5
}
