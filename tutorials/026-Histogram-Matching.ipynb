{
 "cells": [
  {
   "cell_type": "markdown",
   "id": "d9e0b435",
   "metadata": {},
   "source": [
    "<a href=\"https://colab.research.google.com/github/davemlz/eemont/blob/master/tutorials/026-Histogram-Matching.ipynb\" target=\"_parent\"><img src=\"https://colab.research.google.com/assets/colab-badge.svg\" alt=\"Open In Colab\"/></a>"
   ]
  },
  {
   "cell_type": "markdown",
   "id": "818ebd1a",
   "metadata": {},
   "source": [
    "# Histogram Matching\n",
    "_Tutorial created by_ [Aaron Zuspan](https://github.com/aazuspan)"
   ]
  },
  {
   "cell_type": "markdown",
   "id": "46914afd",
   "metadata": {},
   "source": [
    "- GitHub Repo: [https://github.com/davemlz/eemont](https://github.com/davemlz/eemont)\n",
    "- PyPI link: [https://pypi.org/project/eemont/](https://pypi.org/project/eemont/)\n",
    "- Conda-forge: [https://anaconda.org/conda-forge/eemont](https://anaconda.org/conda-forge/eemont)\n",
    "- Documentation: [https://eemont.readthedocs.io/](https://eemont.readthedocs.io/)\n",
    "- More tutorials: [https://github.com/davemlz/eemont/tree/master/tutorials](https://github.com/davemlz/eemont/tree/master/tutorials)"
   ]
  },
  {
   "cell_type": "markdown",
   "id": "8ca0072b",
   "metadata": {
    "id": "CD7h0hbi92Er"
   },
   "source": [
    "## Let's start!"
   ]
  },
  {
   "cell_type": "markdown",
   "id": "24a4515a",
   "metadata": {
    "id": "E0rc6Cya92Es"
   },
   "source": [
    "If required, please uncomment:"
   ]
  },
  {
   "cell_type": "code",
   "execution_count": null,
   "id": "23bfc645",
   "metadata": {
    "id": "NYzyvKtk92Es"
   },
   "outputs": [],
   "source": [
    "# !pip install eemont\n",
    "# !pip install geemap"
   ]
  },
  {
   "cell_type": "markdown",
   "id": "41194593",
   "metadata": {},
   "source": [
    "Import the required packges."
   ]
  },
  {
   "cell_type": "code",
   "execution_count": null,
   "id": "598be9a6",
   "metadata": {
    "id": "H0C9S_Hh92Et"
   },
   "outputs": [],
   "source": [
    "import ee, eemont, geemap"
   ]
  },
  {
   "cell_type": "markdown",
   "id": "bafef33d",
   "metadata": {
    "id": "k1sdX2p592Eu"
   },
   "source": [
    "Authenticate and Initialize Earth Engine and geemap."
   ]
  },
  {
   "cell_type": "code",
   "execution_count": null,
   "id": "849e2764",
   "metadata": {
    "id": "7QDXqVwy8Oef"
   },
   "outputs": [],
   "source": [
    "Map = geemap.Map()"
   ]
  },
  {
   "cell_type": "markdown",
   "id": "ba6ed836",
   "metadata": {},
   "source": [
    "## Matching Landsat 5 to Landsat 8"
   ]
  },
  {
   "cell_type": "markdown",
   "id": "c44bf080",
   "metadata": {},
   "source": [
    "Histogram matching performs band-wise adjustments to match the spectral characteristics of one image to an overlapping image. It can be used for images taken at different times or by different sensors to allow comparisons. \n",
    "\n",
    "In this example we'll match a Landsat 5 image to a Landsat 8 image. We'll use images from different seasons to demonstrate a dramatic example of histogram adjustment, but note that __significant changes between images such as land cover, seasonality, or clouds and snow may create inaccurate imagery.__"
   ]
  },
  {
   "cell_type": "markdown",
   "id": "1666e2aa",
   "metadata": {},
   "source": [
    "Load and visualize a Landsat 5 image from winter of 2011."
   ]
  },
  {
   "cell_type": "code",
   "execution_count": null,
   "id": "2017f825",
   "metadata": {},
   "outputs": [],
   "source": [
    "source = ee.Image(\"LANDSAT/LT05/C01/T1_SR/LT05_195028_20110208\")\n",
    "\n",
    "Map.addLayer(source, {\"min\": 170, \"max\": 2110, \"bands\": [\"B3\", \"B2\", \"B1\"]}, \"Landsat 5 - Source\")\n",
    "pt = ee.Geometry.Point([6.6346, 46.6989])\n",
    "Map.centerObject(pt, zoom=12)\n",
    "Map"
   ]
  },
  {
   "cell_type": "markdown",
   "id": "8b896ad5",
   "metadata": {},
   "source": [
    "Load a Landsat 8 image from the same location in summer of 2018. Notice how the Landsat 8 image is much greener."
   ]
  },
  {
   "cell_type": "code",
   "execution_count": null,
   "id": "5848fd20",
   "metadata": {},
   "outputs": [],
   "source": [
    "target = ee.Image(\"LANDSAT/LC08/C02/T1_L2/LC08_196027_20130714\")\n",
    "Map.addLayer(target, {\"min\": 7800, \"max\": 13700, \"bands\": [\"SR_B4\", \"SR_B3\", \"SR_B2\"]}, \"Landsat 8 - Target\")\n",
    "Map"
   ]
  },
  {
   "cell_type": "markdown",
   "id": "a19a0f7b",
   "metadata": {},
   "source": [
    "Specify a region to match histograms within. Image histograms will be calculated within this region, so choose an area that is representative of each image and that does not contain clouds. If no geometry is provided, the full source image will be used. We'll visualize the region later using an outline."
   ]
  },
  {
   "cell_type": "code",
   "execution_count": null,
   "id": "2ee994b4",
   "metadata": {},
   "outputs": [],
   "source": [
    "region = ee.Geometry.Polygon(\n",
    "    [[[6.499245, 46.640447],\n",
    "      [6.499245, 46.763351],\n",
    "      [6.779451, 46.763351],\n",
    "      [6.779451, 46.640447],\n",
    "      [6.499245, 46.640447]]]\n",
    ")\n",
    "\n",
    "regionOutline = ee.Image().byte().paint(featureCollection=region, color=1, width=1)"
   ]
  },
  {
   "cell_type": "markdown",
   "id": "002d9888",
   "metadata": {},
   "source": [
    "Specify the corresponding band pairs to match using a dictionary with the source bands as keys and the target bands as values. Only the bands specified will be matched and included in the output image. If you're not sure which bands correspond between platforms, try checking the band descriptions in the [Earth Engine Data Catalog](https://developers.google.com/earth-engine/datasets) or use [`ee.Image.getSTAC()`](https://colab.research.google.com/github/davemlz/eemont/blob/master/tutorials/019-Checking-STAC-Info.ipynb)."
   ]
  },
  {
   "cell_type": "code",
   "execution_count": null,
   "id": "ce6e5f8d",
   "metadata": {},
   "outputs": [],
   "source": [
    "bands = {\n",
    "    # Red\n",
    "    \"B3\": \"SR_B4\",\n",
    "    # Green\n",
    "    \"B2\": \"SR_B3\",\n",
    "    # Blue\n",
    "    \"B1\": \"SR_B2\"\n",
    "}"
   ]
  },
  {
   "cell_type": "markdown",
   "id": "da628983",
   "metadata": {},
   "source": [
    "Histogram-match the Landsat 5 image to the Landsat 8 image and visualize the result. Notice how the adjusted Landsat 5 image is much greener, matching the Landsat 8 image."
   ]
  },
  {
   "cell_type": "code",
   "execution_count": null,
   "id": "2327b6d2",
   "metadata": {},
   "outputs": [],
   "source": [
    "matched = source.matchHistogram(target, bands, geometry=region)\n",
    "Map.addLayer(matched, {\"min\": 7800, \"max\": 13700, \"bands\": [\"B3\", \"B2\", \"B1\"]}, \"Landsat 5 - Matched\")\n",
    "Map.addLayer(regionOutline, {\"palette\": \"#00FFFF\"}, \"Region\")\n",
    "Map"
   ]
  },
  {
   "cell_type": "markdown",
   "id": "102c7ff2",
   "metadata": {},
   "source": [
    "## Matching Sentinel-2 to MODIS"
   ]
  },
  {
   "cell_type": "markdown",
   "id": "ee991d1a",
   "metadata": {},
   "source": [
    "Create a fresh map."
   ]
  },
  {
   "cell_type": "code",
   "execution_count": null,
   "id": "3a3d783c",
   "metadata": {},
   "outputs": [],
   "source": [
    "Map = geemap.Map()"
   ]
  },
  {
   "cell_type": "markdown",
   "id": "67bafe52",
   "metadata": {},
   "source": [
    "In this example, we'll match the histogram of a Sentinel-2 image to a MODIS image taken on a similar date to minimize atmospheric effects in the Sentinel image. First, we'll load the MODIS imagery."
   ]
  },
  {
   "cell_type": "code",
   "execution_count": null,
   "id": "49c50883",
   "metadata": {},
   "outputs": [],
   "source": [
    "target = ee.Image(\"MODIS/006/MOD09A1/2018_08_05\")\n",
    "Map.addLayer(target, {\"min\": 600, \"max\": 4000, \"bands\": [\"sur_refl_b01\", \"sur_refl_b04\", \"sur_refl_b03\"]}, \"MODIS - Source\")\n",
    "pt = ee.Geometry.Point([29.4450, 12.9945])\n",
    "Map.centerObject(pt, zoom=9)\n",
    "Map"
   ]
  },
  {
   "cell_type": "markdown",
   "id": "19256e53",
   "metadata": {},
   "source": [
    "Next, we'll load a Sentinel-2 image. Notice how the colors do not match the MODIS image."
   ]
  },
  {
   "cell_type": "code",
   "execution_count": null,
   "id": "4c09f898",
   "metadata": {},
   "outputs": [],
   "source": [
    "source = ee.Image(\"COPERNICUS/S2/20180923T081641_20180923T083023_T35PQQ\")\n",
    "Map.addLayer(source, {\"min\": 600, \"max\": 4000, \"bands\": [\"B4\", \"B3\", \"B2\"]}, \"Sentinel-2 - Source\")\n",
    "Map"
   ]
  },
  {
   "cell_type": "markdown",
   "id": "0b196da5",
   "metadata": {},
   "source": [
    "Specify which band pairs to match."
   ]
  },
  {
   "cell_type": "code",
   "execution_count": null,
   "id": "daf60406",
   "metadata": {},
   "outputs": [],
   "source": [
    "bands = {\n",
    "    # Red\n",
    "    \"B4\": \"sur_refl_b01\",\n",
    "    # Green\n",
    "    \"B3\": \"sur_refl_b04\",\n",
    "    # Blue\n",
    "    \"B2\": \"sur_refl_b03\"\n",
    "}"
   ]
  },
  {
   "cell_type": "markdown",
   "id": "b586839f",
   "metadata": {},
   "source": [
    "Histogram-match the Sentinel-2 image to the MODIS image. Because we're not specifying a region, the entire Sentinel-2 image footprint will be used for matching. \n",
    "\n",
    "Notice how the matched image now blends in with the MODIS image."
   ]
  },
  {
   "cell_type": "code",
   "execution_count": null,
   "id": "32a2dda5",
   "metadata": {},
   "outputs": [],
   "source": [
    "matched = source.matchHistogram(target, bands)\n",
    "Map.addLayer(matched, {\"min\": 600, \"max\": 4000, \"bands\": [\"B4\", \"B3\", \"B2\"]}, \"Sentinel-2 - Matched\")\n",
    "Map"
   ]
  }
 ],
 "metadata": {
  "kernelspec": {
   "display_name": "Python 3",
   "language": "python",
   "name": "python3"
  },
  "language_info": {
   "codemirror_mode": {
    "name": "ipython",
    "version": 3
   },
   "file_extension": ".py",
   "mimetype": "text/x-python",
   "name": "python",
   "nbconvert_exporter": "python",
   "pygments_lexer": "ipython3",
   "version": "3.9.2"
  }
 },
 "nbformat": 4,
 "nbformat_minor": 5
}
