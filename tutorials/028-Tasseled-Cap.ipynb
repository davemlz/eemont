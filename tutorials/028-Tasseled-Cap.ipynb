{
 "cells": [
  {
   "cell_type": "markdown",
   "id": "2b75c0f2",
   "metadata": {},
   "source": [
    "<a href=\"https://colab.research.google.com/github/davemlz/eemont/blob/master/tutorials/028-Tasseled-Cap.ipynb\" target=\"_parent\"><img src=\"https://colab.research.google.com/assets/colab-badge.svg\" alt=\"Open In Colab\"/></a>"
   ]
  },
  {
   "cell_type": "markdown",
   "id": "c747a6b1",
   "metadata": {},
   "source": [
    "# Tasseled Cap\n",
    "_Tutorial created by_ [Aaron Zuspan](https://github.com/aazuspan)"
   ]
  },
  {
   "cell_type": "markdown",
   "id": "c3e6635d",
   "metadata": {},
   "source": [
    "- GitHub Repo: [https://github.com/davemlz/eemont](https://github.com/davemlz/eemont)\n",
    "- PyPI link: [https://pypi.org/project/eemont/](https://pypi.org/project/eemont/)\n",
    "- Conda-forge: [https://anaconda.org/conda-forge/eemont](https://anaconda.org/conda-forge/eemont)\n",
    "- Documentation: [https://eemont.readthedocs.io/](https://eemont.readthedocs.io/)\n",
    "- More tutorials: [https://github.com/davemlz/eemont/tree/master/tutorials](https://github.com/davemlz/eemont/tree/master/tutorials)"
   ]
  },
  {
   "cell_type": "markdown",
   "id": "8ca0072b",
   "metadata": {
    "id": "CD7h0hbi92Er"
   },
   "source": [
    "## Let's start!"
   ]
  },
  {
   "cell_type": "markdown",
   "id": "24a4515a",
   "metadata": {
    "id": "E0rc6Cya92Es"
   },
   "source": [
    "If required, please uncomment:"
   ]
  },
  {
   "cell_type": "code",
   "execution_count": null,
   "id": "23bfc645",
   "metadata": {
    "id": "NYzyvKtk92Es"
   },
   "outputs": [],
   "source": [
    "# !pip install eemont\n",
    "# !pip install geemap"
   ]
  },
  {
   "cell_type": "markdown",
   "id": "41194593",
   "metadata": {},
   "source": [
    "Import the required packges."
   ]
  },
  {
   "cell_type": "code",
   "execution_count": 1,
   "id": "598be9a6",
   "metadata": {
    "id": "H0C9S_Hh92Et"
   },
   "outputs": [],
   "source": [
    "import ee, eemont, geemap"
   ]
  },
  {
   "cell_type": "markdown",
   "id": "bafef33d",
   "metadata": {
    "id": "k1sdX2p592Eu"
   },
   "source": [
    "Authenticate and Initialize Earth Engine and geemap."
   ]
  },
  {
   "cell_type": "code",
   "execution_count": 2,
   "id": "849e2764",
   "metadata": {
    "id": "7QDXqVwy8Oef"
   },
   "outputs": [],
   "source": [
    "Map = geemap.Map()"
   ]
  },
  {
   "cell_type": "markdown",
   "id": "b564eaeb",
   "metadata": {},
   "source": [
    "Tassled cap brightness, greenness, and wetness components can be calculated in `eemont` using the `tasseledCap` method extended to `ee.Image` and `ee.ImageCollection` objects. Just load imagery from a supported platform and use `tasseledCap` to add the component bands."
   ]
  },
  {
   "cell_type": "markdown",
   "id": "513ce22e",
   "metadata": {},
   "source": [
    "## Sentinel-2"
   ]
  },
  {
   "cell_type": "code",
   "execution_count": 3,
   "id": "aba09e62",
   "metadata": {},
   "outputs": [],
   "source": [
    "img = ee.Image(\"COPERNICUS/S2/20160111T112432_20160111T113311_T28PDT\").tasseledCap()"
   ]
  },
  {
   "cell_type": "markdown",
   "id": "1757f65d",
   "metadata": {},
   "source": [
    "By looking at the band names, we can see that running `tasseledCap` returned our image with brightness (TCB), greenness (TCG), and wetness (TCW) bands added."
   ]
  },
  {
   "cell_type": "code",
   "execution_count": 4,
   "id": "6898d311",
   "metadata": {},
   "outputs": [
    {
     "data": {
      "text/plain": [
       "['B1',\n",
       " 'B2',\n",
       " 'B3',\n",
       " 'B4',\n",
       " 'B5',\n",
       " 'B6',\n",
       " 'B7',\n",
       " 'B8',\n",
       " 'B8A',\n",
       " 'B9',\n",
       " 'B10',\n",
       " 'B11',\n",
       " 'B12',\n",
       " 'TCB',\n",
       " 'TCG',\n",
       " 'TCW']"
      ]
     },
     "execution_count": 4,
     "metadata": {},
     "output_type": "execute_result"
    }
   ],
   "source": [
    "img.bandNames().getInfo()"
   ]
  },
  {
   "cell_type": "markdown",
   "id": "9aacab97",
   "metadata": {},
   "source": [
    "Now we can visualize the tasseled cap components. By assigning brightness, greenness, and wetness to the red, green, and blue channels, respectively, soil and developments will appear red, vegetation will appear green, and water will appear blue."
   ]
  },
  {
   "cell_type": "code",
   "execution_count": 5,
   "id": "f6b5a1bb",
   "metadata": {
    "scrolled": false
   },
   "outputs": [
    {
     "data": {
      "application/vnd.jupyter.widget-view+json": {
       "model_id": "023c5e2708ef4bd9b28f9f94cc0c14f4",
       "version_major": 2,
       "version_minor": 0
      },
      "text/plain": [
       "Map(center=[11.263334863301033, -15.41364498211138], controls=(WidgetControl(options=['position', 'transparent…"
      ]
     },
     "metadata": {},
     "output_type": "display_data"
    }
   ],
   "source": [
    "Map.addLayer(img, {\"min\": [-1000, -1000, -100], \"max\": [9000, 2000, 800], \"bands\": [\"TCB\", \"TCG\", \"TCW\"]}, \"S2 TC\")\n",
    "Map.centerObject(img, 10)\n",
    "\n",
    "Map"
   ]
  },
  {
   "cell_type": "markdown",
   "id": "c11d7a5b",
   "metadata": {},
   "source": [
    "Notice that we had to set different `min` and `max` stretch values for the different components. You may have to experiment with these values to achieve good visual results depending on the dataset and scene."
   ]
  },
  {
   "cell_type": "markdown",
   "id": "8e0c8461",
   "metadata": {},
   "source": [
    "## MODIS"
   ]
  },
  {
   "cell_type": "markdown",
   "id": "c93c7458",
   "metadata": {},
   "source": [
    "Let's look at another tasseled cap example with a different dataset: MODIS."
   ]
  },
  {
   "cell_type": "markdown",
   "id": "11e8425e",
   "metadata": {},
   "source": [
    "Create a fresh map."
   ]
  },
  {
   "cell_type": "code",
   "execution_count": 6,
   "id": "874acca3",
   "metadata": {},
   "outputs": [],
   "source": [
    "Map = geemap.Map()"
   ]
  },
  {
   "cell_type": "markdown",
   "id": "297af53f",
   "metadata": {},
   "source": [
    "Load an image from the MODIS NBAR collection and add tasseled cap components."
   ]
  },
  {
   "cell_type": "code",
   "execution_count": 7,
   "id": "c89a491b",
   "metadata": {},
   "outputs": [],
   "source": [
    "modis = ee.Image(\"MODIS/006/MCD43A4/2020_05_01\").tasseledCap()"
   ]
  },
  {
   "cell_type": "markdown",
   "id": "d38e875e",
   "metadata": {},
   "source": [
    "And visualize the components."
   ]
  },
  {
   "cell_type": "code",
   "execution_count": 8,
   "id": "23dd355b",
   "metadata": {},
   "outputs": [
    {
     "data": {
      "application/vnd.jupyter.widget-view+json": {
       "model_id": "37c133ebc4db405fb4a96f5905d14a30",
       "version_major": 2,
       "version_minor": 0
      },
      "text/plain": [
       "Map(center=[-25.1, 134.7], controls=(WidgetControl(options=['position', 'transparent_bg'], widget=HBox(childre…"
      ]
     },
     "metadata": {},
     "output_type": "display_data"
    }
   ],
   "source": [
    "Map.addLayer(modis, {\"min\": [-1000, -1000, -100], \"max\": [9000, 2000, 800], \"bands\": [\"TCB\", \"TCG\", \"TCW\"]}, \"MODIS TC\")\n",
    "\n",
    "# Zoom in on a fixed point\n",
    "pt = ee.Geometry.Point((134.7, -25.1))\n",
    "Map.centerObject(pt, 4)\n",
    "\n",
    "Map"
   ]
  }
 ],
 "metadata": {
  "kernelspec": {
   "display_name": "Python 3 (ipykernel)",
   "language": "python",
   "name": "python3"
  },
  "language_info": {
   "codemirror_mode": {
    "name": "ipython",
    "version": 3
   },
   "file_extension": ".py",
   "mimetype": "text/x-python",
   "name": "python",
   "nbconvert_exporter": "python",
   "pygments_lexer": "ipython3",
   "version": "3.9.7"
  }
 },
 "nbformat": 4,
 "nbformat_minor": 5
}
